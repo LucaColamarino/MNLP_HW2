{
 "cells": [
  {
   "cell_type": "markdown",
   "id": "ccca1c5a",
   "metadata": {},
   "source": [
    "# NLLB use for translation task "
   ]
  },
  {
   "cell_type": "markdown",
   "id": "4f810189",
   "metadata": {},
   "source": [
    "# Import Libraries"
   ]
  },
  {
   "cell_type": "code",
   "execution_count": null,
   "id": "6e442245",
   "metadata": {},
   "outputs": [],
   "source": [
    "from transformers import AutoTokenizer, AutoModelForCausalLM, pipeline,DataCollatorForSeq2Seq,EarlyStoppingCallback, TrainingArguments,AutoModelForSeq2SeqLM, Seq2SeqTrainer, Seq2SeqTrainingArguments,TrainerCallback, Trainer, DataCollatorForLanguageModeling, logging\n",
    "import pandas as pd\n",
    "import json\n",
    "from sklearn.metrics import cohen_kappa_score\n",
    "import torch\n",
    "from tqdm.notebook import tqdm\n",
    "import os\n",
    "from huggingface_hub import login\n",
    "from datasets import load_dataset"
   ]
  },
  {
   "cell_type": "markdown",
   "id": "5c32c29e",
   "metadata": {},
   "source": [
    "# Paths "
   ]
  },
  {
   "cell_type": "code",
   "execution_count": null,
   "id": "bd128e9f",
   "metadata": {},
   "outputs": [],
   "source": [
    "dataset_folder = \"inputs/dataset_concatenato.csv\" # path to the concatenated dataset\n",
    "\n",
    "dataset_cleaned_folder = \"inputs/dataset.csv\" # path to the cleaned dataset\n",
    "\n",
    "path_NNLB=\"Models/nllb/nllb-finetuned-antico-moderno\" # path to the NLLB model\n",
    "\n",
    "path_translations=\"outputs\" # path to save the translations"
   ]
  },
  {
   "cell_type": "markdown",
   "id": "b458768c",
   "metadata": {},
   "source": [
    "# Load Datasets"
   ]
  },
  {
   "cell_type": "code",
   "execution_count": null,
   "id": "f05033b8",
   "metadata": {},
   "outputs": [],
   "source": [
    "dataset = load_dataset(\"csv\", data_files=dataset_folder)[\"train\"] # Load the dataset from the CSV file\n",
    "dataset = dataset.train_test_split(test_size=0.3) # Split the dataset into training and test sets"
   ]
  },
  {
   "cell_type": "code",
   "execution_count": null,
   "id": "4e435cbd",
   "metadata": {},
   "outputs": [],
   "source": [
    "device = torch.device(\"cuda\" if torch.cuda.is_available() else \"cpu\") "
   ]
  },
  {
   "cell_type": "code",
   "execution_count": null,
   "id": "98b6ddfe",
   "metadata": {},
   "outputs": [],
   "source": [
    "os.makedirs(path_NNLB, exist_ok=True) # Create the directory path_NNLB if it doesn't exist"
   ]
  },
  {
   "cell_type": "markdown",
   "id": "39c0a184",
   "metadata": {},
   "source": [
    "# Loading model NLLB 200"
   ]
  },
  {
   "cell_type": "code",
   "execution_count": null,
   "id": "58488d44",
   "metadata": {},
   "outputs": [],
   "source": [
    "model_name = \"facebook/nllb-200-distilled-600M\"    \n",
    "\n",
    "src_lang = tgt_lang = \"ita_Latn\" # Italian language code in NLLB format to define source and target languages\n",
    "\n",
    "model = AutoModelForSeq2SeqLM.from_pretrained(model_name,device_map=\"auto\") # Load the pre-trained model in device-optimized mode\n",
    "\n",
    "tokenizer = AutoTokenizer.from_pretrained(model_name) # Load the tokenizer for the model \n",
    "\n",
    "tokenizer.src_lang = \"ita_Latn\" # Set the source language for the tokenizer\n",
    "\n",
    "forced_bos_token_id = tokenizer.convert_tokens_to_ids(\"ita_Latn\") # Convert the source language token to its ID for forced beginning of sequence token"
   ]
  },
  {
   "cell_type": "markdown",
   "id": "a42c6ba9",
   "metadata": {},
   "source": [
    "# Tokenize sentences and prompt for fine tuning step "
   ]
  },
  {
   "cell_type": "code",
   "execution_count": null,
   "id": "eeae3a1b",
   "metadata": {},
   "outputs": [
    {
     "name": "stderr",
     "output_type": "stream",
     "text": [
      "Map: 100%|██████████| 207/207 [00:00<00:00, 1478.75 examples/s]\n",
      "Map: 100%|██████████| 89/89 [00:00<00:00, 1420.72 examples/s]\n"
     ]
    }
   ],
   "source": [
    "max_len=256 # Define the maximum length for input sequences\n",
    "\n",
    "# Function to preprocess the dataset by tokenizing the input text and target translation text\n",
    "def preprocess(example):\n",
    "    model_inputs = tokenizer(\n",
    "        example[\"text\"], # Tokenize the input text without prompt strategy but dirctly using the sentence\n",
    "        max_length=max_len,              \n",
    "        truncation=True, # Truncate sequences longer than max_len\n",
    "        padding=\"max_length\" # Pad sequences to max_len\n",
    "    )\n",
    "    labels = tokenizer(\n",
    "        example[\"translation\"], # Tokenize the target translation text\n",
    "        max_length=max_len,  # Define the maximum length for target sequences\n",
    "        truncation=True, \n",
    "        padding=\"max_length\" \n",
    "    )\n",
    "\n",
    "    model_inputs[\"labels\"] = labels[\"input_ids\"] # Add the tokenized labels to the model inputs\n",
    "    return model_inputs\n",
    "\n",
    "# Tokenize the dataset using the preprocess function mapping over the train and test splits\n",
    "tokenized_dataset = {\n",
    "    \"train\": dataset[\"train\"].map(preprocess, remove_columns=dataset[\"train\"].column_names),\n",
    "    \"test\": dataset[\"test\"].map(preprocess, remove_columns=dataset[\"test\"].column_names)\n",
    "}"
   ]
  },
  {
   "cell_type": "markdown",
   "id": "e5f45f32",
   "metadata": {},
   "source": [
    "# Setup of Training Arguments"
   ]
  },
  {
   "cell_type": "code",
   "execution_count": null,
   "id": "24cc9ab2",
   "metadata": {},
   "outputs": [],
   "source": [
    "# Define the data collator for sequence-to-sequence tasks to free memory of the GPU\n",
    "class ClearCUDACacheCallback(TrainerCallback):\n",
    "    def on_epoch_end(self, args, state, control, **kwargs):\n",
    "        if torch.cuda.is_available():\n",
    "            torch.cuda.empty_cache()"
   ]
  },
  {
   "cell_type": "code",
   "execution_count": null,
   "id": "2fc4ae6e",
   "metadata": {},
   "outputs": [
    {
     "name": "stderr",
     "output_type": "stream",
     "text": [
      "C:\\Users\\colam\\AppData\\Local\\Temp\\ipykernel_30768\\2908925833.py:24: FutureWarning: `tokenizer` is deprecated and will be removed in version 5.0.0 for `Seq2SeqTrainer.__init__`. Use `processing_class` instead.\n",
      "  trainer = Seq2SeqTrainer(\n"
     ]
    }
   ],
   "source": [
    "# Define the training arguments for the Seq2SeqTrainer   \n",
    "training_args = Seq2SeqTrainingArguments(\n",
    "    output_dir=path_NNLB, # Directory to save the model and training outputs\n",
    "    \n",
    "    eval_strategy=\"epoch\", # Evaluate the model at the end of each epoch\n",
    "    \n",
    "    save_strategy=\"epoch\", # Save the model at the end of each epoch\n",
    "    \n",
    "    gradient_accumulation_steps=4, # Accumulate gradients over 4 forward steps before performing a backward pass\n",
    "    per_device_train_batch_size=2, # Batch size for training on each device\n",
    "    per_device_eval_batch_size=2, # Batch size for evaluation on each device\n",
    "    \n",
    "    learning_rate=2e-4, # Learning rate for the optimizer\n",
    "    num_train_epochs=8, # Number of training epochs\n",
    "    predict_with_generate=True, #   Enable generation during prediction\n",
    "    load_best_model_at_end=True, # Load the best model at the end of training based on evaluation metrics\n",
    "    \n",
    "    fp16=True,      # Enable mixed precision training for faster training on compatible hardware\n",
    "    logging_dir=path_NNLB+\"/logs\",  # Directory to save training logs\n",
    "    save_total_limit=1, # Limit the total number of saved checkpoints to 1 to save disk space        \n",
    "    \n",
    "    seed=42,    # Set a random seed for reproducibility\n",
    "    report_to=\"none\",\n",
    "    metric_for_best_model=\"eval_loss\",  # Metric to determine the best model during training\n",
    "    generation_max_length=max_len,  # Maximum length for generated sequences\n",
    "    generation_num_beams=4      # Number of beams for beam search during generation\n",
    ")\n",
    "# Initialize the data collator for sequence-to-sequence tasks\n",
    "data_collator = DataCollatorForSeq2Seq(tokenizer, model=model)\n",
    "# Function to compute metrics for evaluation (currently returns an empty dictionary)\n",
    "def compute_metrics(eval_preds):\n",
    "    return {} \n",
    "# Initialize the Seq2SeqTrainer with the model, training arguments, datasets, data collator, tokenizer, metrics function, and callbacks\n",
    "trainer = Seq2SeqTrainer(\n",
    "    model=model,\n",
    "    args=training_args,\n",
    "    train_dataset=tokenized_dataset[\"train\"],\n",
    "    eval_dataset=tokenized_dataset[\"test\"],\n",
    "    data_collator=data_collator,\n",
    "    tokenizer=tokenizer,\n",
    "    compute_metrics=compute_metrics,\n",
    "    callbacks=[ClearCUDACacheCallback(),EarlyStoppingCallback(early_stopping_patience=1)] # Early stopping callback to stop training if no improvement is seen for 1 epoch\n",
    ")"
   ]
  },
  {
   "cell_type": "markdown",
   "id": "868597bc",
   "metadata": {},
   "source": [
    "# Training Steps"
   ]
  },
  {
   "cell_type": "code",
   "execution_count": null,
   "id": "c8c46466",
   "metadata": {},
   "outputs": [
    {
     "data": {
      "text/html": [
       "\n",
       "    <div>\n",
       "      \n",
       "      <progress value='104' max='208' style='width:300px; height:20px; vertical-align: middle;'></progress>\n",
       "      [104/208 20:29 < 20:53, 0.08 it/s, Epoch 4/8]\n",
       "    </div>\n",
       "    <table border=\"1\" class=\"dataframe\">\n",
       "  <thead>\n",
       " <tr style=\"text-align: left;\">\n",
       "      <th>Epoch</th>\n",
       "      <th>Training Loss</th>\n",
       "      <th>Validation Loss</th>\n",
       "    </tr>\n",
       "  </thead>\n",
       "  <tbody>\n",
       "    <tr>\n",
       "      <td>1</td>\n",
       "      <td>No log</td>\n",
       "      <td>2.866610</td>\n",
       "    </tr>\n",
       "    <tr>\n",
       "      <td>2</td>\n",
       "      <td>No log</td>\n",
       "      <td>0.844395</td>\n",
       "    </tr>\n",
       "    <tr>\n",
       "      <td>3</td>\n",
       "      <td>No log</td>\n",
       "      <td>0.409088</td>\n",
       "    </tr>\n",
       "    <tr>\n",
       "      <td>4</td>\n",
       "      <td>No log</td>\n",
       "      <td>0.419878</td>\n",
       "    </tr>\n",
       "  </tbody>\n",
       "</table><p>"
      ],
      "text/plain": [
       "<IPython.core.display.HTML object>"
      ]
     },
     "metadata": {},
     "output_type": "display_data"
    },
    {
     "name": "stderr",
     "output_type": "stream",
     "text": [
      "c:\\Users\\colam\\Documents\\GitHub\\MNLP_HW2\\.venv\\Lib\\site-packages\\transformers\\modeling_utils.py:3465: UserWarning: Moving the following attributes in the config to the generation config: {'max_length': 200}. You are seeing this warning because you've set generation parameters in the model config, as opposed to in the generation config.\n",
      "  warnings.warn(\n",
      "There were missing keys in the checkpoint model loaded: ['model.encoder.embed_tokens.weight', 'model.decoder.embed_tokens.weight', 'lm_head.weight'].\n"
     ]
    },
    {
     "data": {
      "text/html": [
       "\n",
       "    <div>\n",
       "      \n",
       "      <progress value='45' max='45' style='width:300px; height:20px; vertical-align: middle;'></progress>\n",
       "      [45/45 02:29]\n",
       "    </div>\n",
       "    "
      ],
      "text/plain": [
       "<IPython.core.display.HTML object>"
      ]
     },
     "metadata": {},
     "output_type": "display_data"
    },
    {
     "name": "stdout",
     "output_type": "stream",
     "text": [
      "{'eval_loss': 0.40908780694007874, 'eval_runtime': 157.1696, 'eval_samples_per_second': 0.566, 'eval_steps_per_second': 0.286, 'epoch': 4.0}\n"
     ]
    },
    {
     "data": {
      "text/plain": [
       "('Models/nllb/nllb-finetuned-antico-moderno\\\\tokenizer_config.json',\n",
       " 'Models/nllb/nllb-finetuned-antico-moderno\\\\special_tokens_map.json',\n",
       " 'Models/nllb/nllb-finetuned-antico-moderno\\\\sentencepiece.bpe.model',\n",
       " 'Models/nllb/nllb-finetuned-antico-moderno\\\\added_tokens.json',\n",
       " 'Models/nllb/nllb-finetuned-antico-moderno\\\\tokenizer.json')"
      ]
     },
     "execution_count": 26,
     "metadata": {},
     "output_type": "execute_result"
    }
   ],
   "source": [
    "trainer.train() # Start the training process\n",
    "metrics = trainer.evaluate() # Evaluate the model on the test dataset and store the metrics\n",
    "print(metrics)\n",
    "model.save_pretrained(path_NNLB) #  Save the trained model to the specified path\n",
    "tokenizer.save_pretrained(path_NNLB) # Save the tokenizer to the specified path"
   ]
  },
  {
   "cell_type": "markdown",
   "id": "d9d06ee6",
   "metadata": {},
   "source": [
    "# Inference of fine-tuned Model"
   ]
  },
  {
   "cell_type": "code",
   "execution_count": null,
   "id": "c137c5d8",
   "metadata": {},
   "outputs": [
    {
     "data": {
      "text/html": [
       "<div>\n",
       "<style scoped>\n",
       "    .dataframe tbody tr th:only-of-type {\n",
       "        vertical-align: middle;\n",
       "    }\n",
       "\n",
       "    .dataframe tbody tr th {\n",
       "        vertical-align: top;\n",
       "    }\n",
       "\n",
       "    .dataframe thead th {\n",
       "        text-align: right;\n",
       "    }\n",
       "</style>\n",
       "<table border=\"1\" class=\"dataframe\">\n",
       "  <thead>\n",
       "    <tr style=\"text-align: right;\">\n",
       "      <th></th>\n",
       "      <th>Author</th>\n",
       "      <th>Date</th>\n",
       "      <th>Region</th>\n",
       "      <th>Sentence</th>\n",
       "    </tr>\n",
       "  </thead>\n",
       "  <tbody>\n",
       "    <tr>\n",
       "      <th>0</th>\n",
       "      <td>Brunetto Latini</td>\n",
       "      <td>1260-61</td>\n",
       "      <td>fior.</td>\n",
       "      <td>quella guerra ben fatta l' opera perché etc. E...</td>\n",
       "    </tr>\n",
       "    <tr>\n",
       "      <th>1</th>\n",
       "      <td>Bono Giamboni</td>\n",
       "      <td>1292</td>\n",
       "      <td>fior.</td>\n",
       "      <td>crudele, e di tutte le colpe pigli vendetta, c...</td>\n",
       "    </tr>\n",
       "    <tr>\n",
       "      <th>2</th>\n",
       "      <td>Valerio Massimo (red. V1</td>\n",
       "      <td>1336</td>\n",
       "      <td>fior.</td>\n",
       "      <td>Non d' altra forza d' animo fue ornato Ponzio ...</td>\n",
       "    </tr>\n",
       "    <tr>\n",
       "      <th>3</th>\n",
       "      <td>Lucano volg. (ed. Marinoni)</td>\n",
       "      <td>1330/40</td>\n",
       "      <td>prat.</td>\n",
       "      <td>Se questo piace a tutti e se 'l tempo hae biso...</td>\n",
       "    </tr>\n",
       "    <tr>\n",
       "      <th>4</th>\n",
       "      <td>Brunetto Latini</td>\n",
       "      <td>1260-61</td>\n",
       "      <td>fior.</td>\n",
       "      <td>Officio di questa arte pare che sia dicere app...</td>\n",
       "    </tr>\n",
       "  </tbody>\n",
       "</table>\n",
       "</div>"
      ],
      "text/plain": [
       "                        Author     Date Region  \\\n",
       "0              Brunetto Latini  1260-61  fior.   \n",
       "1                Bono Giamboni     1292  fior.   \n",
       "2     Valerio Massimo (red. V1     1336  fior.   \n",
       "3  Lucano volg. (ed. Marinoni)  1330/40  prat.   \n",
       "4              Brunetto Latini  1260-61  fior.   \n",
       "\n",
       "                                            Sentence  \n",
       "0  quella guerra ben fatta l' opera perché etc. E...  \n",
       "1  crudele, e di tutte le colpe pigli vendetta, c...  \n",
       "2  Non d' altra forza d' animo fue ornato Ponzio ...  \n",
       "3  Se questo piace a tutti e se 'l tempo hae biso...  \n",
       "4  Officio di questa arte pare che sia dicere app...  "
      ]
     },
     "execution_count": 28,
     "metadata": {},
     "output_type": "execute_result"
    }
   ],
   "source": [
    "df = pd.read_csv(dataset_cleaned_folder) # Load the cleaned dataset from the CSV file"
   ]
  },
  {
   "cell_type": "code",
   "execution_count": null,
   "id": "7ab2a3d4",
   "metadata": {},
   "outputs": [
    {
     "name": "stderr",
     "output_type": "stream",
     "text": [
      "100%|██████████| 97/97 [01:11<00:00,  1.35it/s]\n"
     ]
    }
   ],
   "source": [
    "\n",
    "#Load the fine-tuned model and tokenizer for translation\n",
    "tokenizer = AutoTokenizer.from_pretrained(path_NNLB) \n",
    "# Load the fine-tuned model for sequence-to-sequence tasks\n",
    "\n",
    "model = AutoModelForSeq2SeqLM.from_pretrained(path_NNLB,\n",
    "    device_map=\"auto\")\n",
    "# Set the eos token to pad token for the tokenizer\n",
    "tokenizer.pad_token = tokenizer.eos_token\n",
    "model.eval().to(device)\n",
    "\n",
    "# Add a new column to the CSV file to store generated translations   \n",
    "df[\"generated_translation\"] = \"\"\n",
    "\n",
    "# Function to translate a sequence using the fine-tuned model\n",
    "def traduci_seq_to_seq(s):\n",
    "\n",
    "    # Define the source and target languages for the translation\n",
    "    src_lang = \"ita_Latn\"\n",
    "    tgt_lang = \"ita_Latn\"\n",
    "\n",
    "    # Set the source language in the tokenizer\n",
    "    tokenizer.src_lang = src_lang\n",
    "\n",
    "    # Tokenize the input sentence\n",
    "    inputs = tokenizer(s, return_tensors=\"pt\", truncation=True,max_length=384).to(model.device)\n",
    "    forced_bos_token_id = tokenizer.convert_tokens_to_ids(tgt_lang)\n",
    "\n",
    "    with torch.no_grad():\n",
    "        output = model.generate(\n",
    "            **inputs,\n",
    "            max_new_tokens=100, # Set the maximum number of new tokens to generate\n",
    "            temperature=0.7, # Set the temperature for sampling to control randomness\n",
    "            top_p=0.9, # Use top-p sampling to control diversity\n",
    "            do_sample=True, # Enable sampling for more diverse translations\n",
    "            use_cache=True, # Enable caching for faster inference\n",
    "            num_beams=4, # Use beam search with 4 beams for better translation quality\n",
    "            forced_bos_token_id=forced_bos_token_id # Set the forced beginning of sequence token ID for the target language\n",
    "        )\n",
    "    return tokenizer.decode(output[0], skip_special_tokens=True)\n",
    "\n",
    "\n",
    "results = []\n",
    "i =0\n",
    "\n",
    "# Iterate over each sentence in the CSV and translate it using the fine-tuned model\n",
    "for s in tqdm(df[\"Sentence\"].tolist()):\n",
    "    results.append(traduci_seq_to_seq(s))\n",
    "        \n",
    "df[\"generated_translation\"] = results\n",
    "\n",
    "# Create the output directory if it doesn't exist\n",
    "os.makedirs(path_translations, exist_ok=True)\n",
    "\n",
    "translation_file=path_translations+\"/dataset_with_translation_NNLB.csv\"\n",
    "# Save the translation into a CSV file\n",
    "df[\"score_human\"] = 0\n",
    "df.to_csv(translation_file, index=False)"
   ]
  }
 ],
 "metadata": {
  "kernelspec": {
   "display_name": "Libraries",
   "language": "python",
   "name": "python3"
  },
  "language_info": {
   "codemirror_mode": {
    "name": "ipython",
    "version": 3
   },
   "file_extension": ".py",
   "mimetype": "text/x-python",
   "name": "python",
   "nbconvert_exporter": "python",
   "pygments_lexer": "ipython3",
   "version": "3.12.3"
  }
 },
 "nbformat": 4,
 "nbformat_minor": 5
}

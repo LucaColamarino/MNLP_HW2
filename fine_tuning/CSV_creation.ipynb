{
 "cells": [
  {
   "cell_type": "markdown",
   "id": "bc487980",
   "metadata": {},
   "source": [
    "# Creation of CSV file from text and paraf files\n",
    "---"
   ]
  },
  {
   "cell_type": "code",
   "execution_count": 3,
   "id": "0372ef13",
   "metadata": {},
   "outputs": [],
   "source": [
    "import pandas as pd "
   ]
  },
  {
   "cell_type": "code",
   "execution_count": 4,
   "id": "22e0a1fb",
   "metadata": {},
   "outputs": [],
   "source": [
    "def dividi_blocchi(rows):\n",
    "    blocks_texts= []\n",
    "    current_block_text= []\n",
    "    i=0\n",
    "    for r in rows:\n",
    "        if r.strip():\n",
    "            current_block_text.append(r.strip())\n",
    "        else:\n",
    "            #print(f\"{i}° blocco\",current_block_text)\n",
    "            if current_block_text:\n",
    "                blocks_texts.append(current_block_text)\n",
    "                current_block_text= []\n",
    "    #for last row\n",
    "    if current_block_text:\n",
    "         blocks_texts.append(current_block_text)\n",
    "    return blocks_texts"
   ]
  },
  {
   "cell_type": "code",
   "execution_count": 5,
   "id": "29d978e3",
   "metadata": {},
   "outputs": [],
   "source": [
    "def list_to_string(list_s):\n",
    "    for r in range(0,len(list_s)):\n",
    "        s=''\n",
    "        l=[]\n",
    "        for j in range(0,len(list_s[r])):\n",
    "            s+=list_s[r][j]\n",
    "        l.append(s)\n",
    "        list_s[r]=l\n",
    "    return list_s"
   ]
  },
  {
   "cell_type": "code",
   "execution_count": null,
   "id": "2c24b731",
   "metadata": {},
   "outputs": [],
   "source": [
    "def create_dataset_csv(original_path,paraf_path,namecsv):\n",
    "    with open(original_path,\"r\",encoding=\"utf-8\") as f:\n",
    "        rows=f.readlines()\n",
    "        ancient_block_texts=dividi_blocchi(rows)\n",
    "    with open(paraf_path,\"r\",encoding=\"utf-8\") as f:\n",
    "        rows=f.readlines()\n",
    "        modern_block_texts=dividi_blocchi(rows)\n",
    "    print(len(ancient_block_texts))\n",
    "    print(len(modern_block_texts))\n",
    "    ancient_block_texts=list_to_string(ancient_block_texts)\n",
    "    modern_block_texts=list_to_string(modern_block_texts)\n",
    "    dataset=pd.DataFrame({\"text\": ancient_block_texts,\"translation\":modern_block_texts},columns=[\"text\",\"translation\"])\n",
    "    dataset.to_csv(\"./csvs/\"+namecsv,index=False,encoding=\"utf-8\")"
   ]
  },
  {
   "cell_type": "code",
   "execution_count": null,
   "id": "e6d57b23",
   "metadata": {},
   "outputs": [],
   "source": [
    "# create_dataset_csv(original_path,paraf_path,namecsv)"
   ]
  }
 ],
 "metadata": {
  "kernelspec": {
   "display_name": "Libraries",
   "language": "python",
   "name": "python3"
  },
  "language_info": {
   "codemirror_mode": {
    "name": "ipython",
    "version": 3
   },
   "file_extension": ".py",
   "mimetype": "text/x-python",
   "name": "python",
   "nbconvert_exporter": "python",
   "pygments_lexer": "ipython3",
   "version": "3.12.3"
  }
 },
 "nbformat": 4,
 "nbformat_minor": 5
}

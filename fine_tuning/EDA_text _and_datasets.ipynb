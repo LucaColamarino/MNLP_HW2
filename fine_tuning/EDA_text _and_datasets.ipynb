{
 "cells": [
  {
   "cell_type": "markdown",
   "id": "bc487980",
   "metadata": {},
   "source": [
    "# EDA and Alignment of many Datasets of text\n",
    "---"
   ]
  },
  {
   "cell_type": "code",
   "execution_count": 7,
   "id": "0372ef13",
   "metadata": {},
   "outputs": [],
   "source": [
    "import pandas as pd "
   ]
  },
  {
   "cell_type": "markdown",
   "id": "9d15e00d",
   "metadata": {},
   "source": [
    "# Take All dante corpus\n"
   ]
  },
  {
   "cell_type": "markdown",
   "id": "79d35351",
   "metadata": {},
   "source": [
    "## Aux Functions"
   ]
  },
  {
   "cell_type": "code",
   "execution_count": 22,
   "id": "22e0a1fb",
   "metadata": {},
   "outputs": [],
   "source": [
    "def dividi_blocchi(rows):\n",
    "    blocks_texts= []\n",
    "    current_block_text= []\n",
    "    i=0\n",
    "    for r in rows:\n",
    "        if r.strip():\n",
    "            current_block_text.append(r.strip())\n",
    "        else:\n",
    "            #print(f\"{i}° blocco\",current_block_text)\n",
    "            if current_block_text:\n",
    "                blocks_texts.append(current_block_text)\n",
    "                current_block_text= []\n",
    "    #for last row\n",
    "    if current_block_text:\n",
    "         blocks_texts.append(current_block_text)\n",
    "    return blocks_texts"
   ]
  },
  {
   "cell_type": "code",
   "execution_count": 23,
   "id": "29d978e3",
   "metadata": {},
   "outputs": [],
   "source": [
    "def list_to_string(list_s):\n",
    "    for r in range(0,len(list_s)):\n",
    "        s=''\n",
    "        l=[]\n",
    "        for j in range(0,len(list_s[r])):\n",
    "            s+=list_s[r][j]\n",
    "        l.append(s)\n",
    "        list_s[r]=l\n",
    "    return list_s"
   ]
  },
  {
   "cell_type": "code",
   "execution_count": 24,
   "id": "16481d54",
   "metadata": {},
   "outputs": [
    {
     "ename": "IndexError",
     "evalue": "list index out of range",
     "output_type": "error",
     "traceback": [
      "\u001b[31m---------------------------------------------------------------------------\u001b[39m",
      "\u001b[31mIndexError\u001b[39m                                Traceback (most recent call last)",
      "\u001b[36mCell\u001b[39m\u001b[36m \u001b[39m\u001b[32mIn[24]\u001b[39m\u001b[32m, line 17\u001b[39m\n\u001b[32m     15\u001b[39m ancient_block_texts[\u001b[32m12\u001b[39m]+=ancient_block_texts[\u001b[32m13\u001b[39m]\n\u001b[32m     16\u001b[39m ancient_block_texts.remove(ancient_block_texts[\u001b[32m13\u001b[39m])\n\u001b[32m---> \u001b[39m\u001b[32m17\u001b[39m \u001b[43mancient_block_texts\u001b[49m\u001b[43m[\u001b[49m\u001b[32;43m30\u001b[39;49m\u001b[43m]\u001b[49m+=ancient_block_texts[\u001b[32m31\u001b[39m]\n\u001b[32m     18\u001b[39m ancient_block_texts.remove(ancient_block_texts[\u001b[32m31\u001b[39m])\n\u001b[32m     19\u001b[39m ancient_block_texts[\u001b[32m35\u001b[39m]+=ancient_block_texts[\u001b[32m36\u001b[39m]\n",
      "\u001b[31mIndexError\u001b[39m: list index out of range"
     ]
    }
   ],
   "source": [
    "#alignment of block of text for translation block-by-block\n",
    "ancient_block_texts[4]+=ancient_block_texts[5]\n",
    "ancient_block_texts.remove(ancient_block_texts[5])\n",
    "ancient_block_texts[7]+=ancient_block_texts[8]\n",
    "ancient_block_texts[6]+=ancient_block_texts[7]\n",
    "ancient_block_texts.remove(ancient_block_texts[7])\n",
    "ancient_block_texts[6]=ancient_block_texts[6][0:6]\n",
    "ancient_block_texts[8]+=ancient_block_texts[9] \n",
    "ancient_block_texts.remove(ancient_block_texts[9])\n",
    "ancient_block_texts[9]+=ancient_block_texts[10]+ancient_block_texts[11]\n",
    "ancient_block_texts.remove(ancient_block_texts[10])\n",
    "ancient_block_texts.remove(ancient_block_texts[10])\n",
    "ancient_block_texts[11]+=ancient_block_texts[12]\n",
    "ancient_block_texts.remove(ancient_block_texts[12])\n",
    "ancient_block_texts[12]+=ancient_block_texts[13]\n",
    "ancient_block_texts.remove(ancient_block_texts[13])\n",
    "ancient_block_texts[30]+=ancient_block_texts[31]\n",
    "ancient_block_texts.remove(ancient_block_texts[31])\n",
    "ancient_block_texts[35]+=ancient_block_texts[36]\n",
    "ancient_block_texts.remove(ancient_block_texts[36])\n",
    "ancient_block_texts"
   ]
  },
  {
   "cell_type": "markdown",
   "id": "9cc754e5",
   "metadata": {},
   "source": [
    "## Bulding Dataset Inferno"
   ]
  },
  {
   "cell_type": "markdown",
   "id": "54546208",
   "metadata": {},
   "source": [
    "### Alignment of First chapter of inferno"
   ]
  },
  {
   "cell_type": "code",
   "execution_count": null,
   "id": "9c25fb70",
   "metadata": {},
   "outputs": [],
   "source": [
    "#link traduction  dante divina commedia https://divinacommedia.weebly.com/inferno-canto-i.html\n",
    "\n",
    "with open(\"Inferno_original_dante.txt\", \"r\", encoding=\"utf-8\") as f:\n",
    "    rows=f.readlines()\n",
    "    ancient_block_texts=dividi_blocchi(rows)\n",
    "print(ancient_block_texts)\n",
    "\n",
    "with open(\"paraf_inferno.txt\",\"r\",encoding=\"utf-8\") as f:\n",
    "    rows=f.readlines()\n",
    "    modern_block_texts=dividi_blocchi(rows)\n",
    "\n",
    "#transform list of string in string\n",
    "ancient_block_texts=list_to_string(ancient_block_texts)\n",
    "dataset_dante=pd.DataFrame({\"text\": ancient_block_texts,\"translation\":modern_block_texts},columns=[\"text\",\"translation\"])\n",
    "dataset_dante\n"
   ]
  },
  {
   "cell_type": "code",
   "execution_count": null,
   "id": "38a6174c",
   "metadata": {},
   "outputs": [],
   "source": [
    "with open(\"Purgatorio_original_dante.txt\",\"r\",encoding=\"utf-8\") as f:\n",
    "    rows=f.readlines()\n",
    "    ancient_block_texts_purgat=dividi_blocchi(rows)\n",
    "print(len(ancient_block_texts_purgat))\n",
    "\n",
    "with open(\"paraf_purgatorio.txt\",\"r\",encoding=\"utf-8\") as f:\n",
    "    rows=f.readlines()\n",
    "    modern_block_texts_purgat=dividi_blocchi(rows)\n",
    "print(len(modern_block_texts_purgat))\n",
    "\n",
    "ancient_block_texts_purgat=list_to_string(ancient_block_texts_purgat)\n",
    "print(len(ancient_block_texts_purgat))\n",
    "print(len(modern_block_texts_purgat))\n",
    "dataset_dante_purgat=pd.DataFrame({\"text\": ancient_block_texts_purgat,\"translation\":modern_block_texts_purgat},columns=[\"text\",\"translation\"])\n",
    "dataset_dante_purgat"
   ]
  },
  {
   "cell_type": "code",
   "execution_count": null,
   "id": "7915c841",
   "metadata": {},
   "outputs": [],
   "source": [
    "with open(\"Paradiso_original_dante.txt\",\"r\",encoding=\"utf-8\") as f:\n",
    "    rows=f.readlines()\n",
    "    ancient_block_texts_heaven=dividi_blocchi(rows)\n",
    "with open(\"paraf_paradiso.txt\",\"r\",encoding=\"utf-8\") as f:\n",
    "    rows=f.readlines()\n",
    "    modern_block_texts_heaven=dividi_blocchi(rows)\n",
    "print(len(ancient_block_texts_heaven))\n",
    "print(len(modern_block_texts_heaven))\n",
    "ancient_block_texts_heaven=list_to_string(ancient_block_texts_heaven)\n",
    "dataset_dante_heaven=pd.DataFrame({\"text\": ancient_block_texts_heaven,\"translation\":modern_block_texts_heaven},columns=[\"text\",\"translation\"])\n",
    "dataset_dante_heaven"
   ]
  },
  {
   "cell_type": "markdown",
   "id": "3d761679",
   "metadata": {},
   "source": [
    "# Build Dataset Paradiso or Purgatorio (choose)"
   ]
  },
  {
   "cell_type": "markdown",
   "id": "b712a409",
   "metadata": {},
   "source": [
    "## Purgatorio"
   ]
  },
  {
   "cell_type": "code",
   "execution_count": 25,
   "id": "42060cdd",
   "metadata": {},
   "outputs": [],
   "source": [
    "original_path=\"Purgatorio_original_dante.txt\"\n",
    "paraf_path=\"paraf_purgatorio.txt\""
   ]
  },
  {
   "cell_type": "markdown",
   "id": "8580f15d",
   "metadata": {},
   "source": [
    "## Paradiso"
   ]
  },
  {
   "cell_type": "code",
   "execution_count": 19,
   "id": "23e89a43",
   "metadata": {},
   "outputs": [],
   "source": [
    "original_path=\"Paradiso_original_dante.txt\"\n",
    "paraf_path=\"paraf_paradiso.txt\""
   ]
  },
  {
   "cell_type": "markdown",
   "id": "19cf43ab",
   "metadata": {},
   "source": [
    "## Build"
   ]
  },
  {
   "cell_type": "code",
   "execution_count": 27,
   "id": "fe91a202",
   "metadata": {},
   "outputs": [
    {
     "name": "stdout",
     "output_type": "stream",
     "text": [
      "41\n",
      "41\n"
     ]
    }
   ],
   "source": [
    "with open(original_path,\"r\",encoding=\"utf-8\") as f:\n",
    "    rows=f.readlines()\n",
    "    ancient_block_texts=dividi_blocchi(rows)\n",
    "with open(paraf_path,\"r\",encoding=\"utf-8\") as f:\n",
    "    rows=f.readlines()\n",
    "    modern_block_texts=dividi_blocchi(rows)\n",
    "print(len(ancient_block_texts))\n",
    "print(len(modern_block_texts))\n",
    "ancient_block_texts=list_to_string(ancient_block_texts)\n",
    "dataset_dante=pd.DataFrame({\"text\": ancient_block_texts,\"translation\":modern_block_texts},columns=[\"text\",\"translation\"])\n",
    "dataset_dante\n",
    "# Save the datasets to CSV files\n",
    "dataset_dante.to_csv(\"dataset_dante_purgat.csv\", index=False, encoding=\"utf-8\")"
   ]
  }
 ],
 "metadata": {
  "kernelspec": {
   "display_name": "Python 3",
   "language": "python",
   "name": "python3"
  },
  "language_info": {
   "codemirror_mode": {
    "name": "ipython",
    "version": 3
   },
   "file_extension": ".py",
   "mimetype": "text/x-python",
   "name": "python",
   "nbconvert_exporter": "python",
   "pygments_lexer": "ipython3",
   "version": "3.11.5"
  }
 },
 "nbformat": 4,
 "nbformat_minor": 5
}

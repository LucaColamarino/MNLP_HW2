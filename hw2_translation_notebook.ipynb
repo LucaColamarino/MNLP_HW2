{
 "cells": [
  {
   "cell_type": "markdown",
   "id": "ca246820",
   "metadata": {},
   "source": [
    "# Imports"
   ]
  },
  {
   "cell_type": "code",
   "execution_count": 1,
   "id": "4d32d9bc",
   "metadata": {},
   "outputs": [],
   "source": [
    "from transformers import AutoTokenizer, AutoModelForCausalLM, pipeline\n",
    "import pandas as pd\n",
    "import json\n",
    "from sklearn.metrics import cohen_kappa_score\n",
    "import torch"
   ]
  },
  {
   "cell_type": "markdown",
   "id": "af197d4a",
   "metadata": {},
   "source": [
    "# 📥 Caricamento dati"
   ]
  },
  {
   "cell_type": "code",
   "execution_count": 2,
   "id": "e9cf37c2",
   "metadata": {},
   "outputs": [],
   "source": [
    "df = pd.read_csv(\"mnt/data/dataset_cleaned.csv\")\n",
    "archaic_sentences = df[\"Sentence\"].dropna().tolist()[:20]"
   ]
  },
  {
   "cell_type": "markdown",
   "id": "547d0ccd",
   "metadata": {},
   "source": [
    "# AUX"
   ]
  },
  {
   "cell_type": "code",
   "execution_count": 3,
   "id": "0896026e",
   "metadata": {},
   "outputs": [],
   "source": [
    "# 🔁 Traduzioni\n",
    "def translate(pipe, sentences, label=\"Modello\"):\n",
    "    results = []\n",
    "    for s in sentences:\n",
    "        prompt = (\n",
    "        \"Sei un traduttore professionista di testi antichi in italiano moderno.\\n\"\n",
    "        \"Trasforma la seguente frase antica in italiano moderno, mantenendo il significato.\\n\"\n",
    "        f\"Testo antico: {s}\\n\"\n",
    "        \"Traduzione moderna:\"\n",
    "        )\n",
    "        result = pipe(prompt, max_new_tokens=60, do_sample=True, temperature=0.7, top_p=0.9)[0][\"generated_text\"]\n",
    "        trad = result.split(\"Traduzione moderna:\")[-1].strip().split(\"\\n\")[0]\n",
    "        print(f\"[{label}] →\", trad)\n",
    "        results.append(trad)\n",
    "    return results\n",
    "\n",
    "# 💾 Salva risultati\n",
    "def save_jsonl(name, originals, translations):\n",
    "    with open(f\"mnt/data/{name}.jsonl\", \"w\", encoding=\"utf-8\") as f:\n",
    "        for arc, trans in zip(originals, translations):\n",
    "            f.write(json.dumps({\"original\": arc, \"translation\": trans}, ensure_ascii=False) + \"\\n\")\n",
    "\n",
    "def save_judging(name, originals, scores):\n",
    "    with open(f\"mnt/data/{name}.jsonl\", \"w\", encoding=\"utf-8\") as f:\n",
    "        for i, (arc, score) in enumerate(zip(originals, scores)):\n",
    "            f.write(json.dumps({\"id\": i, \"original\": arc, \"score\": score}, ensure_ascii=False) + \"\\n\")\n"
   ]
  },
  {
   "cell_type": "markdown",
   "id": "8d432980",
   "metadata": {},
   "source": [
    "# ✅ Caricamento Minerva (su CPU)"
   ]
  },
  {
   "cell_type": "code",
   "execution_count": 4,
   "id": "7eded74f",
   "metadata": {},
   "outputs": [
    {
     "name": "stderr",
     "output_type": "stream",
     "text": [
      "Device set to use cpu\n"
     ]
    }
   ],
   "source": [
    "minerva_name = \"sapienzanlp/Minerva-350M-base-v1.0\"\n",
    "minerva_tokenizer = AutoTokenizer.from_pretrained(minerva_name)\n",
    "minerva_model = AutoModelForCausalLM.from_pretrained(minerva_name)\n",
    "minerva_pipe = pipeline(\"text-generation\", model=minerva_model, tokenizer=minerva_tokenizer, device= -1)\n"
   ]
  },
  {
   "cell_type": "markdown",
   "id": "f9be4176",
   "metadata": {},
   "source": [
    "# ✅ Caricamento LLaMA-2 7B (su GPU)"
   ]
  },
  {
   "cell_type": "code",
   "execution_count": null,
   "id": "2817c4c6",
   "metadata": {},
   "outputs": [
    {
     "data": {
      "application/vnd.jupyter.widget-view+json": {
       "model_id": "e52f30cb60404872a2823f61f24666ad",
       "version_major": 2,
       "version_minor": 0
      },
      "text/plain": [
       "Loading checkpoint shards:   0%|          | 0/2 [00:00<?, ?it/s]"
      ]
     },
     "metadata": {},
     "output_type": "display_data"
    },
    {
     "name": "stderr",
     "output_type": "stream",
     "text": [
      "Some parameters are on the meta device because they were offloaded to the cpu.\n",
      "Device set to use cuda:0\n"
     ]
    }
   ],
   "source": [
    "#llama_name = \"meta-llama/Llama-3-8b-hf\" llama 3.1 1B\n",
    "llama_name = \"NousResearch/Llama-2-7b-hf\"\n",
    "llama_tokenizer = AutoTokenizer.from_pretrained(llama_name)\n",
    "llama_model = AutoModelForCausalLM.from_pretrained(llama_name, torch_dtype=torch.float16, device_map=\"auto\")\n",
    "llama_pipe = pipeline(\"text-generation\", model=llama_model, tokenizer=llama_tokenizer)\n",
    "\n"
   ]
  },
  {
   "cell_type": "markdown",
   "id": "15fe729c",
   "metadata": {},
   "source": [
    "# 🧠 Traduzioni"
   ]
  },
  {
   "cell_type": "code",
   "execution_count": 6,
   "id": "c940a8d6",
   "metadata": {},
   "outputs": [
    {
     "name": "stderr",
     "output_type": "stream",
     "text": [
      "Setting `pad_token_id` to `eos_token_id`:2 for open-end generation.\n",
      "Setting `pad_token_id` to `eos_token_id`:2 for open-end generation.\n"
     ]
    },
    {
     "name": "stdout",
     "output_type": "stream",
     "text": [
      "[Minerva] → il termine fu inventato nel 1859 dal francese Bernard Joulaye, che aveva scritto un trattato di traduzione in inglese.\n"
     ]
    },
    {
     "name": "stderr",
     "output_type": "stream",
     "text": [
      "Setting `pad_token_id` to `eos_token_id`:2 for open-end generation.\n"
     ]
    },
    {
     "name": "stdout",
     "output_type": "stream",
     "text": [
      "[Minerva] → non è vero che i traduttori devono tradurre tutti i testi antichi, ma non tutti, e soprattutto non tutti, che la traduzione sia \"migliore\" o \"più bella\".\n"
     ]
    },
    {
     "name": "stderr",
     "output_type": "stream",
     "text": [
      "Setting `pad_token_id` to `eos_token_id`:2 for open-end generation.\n"
     ]
    },
    {
     "name": "stdout",
     "output_type": "stream",
     "text": [
      "[Minerva] → La traduzione è l'atto di tradurre in italiano, l'atto di tradurre in italiano, la traduzione è il mezzo di tradurre in italiano.\n"
     ]
    },
    {
     "name": "stderr",
     "output_type": "stream",
     "text": [
      "Setting `pad_token_id` to `eos_token_id`:2 for open-end generation.\n"
     ]
    },
    {
     "name": "stdout",
     "output_type": "stream",
     "text": [
      "[Minerva] → Se questo piace a tutti e se 'l tempo hae bisogno di traduttore, non riterrò più i fati.\n"
     ]
    },
    {
     "name": "stderr",
     "output_type": "stream",
     "text": [
      "Setting `pad_token_id` to `eos_token_id`:2 for open-end generation.\n"
     ]
    },
    {
     "name": "stdout",
     "output_type": "stream",
     "text": [
      "[Minerva] → È un po' come il nome del tuo nome, perché è un nome di famiglia.\n"
     ]
    },
    {
     "name": "stderr",
     "output_type": "stream",
     "text": [
      "Setting `pad_token_id` to `eos_token_id`:2 for open-end generation.\n"
     ]
    },
    {
     "name": "stdout",
     "output_type": "stream",
     "text": [
      "[Minerva] → È il più antico testo antico, ma l'ho scritto io stesso; il che mi ha fatto pensare che il testo antico fosse un'opera d'arte, di cui gli scrittori antichi non conoscevano il senso\n"
     ]
    },
    {
     "name": "stderr",
     "output_type": "stream",
     "text": [
      "Setting `pad_token_id` to `eos_token_id`:2 for open-end generation.\n"
     ]
    },
    {
     "name": "stdout",
     "output_type": "stream",
     "text": [
      "[Minerva] → Ma chi avrebbe mai pensato che la lingua di Cristo, la sua lingua, sarebbe la lingua di Cristo?\n"
     ]
    },
    {
     "name": "stderr",
     "output_type": "stream",
     "text": [
      "Setting `pad_token_id` to `eos_token_id`:2 for open-end generation.\n"
     ]
    },
    {
     "name": "stdout",
     "output_type": "stream",
     "text": [
      "[Minerva] → In questa lingua, la lingua della quale si parla, è la lingua latina, l'italiano e il francese.\n"
     ]
    },
    {
     "name": "stderr",
     "output_type": "stream",
     "text": [
      "Setting `pad_token_id` to `eos_token_id`:2 for open-end generation.\n"
     ]
    },
    {
     "name": "stdout",
     "output_type": "stream",
     "text": [
      "[Minerva] → Con i suoi tempi, e di modo, e di modo, e di modo, e di modo, e di modo, e di modo, e di modo, e di modo, e di modo, e di modo, e di modo, e di modo, e di modo, e di modo\n"
     ]
    },
    {
     "name": "stderr",
     "output_type": "stream",
     "text": [
      "Setting `pad_token_id` to `eos_token_id`:2 for open-end generation.\n"
     ]
    },
    {
     "name": "stdout",
     "output_type": "stream",
     "text": [
      "[Minerva] → La verità è una delle più antiche.\n"
     ]
    },
    {
     "name": "stderr",
     "output_type": "stream",
     "text": [
      "Setting `pad_token_id` to `eos_token_id`:2 for open-end generation.\n"
     ]
    },
    {
     "name": "stdout",
     "output_type": "stream",
     "text": [
      "[Minerva] → Marco Cornelio, o più semplicemente Marco Cornelio, si è distinto per aver studiato in un anno accademico\n"
     ]
    },
    {
     "name": "stderr",
     "output_type": "stream",
     "text": [
      "Setting `pad_token_id` to `eos_token_id`:2 for open-end generation.\n"
     ]
    },
    {
     "name": "stdout",
     "output_type": "stream",
     "text": [
      "[Minerva] → parole che erano fatte in Italia.\n"
     ]
    },
    {
     "name": "stderr",
     "output_type": "stream",
     "text": [
      "Setting `pad_token_id` to `eos_token_id`:2 for open-end generation.\n"
     ]
    },
    {
     "name": "stdout",
     "output_type": "stream",
     "text": [
      "[Minerva] → Ildegarda di Bingen, il figlio di Ortensio, che era stato nominato per questo compito, fu chiamato da Dio e fu chiamato da Dio a servire il suo Dio in tutto.\n"
     ]
    },
    {
     "name": "stderr",
     "output_type": "stream",
     "text": [
      "Setting `pad_token_id` to `eos_token_id`:2 for open-end generation.\n"
     ]
    },
    {
     "name": "stdout",
     "output_type": "stream",
     "text": [
      "[Minerva] → Il traduttore inglese usa l'alfabeto arabo e l'alfabeto greco.\n"
     ]
    },
    {
     "name": "stderr",
     "output_type": "stream",
     "text": [
      "Setting `pad_token_id` to `eos_token_id`:2 for open-end generation.\n"
     ]
    },
    {
     "name": "stdout",
     "output_type": "stream",
     "text": [
      "[Minerva] → Io mi ricordo (ch. 352) che non ricordo (ch. 361) che non ricordo (ch. 363) che non ricordo (ch. 365)\n"
     ]
    },
    {
     "name": "stderr",
     "output_type": "stream",
     "text": [
      "Setting `pad_token_id` to `eos_token_id`:2 for open-end generation.\n"
     ]
    },
    {
     "name": "stdout",
     "output_type": "stream",
     "text": [
      "[Minerva] → colui del quale tu ti tti dolere ch' avevi amato;\n"
     ]
    },
    {
     "name": "stderr",
     "output_type": "stream",
     "text": [
      "Setting `pad_token_id` to `eos_token_id`:2 for open-end generation.\n"
     ]
    },
    {
     "name": "stdout",
     "output_type": "stream",
     "text": [
      "[Minerva] → Ma non vi è alcun dubbio che la donna non era la madre di tutti i figli.\n"
     ]
    },
    {
     "name": "stderr",
     "output_type": "stream",
     "text": [
      "Setting `pad_token_id` to `eos_token_id`:2 for open-end generation.\n"
     ]
    },
    {
     "name": "stdout",
     "output_type": "stream",
     "text": [
      "[Minerva] → O ti dixe: \"O fedele mia donna,\n"
     ]
    },
    {
     "name": "stderr",
     "output_type": "stream",
     "text": [
      "Setting `pad_token_id` to `eos_token_id`:2 for open-end generation.\n"
     ]
    },
    {
     "name": "stdout",
     "output_type": "stream",
     "text": [
      "[Minerva] → È di origine antica.\n",
      "[Minerva] → E sibillina la mia mente, e la mia fede, e la mia speranza, e il mio buon proposito.\n",
      "[LLaMA] → quella guerra ben fatta l' opera perché etc. Et dall' altra parte Aiaces era uno cavaliere franco e prode all' arme, di gran guisa, ma non era pieno di grande senno\n",
      "[LLaMA] → crudele, e di tutte le colpe pigli vendetta, come dice la legge, ed a nessuno cavaliere perdoni che pecchi.\n",
      "[LLaMA] → Di altre forze d' animo non fu ornato Ponzio Aufidiano, cavaliere romano.\n",
      "[LLaMA] → Se questo piace a tutti e se il tempo ha bisogno d'aver Pompeio per cavaliere e non per compagno, non riterrò più i fati.\n",
      "[LLaMA] → L'arte di questa professione è di dire cose che non sono vere, per far credere che le cose che dicono siano vere.\n",
      "[LLaMA] → Ecco e larghi ventipiovoli caggiono delle nebbie risolute; e potresti credere che tutto il cielo cadesse nel mare\n",
      "[LLaMA] → Ma che se alcuni che non ancora credono in Cristo, pur vedendo con noi ciò che non possono negare, gridano di dolore.\n",
      "[LLaMA] → Il re furioso fece le vendite dei morti e la pressione dei vivi.\n",
      "[LLaMA] → Perché quel giovane, che ora per i suoi grandi peccati è feroce e onorato, egli afflitto e tormentato dalla disubbidienza verso il mio padre.\n"
     ]
    },
    {
     "name": "stderr",
     "output_type": "stream",
     "text": [
      "You seem to be using the pipelines sequentially on GPU. In order to maximize efficiency please use a dataset\n"
     ]
    },
    {
     "name": "stdout",
     "output_type": "stream",
     "text": [
      "[LLaMA] → Quanto più grande è l'anima\n",
      "[LLaMA] → Marco Cornelio, uno dei dieci compagni, riservava di parlare all'ultimo.\n",
      "[LLaMA] → cose che io sapeva che erano fatte in Italia.\n",
      "[LLaMA] → Velleio, figlio di L\n",
      "[LLaMA] → Inoltre uno amante chiamando la sua donna merzé dice parole e ragioni molte, et ella si difende in suo dire.\n",
      "[LLaMA] → Io ricordo che una volta, per sfogare la mia ira, mi scapigliai la donna. Ohi, quanti giorni di ira m'ha tolto!\n",
      "[LLaMA] → di cui ti facevi pena,\n",
      "[LLaMA] → Ma non sapevano ancora le nomora del congiurato, perché la donna non nominava ancora i nomi.\n",
      "[LLaMA] → Creti? Certo, quando lui mosse, disse: \"O fedele mia donna, facci che tu sia accolta come un'ospite in casa del nostro ospite troiano.\"\n",
      "[LLaMA] → A Milano fu repressa la malvagità di una donna in simile bugìa, nel tempo medesimo di questo signore della repubblica, in questo modo:\n",
      "[LLaMA] → E lamentavansi dell'iniquità d'Appio, e ripiagnevano la malavventurata beltà della pulcella e la necessità del padre.\n"
     ]
    }
   ],
   "source": [
    "translations_minerva = translate(minerva_pipe, archaic_sentences, label=\"Minerva\")\n",
    "translations_llama = translate(llama_pipe, archaic_sentences, label=\"LLaMA\")"
   ]
  },
  {
   "cell_type": "markdown",
   "id": "9b019484",
   "metadata": {},
   "source": [
    "# 🔍 Simulazione punteggi da LLM-as-a-Judge"
   ]
  },
  {
   "cell_type": "code",
   "execution_count": 7,
   "id": "f81cd8d2",
   "metadata": {},
   "outputs": [],
   "source": [
    "manual_scores = [5] * len(archaic_sentences)\n",
    "judge_scores_minerva = [5 if i % 3 != 0 else 4 for i in range(len(archaic_sentences))]\n",
    "judge_scores_llama = [4 if i % 2 == 0 else 5 for i in range(len(archaic_sentences))]"
   ]
  },
  {
   "cell_type": "markdown",
   "id": "2126de2e",
   "metadata": {},
   "source": [
    "# 📊 Calcolo concordanza"
   ]
  },
  {
   "cell_type": "code",
   "execution_count": 8,
   "id": "3f6771b4",
   "metadata": {},
   "outputs": [
    {
     "name": "stdout",
     "output_type": "stream",
     "text": [
      "Cohen’s Kappa (Minerva): 0.00\n",
      "Cohen’s Kappa (LLaMA): 0.00\n"
     ]
    }
   ],
   "source": [
    "kappa_minerva = cohen_kappa_score(manual_scores, judge_scores_minerva)\n",
    "kappa_llama = cohen_kappa_score(manual_scores, judge_scores_llama)\n",
    "\n",
    "print(f\"Cohen’s Kappa (Minerva): {kappa_minerva:.2f}\")\n",
    "print(f\"Cohen’s Kappa (LLaMA): {kappa_llama:.2f}\")\n"
   ]
  },
  {
   "cell_type": "markdown",
   "id": "7e5e63bc",
   "metadata": {},
   "source": [
    "# 💾 Salvataggio risultati JSONL"
   ]
  },
  {
   "cell_type": "code",
   "execution_count": 9,
   "id": "9004b9d7",
   "metadata": {},
   "outputs": [],
   "source": [
    "save_jsonl(\"groupX-hw2_transl-minerva350M\", archaic_sentences, translations_minerva)\n",
    "save_jsonl(\"groupX-hw2_transl-llama2_7b\", archaic_sentences, translations_llama)\n",
    "save_judging(\"groupX-hw2_transl-judge_minerva\", archaic_sentences, judge_scores_minerva)\n",
    "save_judging(\"groupX-hw2_transl-judge_llama\", archaic_sentences, judge_scores_llama)"
   ]
  }
 ],
 "metadata": {
  "kernelspec": {
   "display_name": "Python 3",
   "language": "python",
   "name": "python3"
  },
  "language_info": {
   "codemirror_mode": {
    "name": "ipython",
    "version": 3
   },
   "file_extension": ".py",
   "mimetype": "text/x-python",
   "name": "python",
   "nbconvert_exporter": "python",
   "pygments_lexer": "ipython3",
   "version": "3.11.5"
  }
 },
 "nbformat": 4,
 "nbformat_minor": 5
}

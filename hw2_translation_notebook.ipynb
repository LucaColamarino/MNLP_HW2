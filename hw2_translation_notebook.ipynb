{
 "cells": [
  {
   "cell_type": "code",
   "execution_count": 6,
   "id": "325c7a8f",
   "metadata": {},
   "outputs": [
    {
     "data": {
      "text/plain": [
       "{\"Cohen's Kappa (Minerva)\": np.float64(1.0),\n",
       " \"Cohen's Kappa (LLaMA)\": np.float64(0.05405405405405406)}"
      ]
     },
     "execution_count": 6,
     "metadata": {},
     "output_type": "execute_result"
    }
   ],
   "source": [
    "from sklearn.metrics import cohen_kappa_score\n",
    "import json\n",
    "\n",
    "# Frasi italiane antiche (dataset)\n",
    "archaic_sentences = [\n",
    "    \"Tosto che con la chiesa mossi i piedi a Dio per grazia piacque spirarmi, l’alto lavoro, e tutto ‘n lui mi diedi\",\n",
    "    \"Or volgiti a ponente, e pon giù mente a questa selva antica e sì spessa, che mai per piè mortal non fu percorsa.\",\n",
    "    \"Ahi serva Italia, di dolore ostello, nave sanza nocchiere in gran tempesta, non donna di province, ma bordello!\",\n",
    "    \"E però sappia chi ciò ode, che l’anima mia con Dio sen giva lieta e contenta\",\n",
    "    \"Nel mezzo del cammin di nostra vita mi ritrovai per una selva oscura, ché la diritta via era smarrita.\",\n",
    "    \"E l’un di loro disse: Ahi frate, perché m’hai tu sì di subito tratto?\",\n",
    "    \"Poscia più che il dolor poté 'l digiuno.\",\n",
    "    \"Sotto figura d'uom benigna e mesta, io vidi un'ombra sola: e questa trasse me a sé col viso onesto e mesto.\",\n",
    "    \"Veggio nel tempo che viene un gran rivolgimento e mutamento ne’ costumi umani.\",\n",
    "    \"E già l’alba vinceva l’ora mattutina, che fuggia innanzi, sì che di lontano conobbi il tremolar della marina.\"\n",
    "]\n",
    "\n",
    "# Traduzioni simulate da due modelli\n",
    "translations_minerva = [\n",
    "    \"Appena iniziai il mio cammino con la chiesa, Dio per grazia mi ispirò e mi dedicai completamente a lui e al lavoro.\",\n",
    "    \"Ora guarda verso ovest e fai attenzione a questa selva antica e così fitta che nessun uomo l'ha mai attraversata.\",\n",
    "    \"Oh povera Italia, piena di dolore, una nave senza timoniere in una grande tempesta, non più signora ma bordello!\",\n",
    "    \"Chi ascolta sappia che la mia anima andava via con Dio, felice e serena.\",\n",
    "    \"A metà della nostra vita mi trovai in una selva oscura, poiché avevo perso la retta via.\",\n",
    "    \"E uno di loro disse: Fratello, perché mi hai portato via così all’improvviso?\",\n",
    "    \"Poi la fame fu più forte del dolore.\",\n",
    "    \"In forma di uomo gentile e triste, vidi un'unica ombra: e questa mi attirò a sé con un volto onesto e mesto.\",\n",
    "    \"Vedo nei tempi futuri un grande cambiamento nei costumi degli uomini.\",\n",
    "    \"L’alba già vinceva il mattino, che fuggiva, e da lontano riconobbi il tremolio del mare.\"\n",
    "]\n",
    "\n",
    "translations_llama = [\n",
    "    \"Non appena camminai con la chiesa, Dio mi ispirò con la sua grazia e mi dedicai a lui e al mio compito.\",\n",
    "    \"Dirigiti verso ovest e osserva quella selva antica e così fitta che mai nessun piede umano la percorse.\",\n",
    "    \"Italia, povera e piena di dolore, nave senza guida nella tempesta, non più regina, ma casa del peccato.\",\n",
    "    \"Che chi ascolta sappia: la mia anima se ne andava con Dio, felice e serena.\",\n",
    "    \"Nel mezzo della nostra vita mi trovai in una foresta oscura, perché avevo perso la strada giusta.\",\n",
    "    \"Allora uno disse: Fratello, perché mi hai così improvvisamente tolto?\",\n",
    "    \"Poi la fame fu più potente del dolore.\",\n",
    "    \"In forma di uomo buono e triste, vidi solo un'ombra: essa mi attirò a sé con volto sincero e mesto.\",\n",
    "    \"Nel futuro vedo un grande cambiamento nei comportamenti umani.\",\n",
    "    \"L’alba stava vincendo il mattino che fuggiva, e da lontano riconobbi il tremolio del mare.\"\n",
    "]\n",
    "\n",
    "# Simulazione di punteggi da LLM-as-a-Judge\n",
    "judge_scores_minerva = [5, 5, 5, 4, 5, 4, 5, 5, 5, 5]\n",
    "judge_scores_llama = [4, 4, 4, 4, 4, 4, 4, 4, 4, 5]\n",
    "\n",
    "# Annotazioni manuali simulate\n",
    "manual_scores = [5, 5, 5, 4, 5, 4, 5, 5, 5, 5]\n",
    "\n",
    "# Calcolo concordanza\n",
    "kappa_minerva = cohen_kappa_score(manual_scores, judge_scores_minerva)\n",
    "kappa_llama = cohen_kappa_score(manual_scores, judge_scores_llama)\n",
    "\n",
    "# Salvataggio dei file jsonl\n",
    "def save_jsonl(name, originals, translations):\n",
    "    with open(f\"{name}.jsonl\", \"w\", encoding=\"utf-8\") as f:\n",
    "        for arc, trans in zip(originals, translations):\n",
    "            f.write(json.dumps({\"original\": arc, \"translation\": trans}, ensure_ascii=False) + \"\\n\")\n",
    "\n",
    "def save_judging(name, originals, scores):\n",
    "    with open(f\"{name}.jsonl\", \"w\", encoding=\"utf-8\") as f:\n",
    "        for i, (arc, score) in enumerate(zip(originals, scores)):\n",
    "            f.write(json.dumps({\"id\": i, \"original\": arc, \"score\": score}, ensure_ascii=False) + \"\\n\")\n",
    "\n",
    "save_jsonl(\"groupX-hw2_transl-minerva350M\", archaic_sentences, translations_minerva)\n",
    "save_jsonl(\"groupX-hw2_transl-llama3B\", archaic_sentences, translations_llama)\n",
    "save_judging(\"groupX-hw2_transl-judge_minerva\", archaic_sentences, judge_scores_minerva)\n",
    "save_judging(\"groupX-hw2_transl-judge_llama\", archaic_sentences, judge_scores_llama)\n",
    "\n",
    "{\n",
    "    \"Cohen's Kappa (Minerva)\": kappa_minerva,\n",
    "    \"Cohen's Kappa (LLaMA)\": kappa_llama\n",
    "}\n",
    "\n"
   ]
  }
 ],
 "metadata": {
  "kernelspec": {
   "display_name": "Python 3",
   "language": "python",
   "name": "python3"
  },
  "language_info": {
   "codemirror_mode": {
    "name": "ipython",
    "version": 3
   },
   "file_extension": ".py",
   "mimetype": "text/x-python",
   "name": "python",
   "nbconvert_exporter": "python",
   "pygments_lexer": "ipython3",
   "version": "3.11.5"
  }
 },
 "nbformat": 4,
 "nbformat_minor": 5
}

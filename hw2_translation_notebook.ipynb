{
 "cells": [
  {
   "cell_type": "markdown",
   "id": "ca246820",
   "metadata": {},
   "source": [
    "# Imports"
   ]
  },
  {
   "cell_type": "code",
   "execution_count": 2,
   "id": "4d32d9bc",
   "metadata": {},
   "outputs": [
    {
     "name": "stderr",
     "output_type": "stream",
     "text": [
      "c:\\Users\\colam\\Documents\\GitHub\\MNLP_HW2\\.venv\\Lib\\site-packages\\tqdm\\auto.py:21: TqdmWarning: IProgress not found. Please update jupyter and ipywidgets. See https://ipywidgets.readthedocs.io/en/stable/user_install.html\n",
      "  from .autonotebook import tqdm as notebook_tqdm\n"
     ]
    }
   ],
   "source": [
    "from transformers import AutoTokenizer, AutoModelForCausalLM,BitsAndBytesConfig\n",
    "import pandas as pd\n",
    "from datasets import load_dataset\n",
    "from sklearn.metrics import cohen_kappa_score\n",
    "import torch\n",
    "from tqdm import tqdm\n",
    "from peft import get_peft_model, LoraConfig, TaskType\n",
    "from transformers import TrainingArguments, Trainer, DataCollatorForLanguageModeling, logging\n",
    "import glob\n",
    "import os\n"
   ]
  },
  {
   "cell_type": "markdown",
   "id": "af197d4a",
   "metadata": {},
   "source": [
    "# 📥 Caricamento dati"
   ]
  },
  {
   "cell_type": "code",
   "execution_count": 2,
   "id": "d8974cb4",
   "metadata": {},
   "outputs": [],
   "source": [
    "dataset_path = \"inputs/dataset.csv\""
   ]
  },
  {
   "cell_type": "code",
   "execution_count": 3,
   "id": "e9cf37c2",
   "metadata": {},
   "outputs": [],
   "source": [
    "df = pd.read_csv(dataset_path)\n",
    "archaic_sentences = df[\"Sentence\"].dropna().tolist()[:20]"
   ]
  },
  {
   "cell_type": "markdown",
   "id": "56f795e7",
   "metadata": {},
   "source": [
    "# 👨‍🏫 Fine Tuning"
   ]
  },
  {
   "cell_type": "markdown",
   "id": "26658fb1",
   "metadata": {},
   "source": [
    "## Parametri fine tuning"
   ]
  },
  {
   "cell_type": "code",
   "execution_count": null,
   "id": "dec9dc9b",
   "metadata": {},
   "outputs": [],
   "source": [
    "# 📁 Percorso alla cartella con i file CSV\n",
    "cartella_csvs = \"fine_tuning/csvs\"  \n",
    "# 📁 Percorso alla cartella dove andrà il dataset concatenato\n",
    "cartella_dataset_concatenato = \"inputs/dataset_concatenato.csv\"\n",
    "\n",
    "training_epochs=15\n",
    "\n",
    "model_name = \"mistralai/Mistral-7B-Instruct-v0.2\"\n",
    "#model_name = \"TinyLlama/TinyLlama-1.1B-Chat-v1.0\"\n",
    "#model_name = \"bigscience/bloomz-3b\"\n",
    "\n",
    "nuovi_token_max=100\n",
    "temperatura=0.7\n",
    "max_translations=0 # 0 = no limit, >0 = max number of translations to generate\n",
    "\n",
    "def getPrompt(archaic_sentence):\n",
    "    prompt = (\n",
    "        \"Sei un traduttore professionista di testi antichi in italiano moderno.\\n\"\n",
    "        \"Trasforma la seguente frase antica in italiano moderno, mantenendo il significato.\\n\"\n",
    "        f\"Testo antico: {archaic_sentence}\\n\"\n",
    "        \"Traduzione moderna:\"\n",
    "    )\n",
    "    return prompt"
   ]
  },
  {
   "cell_type": "markdown",
   "id": "fbbf028d",
   "metadata": {},
   "source": [
    "## Load Dataset"
   ]
  },
  {
   "cell_type": "code",
   "execution_count": null,
   "id": "b045c948",
   "metadata": {},
   "outputs": [],
   "source": [
    "\n",
    "# 🔍 Prende tutti i file .csv nella cartella\n",
    "csv_files = glob.glob(os.path.join(cartella_csvs, \"*.csv\"))\n",
    "\n",
    "# 📦 Carica e concatena tutti i file\n",
    "dataframes = []\n",
    "for file in csv_files:\n",
    "    try:\n",
    "        df = pd.read_csv(file)\n",
    "        dataframes.append(df)\n",
    "    except Exception as e:\n",
    "        print(f\"Errore nel file {file}: {e}\")\n",
    "\n",
    "# 📚 Unione verticale\n",
    "df_finale = pd.concat(dataframes, ignore_index=True)\n",
    "\n",
    "# 💾 Salvataggio\n",
    "df_finale.to_csv(cartella_dataset_concatenato, index=False)\n",
    "\n",
    "dataset = load_dataset(\"csv\", data_files=cartella_dataset_concatenato)[\"train\"]\n",
    "dataset = dataset.train_test_split(test_size=0.1)\n",
    "\n"
   ]
  },
  {
   "cell_type": "markdown",
   "id": "3fd94a08",
   "metadata": {},
   "source": [
    "## Modello e Tokenizer"
   ]
  },
  {
   "cell_type": "code",
   "execution_count": null,
   "id": "39718bfa",
   "metadata": {},
   "outputs": [],
   "source": [
    "\n",
    "bnb_config = BitsAndBytesConfig(\n",
    "    load_in_4bit=True,\n",
    "    bnb_4bit_use_double_quant=True,\n",
    "    bnb_4bit_compute_dtype=torch.float16,\n",
    "    bnb_4bit_quant_type=\"nf4\"\n",
    ")\n",
    "\n",
    "\n",
    "# Tokenizer\n",
    "tokenizer = AutoTokenizer.from_pretrained(model_name,use_fast=True) #use_fast=True)\n",
    "\n",
    "tokenizer.pad_token = tokenizer.eos_token  # Per evitare errori su padding\n",
    "model = AutoModelForCausalLM.from_pretrained(\n",
    "    model_name,\n",
    "    quantization_config=bnb_config,\n",
    "    device_map=\"auto\"\n",
    ")\n",
    "model.is_loaded_in_4bit = True\n"
   ]
  },
  {
   "cell_type": "markdown",
   "id": "26f9f6b9",
   "metadata": {},
   "source": [
    "## Configurazione Lora"
   ]
  },
  {
   "cell_type": "code",
   "execution_count": null,
   "id": "4322b8ca",
   "metadata": {},
   "outputs": [],
   "source": [
    "peft_config = LoraConfig(\n",
    "    r=8,\n",
    "    lora_alpha=16,\n",
    "    task_type=TaskType.CAUSAL_LM,\n",
    "    lora_dropout=0.1,\n",
    "    bias=\"none\"\n",
    ")\n",
    "\n",
    "model = get_peft_model(model, peft_config)\n",
    "model.print_trainable_parameters()\n"
   ]
  },
  {
   "cell_type": "markdown",
   "id": "9bc1a6df",
   "metadata": {},
   "source": [
    "## Preprocessing dataset"
   ]
  },
  {
   "cell_type": "code",
   "execution_count": null,
   "id": "ca686f13",
   "metadata": {},
   "outputs": [],
   "source": [
    "def format_prompt(example):\n",
    "    prompt = getPrompt(example['text'])\n",
    "    return {\n",
    "        \"input_ids\": tokenizer(prompt, truncation=True, padding=\"max_length\", max_length=512)[\"input_ids\"],\n",
    "        \"labels\": tokenizer(example[\"translation\"], truncation=True, padding=\"max_length\", max_length=512)[\"input_ids\"]\n",
    "    }\n",
    "\n",
    "tokenized_dataset = {\n",
    "    \"train\": dataset[\"train\"].map(format_prompt, remove_columns=dataset[\"train\"].column_names),\n",
    "    \"test\": dataset[\"test\"].map(format_prompt, remove_columns=dataset[\"test\"].column_names)\n",
    "}"
   ]
  },
  {
   "cell_type": "markdown",
   "id": "8c6bb0fe",
   "metadata": {},
   "source": [
    "## Setup Trainer"
   ]
  },
  {
   "cell_type": "code",
   "execution_count": null,
   "id": "510db0d7",
   "metadata": {},
   "outputs": [],
   "source": [
    "logging.set_verbosity_debug()\n",
    "training_args = TrainingArguments(\n",
    "    output_dir=\"Models/Mistral/mistral-lora-itmoderno\",\n",
    "    per_device_train_batch_size=1,\n",
    "    gradient_accumulation_steps=16,\n",
    "    num_train_epochs=training_epochs,\n",
    "    learning_rate=2e-4,\n",
    "    fp16=True,\n",
    "    eval_strategy=\"epoch\",\n",
    "    save_strategy=\"epoch\",\n",
    "    logging_steps=20,\n",
    "    disable_tqdm=False,        # ✅ abilita tqdm\n",
    "    report_to=\"none\",          # evita warning da WandB o altri\n",
    "    logging_dir=\"./logs\",      # facoltativo\n",
    "    save_total_limit=1,\n",
    "    load_best_model_at_end=True,\n",
    "    metric_for_best_model=\"eval_loss\",\n",
    "    greater_is_better=False\n",
    ")\n",
    "\n",
    "data_collator = DataCollatorForLanguageModeling(tokenizer=tokenizer, mlm=False)\n",
    "def compute_metrics(eval_preds):\n",
    "    return {} \n",
    "trainer = Trainer(\n",
    "    model=model,\n",
    "    args=training_args,\n",
    "    train_dataset=tokenized_dataset[\"train\"],\n",
    "    eval_dataset=tokenized_dataset[\"test\"],\n",
    "    tokenizer=tokenizer,\n",
    "    data_collator=data_collator,\n",
    "    compute_metrics=compute_metrics,\n",
    ")\n"
   ]
  },
  {
   "cell_type": "markdown",
   "id": "c1cb9d74",
   "metadata": {},
   "source": [
    "## Avvia Fine Tuning & Salva"
   ]
  },
  {
   "cell_type": "code",
   "execution_count": null,
   "id": "7560514e",
   "metadata": {},
   "outputs": [],
   "source": [
    "trainer.train()\n",
    "model.save_pretrained(\"Models/Mistral/mistral-finetuned-itmodern\")\n",
    "tokenizer.save_pretrained(\"Models/Mistral/mistral-finetuned-itmodern\")\n",
    "from peft import PeftModel\n",
    "from transformers import AutoModelForCausalLM\n",
    "\n",
    "# Carica il modello base\n",
    "base_model = AutoModelForCausalLM.from_pretrained(\"mistralai/Mistral-7B-Instruct-v0.2\")\n",
    "\n",
    "# Carica il checkpoint LoRA appena salvato\n",
    "lora_model = PeftModel.from_pretrained(base_model, \"Models/Mistral/mistral-finetuned-itmodern\")\n",
    "\n",
    "# Merge dei pesi LoRA nel modello base\n",
    "merged_model = lora_model.merge_and_unload()\n",
    "\n",
    "# Salva il modello fuso come standalone\n",
    "merged_model.save_pretrained(\"Models/Mistral/mistral-lora-merged\")\n",
    "\n"
   ]
  },
  {
   "cell_type": "markdown",
   "id": "15fe729c",
   "metadata": {},
   "source": [
    "# 🧠 Traduzioni"
   ]
  },
  {
   "cell_type": "code",
   "execution_count": null,
   "id": "e6efe421",
   "metadata": {},
   "outputs": [],
   "source": [
    "\n",
    "# 0. Quantization config (bnb4bit)\n",
    "bnb_config = BitsAndBytesConfig(\n",
    "    load_in_4bit=True,\n",
    "    bnb_4bit_compute_dtype=torch.float16,\n",
    "    bnb_4bit_quant_type=\"nf4\",\n",
    "    bnb_4bit_use_double_quant=True\n",
    ")\n",
    "\n",
    "# 1. Seleziona il dispositivo\n",
    "device = torch.device(\"cuda\" if torch.cuda.is_available() else \"cpu\")\n",
    "\n",
    "# 2. Carica il modello MERGED e tokenizer\n",
    "model_path = \"Models/Mistral/mistral-lora-merged\"\n",
    "tokenizer = AutoTokenizer.from_pretrained(\"mistralai/Mistral-7B-Instruct-v0.2\")  # tokenizer originale\n",
    "model = AutoModelForCausalLM.from_pretrained(\n",
    "    model_path,\n",
    "    quantization_config=bnb_config,\n",
    "    device_map=\"auto\"\n",
    ")\n",
    "tokenizer.pad_token = tokenizer.eos_token\n",
    "model.eval()\n",
    "\n",
    "# 3. Carica dataset\n",
    "df = pd.read_csv(\"inputs/dataset.csv\")\n",
    "df[\"generated_translation\"] = \"\"\n",
    "\n",
    "# 4. Funzione di traduzione\n",
    "def traduci(s):\n",
    "    prompt = getPrompt(s)\n",
    "    inputs = tokenizer(prompt, return_tensors=\"pt\", truncation=True).to(device)\n",
    "    output = model.generate(\n",
    "        **inputs,\n",
    "        max_new_tokens=nuovi_token_max,\n",
    "        temperature=temperatura,\n",
    "        top_p=0.9,\n",
    "        do_sample=True,\n",
    "        use_cache=True\n",
    "    )\n",
    "    return tokenizer.decode(output[0], skip_special_tokens=True).split(\"Traduzione moderna:\")[-1].strip()\n",
    "\n",
    "# 5. Generazione con barra di avanzamento (solo primi 3 per test)\n",
    "results = []\n",
    "for i, s in enumerate(tqdm(df[\"Sentence\"].tolist())):\n",
    "    if max_translations!= 0 and i >= max_translations:\n",
    "        results.append(\"[SKIPPED]\")\n",
    "        continue\n",
    "    try:\n",
    "        results.append(traduci(s))\n",
    "    except:\n",
    "        results.append(\"[ERRORE]\")\n",
    "\n",
    "df[\"generated_translation\"] = results\n",
    "df[\"score_human\"] = 0\n",
    "# 6. Salva i risultati\n",
    "df.to_csv(\"outputs/dataset_with_mistral_translations.csv\", index=False)\n"
   ]
  },
  {
   "cell_type": "markdown",
   "id": "9b019484",
   "metadata": {},
   "source": [
    "# 🔍 Prometheus LLM-as-a-Judge"
   ]
  },
  {
   "cell_type": "code",
   "execution_count": 11,
   "id": "0448b223",
   "metadata": {},
   "outputs": [
    {
     "name": "stderr",
     "output_type": "stream",
     "text": [
      "Loading checkpoint shards: 100%|██████████| 8/8 [00:08<00:00,  1.12s/it]\n",
      "Some parameters are on the meta device because they were offloaded to the cpu.\n",
      "Device set to use cuda:0\n"
     ]
    }
   ],
   "source": [
    "from transformers import AutoModelForCausalLM, AutoTokenizer, pipeline\n",
    "import torch\n",
    "\n",
    "prometheur_model_name = \"prometheus-eval/prometheus-7b-v2.0\"\n",
    "\n",
    "prometheus_tokenizer = AutoTokenizer.from_pretrained(\n",
    "    prometheur_model_name,\n",
    "    trust_remote_code=True\n",
    ")\n",
    "\n",
    "prometheus_model = AutoModelForCausalLM.from_pretrained(\n",
    "    prometheur_model_name,\n",
    "    trust_remote_code=True, \n",
    "    device_map=\"auto\",\n",
    "    torch_dtype=torch.float16,\n",
    "    offload_folder=\"offload_prometheus\"\n",
    ")\n",
    "\n",
    "judge = pipeline(\"text-generation\", model=prometheus_model, tokenizer=prometheus_tokenizer)\n"
   ]
  },
  {
   "cell_type": "code",
   "execution_count": 13,
   "id": "977e84be",
   "metadata": {},
   "outputs": [
    {
     "name": "stderr",
     "output_type": "stream",
     "text": [
      "Loading checkpoint shards: 100%|██████████| 8/8 [00:09<00:00,  1.22s/it]\n",
      "Some parameters are on the meta device because they were offloaded to the cpu.\n",
      "Device set to use cuda:0\n",
      "  0%|          | 0/3 [00:00<?, ?it/s]The following generation flags are not valid and may be ignored: ['temperature']. Set `TRANSFORMERS_VERBOSITY=info` for more details.\n",
      "The following generation flags are not valid and may be ignored: ['temperature']. Set `TRANSFORMERS_VERBOSITY=info` for more details.\n",
      " 33%|███▎      | 1/3 [00:08<00:16,  8.06s/it]The following generation flags are not valid and may be ignored: ['temperature']. Set `TRANSFORMERS_VERBOSITY=info` for more details.\n",
      "The following generation flags are not valid and may be ignored: ['temperature']. Set `TRANSFORMERS_VERBOSITY=info` for more details.\n",
      " 67%|██████▋   | 2/3 [00:14<00:06,  6.98s/it]The following generation flags are not valid and may be ignored: ['temperature']. Set `TRANSFORMERS_VERBOSITY=info` for more details.\n",
      "The following generation flags are not valid and may be ignored: ['temperature']. Set `TRANSFORMERS_VERBOSITY=info` for more details.\n",
      "100%|██████████| 3/3 [00:20<00:00,  6.67s/it]"
     ]
    },
    {
     "name": "stdout",
     "output_type": "stream",
     "text": [
      "✅ File salvato in outputs/prometheus_absolute_scores.csv\n"
     ]
    },
    {
     "name": "stderr",
     "output_type": "stream",
     "text": [
      "\n"
     ]
    }
   ],
   "source": [
    "import pandas as pd\n",
    "import re\n",
    "from transformers import AutoTokenizer, AutoModelForCausalLM, pipeline\n",
    "import torch\n",
    "from tqdm import tqdm\n",
    "import csv\n",
    "\n",
    "# === 1. Carica i file ===\n",
    "df_base = pd.read_csv(\"inputs/dataset_human_eval.csv\")  # contiene Sentence e HumanEval\n",
    "df_mistral = pd.read_csv(\"outputs/dataset_with_mistral_translations.csv\")  # contiene generated_translation\n",
    "df_nnlb = pd.read_csv(\"outputs/dataset_with_translation_NNLB.csv\")  # contiene generated_translation\n",
    "\n",
    "# Opzionale: solo i primi 15 esempi\n",
    "df_base = df_base.head(3)\n",
    "df_mistral = df_mistral.head(3)\n",
    "df_nnlb = df_nnlb.head(3)\n",
    "\n",
    "# Aggiungi le colonne di traduzione\n",
    "df_base[\"mistral\"] = df_mistral[\"generated_translation\"]\n",
    "df_base[\"mistralHS\"] = df_mistral[\"score_human\"]\n",
    "df_base[\"nnlb\"] = df_nnlb[\"generated_translation\"]\n",
    "df_base[\"nnlbHS\"] = df_nnlb[\"score_human\"]\n",
    "\n",
    "# === 2. Carica Prometheus ===\n",
    "model_name = \"prometheus-eval/prometheus-7b-v2.0\"\n",
    "tokenizer = AutoTokenizer.from_pretrained(model_name, trust_remote_code=True)\n",
    "model = AutoModelForCausalLM.from_pretrained(\n",
    "    model_name,\n",
    "    trust_remote_code=True,\n",
    "    device_map=\"auto\",\n",
    "    torch_dtype=torch.float16,\n",
    "    offload_folder=\"offload_prometheus\",\n",
    "    offload_buffers=True\n",
    ")\n",
    "judge = pipeline(\"text-generation\", model=model, tokenizer=tokenizer)\n",
    "\n",
    "# === 3. Rubrica ===\n",
    "rubric_data = {\n",
    "    \"criteria\": \"Semantic fidelity of the translation\",\n",
    "    \"score1\": \"Completely wrong, the meaning is unrecognizable.\",\n",
    "    \"score2\": \"Severe meaning errors or omissions.\",\n",
    "    \"score3\": \"Some inaccuracies, but the general meaning is conveyed.\",\n",
    "    \"score4\": \"Good fidelity, minor non-substantial differences.\",\n",
    "    \"score5\": \"Perfectly faithful to the original meaning.\"\n",
    "}\n",
    "\n",
    "def build_judge_prompt(original, human_translation, model_translation):\n",
    "    return f\"\"\"\n",
    "You are a translation evaluator.\n",
    "\n",
    "Original:\n",
    "{original}\n",
    "\n",
    "Human:\n",
    "{human_translation}\n",
    "\n",
    "Model:\n",
    "{model_translation}\n",
    "\n",
    "###Score Rubrics:\n",
    "{rubric_data[\"criteria\"]}\n",
    "Score 1: {rubric_data[\"score1\"]}\n",
    "Score 2: {rubric_data[\"score2\"]}\n",
    "Score 3: {rubric_data[\"score3\"]}\n",
    "Score 4: {rubric_data[\"score4\"]}\n",
    "Score 5: {rubric_data[\"score5\"]}\n",
    "\n",
    "Think carefully before assigning a score.\n",
    "Avoid giving the maximum score unless it is perfectly accurate.\n",
    "\n",
    "Score (1–5):\n",
    "\"\"\".strip()\n",
    "\n",
    "\n",
    "\n",
    "def estrai_punteggio(output):\n",
    "    match = re.search(r\"Score\\s*\\(1[–-]5\\)\\s*:\\s*(\\d)\", output)\n",
    "    return int(match.group(1)) if match else None\n",
    "\n",
    "\n",
    "# === 6. Valutazione riga per riga ===\n",
    "score_as = []\n",
    "score_bs = []\n",
    "winners = []\n",
    "\n",
    "for _, row in tqdm(df_base.iterrows(), total=len(df_base)):\n",
    "    # Valuta Mistral (Response A)\n",
    "    prompt_a = build_judge_prompt(row[\"Sentence\"], row[\"HumanEval\"], row[\"mistral\"])\n",
    "    output_a = judge(prompt_a, max_new_tokens=2, do_sample=False)[0][\"generated_text\"]\n",
    "    score_a = estrai_punteggio(output_a)\n",
    "\n",
    "    # Valuta NLLB (Response B)\n",
    "    prompt_b = build_judge_prompt(row[\"Sentence\"], row[\"HumanEval\"], row[\"nnlb\"])\n",
    "    output_b = judge(prompt_b, max_new_tokens=2, do_sample=False)[0][\"generated_text\"]\n",
    "    score_b = estrai_punteggio(output_b)\n",
    "\n",
    "    # Salva punteggi e vincitore\n",
    "    score_as.append(score_a)\n",
    "    score_bs.append(score_b)\n",
    "\n",
    "    if score_a is None or score_b is None:\n",
    "        winners.append(\"?\")\n",
    "    elif score_a > score_b:\n",
    "        winners.append(\"A\")\n",
    "    elif score_b > score_a:\n",
    "        winners.append(\"B\")\n",
    "    else:\n",
    "        winners.append(\"=\")\n",
    "\n",
    "# === 7. Salvataggio risultati ===\n",
    "df_base[\"score_a\"] = score_as\n",
    "df_base[\"score_b\"] = score_bs\n",
    "df_base[\"winner\"] = winners\n",
    "\n",
    "df_base.to_csv(\"outputs/prometheus_absolute_scores.csv\", index=False, quoting=csv.QUOTE_MINIMAL)\n",
    "print(\"✅ File salvato in outputs/prometheus_absolute_scores.csv\")\n"
   ]
  },
  {
   "cell_type": "markdown",
   "id": "2126de2e",
   "metadata": {},
   "source": [
    "# 📊 Calcolo concordanza"
   ]
  },
  {
   "cell_type": "code",
   "execution_count": 14,
   "id": "b571c23a",
   "metadata": {},
   "outputs": [],
   "source": [
    "df_base = pd.read_csv(\"outputs/prometheus_absolute_scores.csv\")"
   ]
  },
  {
   "cell_type": "code",
   "execution_count": 15,
   "id": "eb54fde2",
   "metadata": {},
   "outputs": [
    {
     "name": "stdout",
     "output_type": "stream",
     "text": [
      "MISTRAL\n",
      "== Valori unici ==\n",
      "Umano: [0]\n",
      "Modello: [5]\n",
      "⚠️ Non abbastanza variabilità per calcolare Cohen's Kappa.\n",
      "NNLB\n",
      "== Valori unici ==\n",
      "Umano: [0]\n",
      "Modello: [1, 2, 3]\n",
      "⚠️ Non abbastanza variabilità per calcolare Cohen's Kappa.\n"
     ]
    }
   ],
   "source": [
    "from sklearn.metrics import cohen_kappa_score, classification_report, confusion_matrix\n",
    "\n",
    "def evaluate_concordance(y_true, y_pred):\n",
    "    print(\"== Valori unici ==\")\n",
    "    print(\"Umano:\", sorted(set(y_true)))\n",
    "    print(\"Modello:\", sorted(set(y_pred)))\n",
    "    \n",
    "    if len(set(y_true)) < 2 or len(set(y_pred)) < 2:\n",
    "        print(\"⚠️ Non abbastanza variabilità per calcolare Cohen's Kappa.\")\n",
    "        return\n",
    "    \n",
    "    print(\"\\n== Cohen’s Kappa ==\")\n",
    "    print(f\"{cohen_kappa_score(y_true, y_pred):.3f}\")\n",
    "    \n",
    "    print(\"\\n== Classification Report ==\")\n",
    "    print(classification_report(y_true, y_pred, labels=[1,2,3,4,5]))\n",
    "    \n",
    "    print(\"\\n== Confusion Matrix ==\")\n",
    "    print(confusion_matrix(y_true, y_pred, labels=[1,2,3,4,5]))\n",
    "print(\"MISTRAL\")\n",
    "evaluate_concordance(df_base[\"mistralHS\"], df_base[\"score_a\"])\n",
    "\n",
    "print(\"NNLB\")\n",
    "evaluate_concordance(df_base[\"nnlbHS\"], df_base[\"score_b\"])\n"
   ]
  },
  {
   "cell_type": "markdown",
   "id": "7e5e63bc",
   "metadata": {},
   "source": [
    "# 💾 Salvataggio risultati JSONL"
   ]
  }
 ],
 "metadata": {
  "kernelspec": {
   "display_name": ".venv",
   "language": "python",
   "name": "python3"
  },
  "language_info": {
   "codemirror_mode": {
    "name": "ipython",
    "version": 3
   },
   "file_extension": ".py",
   "mimetype": "text/x-python",
   "name": "python",
   "nbconvert_exporter": "python",
   "pygments_lexer": "ipython3",
   "version": "3.11.5"
  }
 },
 "nbformat": 4,
 "nbformat_minor": 5
}

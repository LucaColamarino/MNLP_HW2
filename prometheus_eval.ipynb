{
 "cells": [
  {
   "cell_type": "markdown",
   "id": "ca246820",
   "metadata": {},
   "source": [
    "# Imports"
   ]
  },
  {
   "cell_type": "code",
   "execution_count": 51,
   "id": "4d32d9bc",
   "metadata": {},
   "outputs": [],
   "source": [
    "from transformers import AutoTokenizer, AutoModelForCausalLM,BitsAndBytesConfig\n",
    "import pandas as pd\n",
    "from datasets import load_dataset\n",
    "from sklearn.metrics import cohen_kappa_score\n",
    "import torch\n",
    "from tqdm import tqdm\n",
    "from peft import get_peft_model, LoraConfig, TaskType\n",
    "from transformers import TrainingArguments, Trainer, DataCollatorForLanguageModeling, logging\n",
    "import glob\n",
    "import os\n"
   ]
  },
  {
   "cell_type": "markdown",
   "id": "9b019484",
   "metadata": {},
   "source": [
    "# 🔍 Prometheus LLM-as-a-Judge"
   ]
  },
  {
   "cell_type": "code",
   "execution_count": 2,
   "id": "0448b223",
   "metadata": {},
   "outputs": [
    {
     "name": "stderr",
     "output_type": "stream",
     "text": [
      "Loading checkpoint shards: 100%|██████████| 8/8 [00:09<00:00,  1.15s/it]\n",
      "Some parameters are on the meta device because they were offloaded to the cpu.\n",
      "Device set to use cuda:0\n"
     ]
    }
   ],
   "source": [
    "from transformers import AutoModelForCausalLM, AutoTokenizer, pipeline\n",
    "import torch\n",
    "\n",
    "prometheur_model_name = \"prometheus-eval/prometheus-7b-v2.0\"\n",
    "\n",
    "prometheus_tokenizer = AutoTokenizer.from_pretrained(\n",
    "    prometheur_model_name,\n",
    "    trust_remote_code=True\n",
    ")\n",
    "\n",
    "prometheus_model = AutoModelForCausalLM.from_pretrained(\n",
    "    prometheur_model_name,\n",
    "    trust_remote_code=True, \n",
    "    device_map=\"auto\",\n",
    "    torch_dtype=torch.float16,\n",
    "    offload_folder=\"offload_prometheus\"\n",
    ")\n",
    "\n",
    "judge = pipeline(\"text-generation\", model=prometheus_model, tokenizer=prometheus_tokenizer)\n"
   ]
  },
  {
   "cell_type": "code",
   "execution_count": null,
   "id": "977e84be",
   "metadata": {},
   "outputs": [
    {
     "name": "stderr",
     "output_type": "stream",
     "text": [
      "Loading checkpoint shards: 100%|██████████| 8/8 [00:11<00:00,  1.46s/it]\n",
      "Some parameters are on the meta device because they were offloaded to the cpu.\n",
      "  0%|          | 0/15 [00:00<?, ?it/s]Asking to truncate to max_length but no maximum length is provided and the model has no predefined maximum length. Default to no truncation.\n",
      "Setting `pad_token_id` to `eos_token_id`:2 for open-end generation.\n"
     ]
    },
    {
     "name": "stdout",
     "output_type": "stream",
     "text": [
      "You are a translation evaluator.\n",
      "\n",
      "Original:\n",
      "quella guerra ben fatta l' opera perché etc. Et dall' altra parte Aiaces era uno cavaliere franco e prode all' arme, di gran guisa, ma non era pieno di grande senno\n",
      "\n",
      "Human:\n",
      "Quella guerra fu condotta bene perchè etc. Dall’altra parte, Aiace era un cavaliere franco e valoroso nelle armi, di grande statura, ma non possedeva grande saggezza.\n",
      "\n",
      "Model:\n",
      "Quella guerra fu combattuta molto bene perché, eccetto che, etc. E dall'altra parte Aiace era un cavaliere francese e valente in armi, di grande statura, ma non aveva grande saggezza.\n",
      "Your task is to assign a score from 1 to 5 that reflects how well the model's translation preserves the original meaning:\n",
      "score 1 = Completely wrong\n",
      "score 2 = Major errors\n",
      "score 3 = Understandable but flawed\n",
      "score 4 = Mostly correct\n",
      "score 5 = Perfectly accurate\n",
      "\n",
      "Always answer with just the number: 5\n"
     ]
    },
    {
     "name": "stderr",
     "output_type": "stream",
     "text": [
      "Setting `pad_token_id` to `eos_token_id`:2 for open-end generation.\n"
     ]
    },
    {
     "name": "stdout",
     "output_type": "stream",
     "text": [
      "You are a translation evaluator.\n",
      "\n",
      "Original:\n",
      "quella guerra ben fatta l' opera perché etc. Et dall' altra parte Aiaces era uno cavaliere franco e prode all' arme, di gran guisa, ma non era pieno di grande senno\n",
      "\n",
      "Human:\n",
      "Quella guerra fu condotta bene perchè etc. Dall’altra parte, Aiace era un cavaliere franco e valoroso nelle armi, di grande statura, ma non possedeva grande saggezza.\n",
      "\n",
      "Model:\n",
      "E d'altra parte, Aiaces era un cavaliere franco e dotato di armi di grande talento, ma non era pieno di grande saggezza.\n",
      "Your task is to assign a score from 1 to 5 that reflects how well the model's translation preserves the original meaning:\n",
      "score 1 = Completely wrong\n",
      "score 2 = Major errors\n",
      "score 3 = Understandable but flawed\n",
      "score 4 = Mostly correct\n",
      "score 5 = Perfectly accurate\n",
      "\n",
      "Always answer with just the number: 4\n"
     ]
    },
    {
     "name": "stderr",
     "output_type": "stream",
     "text": [
      "  7%|▋         | 1/15 [00:03<00:47,  3.40s/it]Setting `pad_token_id` to `eos_token_id`:2 for open-end generation.\n"
     ]
    },
    {
     "name": "stdout",
     "output_type": "stream",
     "text": [
      "You are a translation evaluator.\n",
      "\n",
      "Original:\n",
      "crudele, e di tutte le colpe pigli vendetta, come dice la legge, ed a neuno cavaliere perdoni che pecchi.\n",
      "\n",
      "Human:\n",
      "È crudele, e punisce ogni colpa come vuole la legge, e non perdona alcun cavaliere che sbagli.\n",
      "\n",
      "Model:\n",
      "crudele e di tutte le colpe prende vendetta, come dice la legge, e a nessun cavaliere perdona chi pecca.\n",
      "Your task is to assign a score from 1 to 5 that reflects how well the model's translation preserves the original meaning:\n",
      "score 1 = Completely wrong\n",
      "score 2 = Major errors\n",
      "score 3 = Understandable but flawed\n",
      "score 4 = Mostly correct\n",
      "score 5 = Perfectly accurate\n",
      "\n",
      "Always answer with just the number: 5\n"
     ]
    },
    {
     "name": "stderr",
     "output_type": "stream",
     "text": [
      "Setting `pad_token_id` to `eos_token_id`:2 for open-end generation.\n"
     ]
    },
    {
     "name": "stdout",
     "output_type": "stream",
     "text": [
      "You are a translation evaluator.\n",
      "\n",
      "Original:\n",
      "crudele, e di tutte le colpe pigli vendetta, come dice la legge, ed a neuno cavaliere perdoni che pecchi.\n",
      "\n",
      "Human:\n",
      "È crudele, e punisce ogni colpa come vuole la legge, e non perdona alcun cavaliere che sbagli.\n",
      "\n",
      "Model:\n",
      "e vendichi ogni colpa, come dice la legge, e perdoni nessun cavaliere che commette peccato.\n",
      "Your task is to assign a score from 1 to 5 that reflects how well the model's translation preserves the original meaning:\n",
      "score 1 = Completely wrong\n",
      "score 2 = Major errors\n",
      "score 3 = Understandable but flawed\n",
      "score 4 = Mostly correct\n",
      "score 5 = Perfectly accurate\n",
      "\n",
      "Always answer with just the number: 2\n"
     ]
    },
    {
     "name": "stderr",
     "output_type": "stream",
     "text": [
      " 13%|█▎        | 2/15 [00:06<00:40,  3.11s/it]Setting `pad_token_id` to `eos_token_id`:2 for open-end generation.\n"
     ]
    },
    {
     "name": "stdout",
     "output_type": "stream",
     "text": [
      "You are a translation evaluator.\n",
      "\n",
      "Original:\n",
      "Non d' altra forza d' animo fue ornato Ponzio Aufidiano, romano cavaliere.\n",
      "\n",
      "Human:\n",
      "Ponzio Aufidiano, cavaliere romano, non fu dotato di un animo diverso.\n",
      "\n",
      "Model:\n",
      "Non fu ornato di altro coraggio d'animo Ponzio Aufidiano, romano cavaliere.\n",
      "Your task is to assign a score from 1 to 5 that reflects how well the model's translation preserves the original meaning:\n",
      "score 1 = Completely wrong\n",
      "score 2 = Major errors\n",
      "score 3 = Understandable but flawed\n",
      "score 4 = Mostly correct\n",
      "score 5 = Perfectly accurate\n",
      "\n",
      "Always answer with just the number: 5\n"
     ]
    },
    {
     "name": "stderr",
     "output_type": "stream",
     "text": [
      "Setting `pad_token_id` to `eos_token_id`:2 for open-end generation.\n"
     ]
    },
    {
     "name": "stdout",
     "output_type": "stream",
     "text": [
      "You are a translation evaluator.\n",
      "\n",
      "Original:\n",
      "Non d' altra forza d' animo fue ornato Ponzio Aufidiano, romano cavaliere.\n",
      "\n",
      "Human:\n",
      "Ponzio Aufidiano, cavaliere romano, non fu dotato di un animo diverso.\n",
      "\n",
      "Model:\n",
      "Non è stata innamorata di altra forza di animo di Ponzio Aufidiano, cavaliere romano.\n",
      "Your task is to assign a score from 1 to 5 that reflects how well the model's translation preserves the original meaning:\n",
      "score 1 = Completely wrong\n",
      "score 2 = Major errors\n",
      "score 3 = Understandable but flawed\n",
      "score 4 = Mostly correct\n",
      "score 5 = Perfectly accurate\n",
      "\n",
      "Always answer with just the number: 1\n"
     ]
    },
    {
     "name": "stderr",
     "output_type": "stream",
     "text": [
      " 20%|██        | 3/15 [00:09<00:36,  3.02s/it]Setting `pad_token_id` to `eos_token_id`:2 for open-end generation.\n"
     ]
    },
    {
     "name": "stdout",
     "output_type": "stream",
     "text": [
      "You are a translation evaluator.\n",
      "\n",
      "Original:\n",
      "Se questo piace a tutti e se 'l tempo hae bisogno d'avere Pompeio per cavaliere e non per compagno, non riterrò più i fati.\n",
      "\n",
      "Human:\n",
      "Se questo piace a tutti e se il tempo ha bisogno di avere Pompeo come cavaliere e non come compagno, non ostacolerò più il destino.\n",
      "\n",
      "Model:\n",
      "Se ti piace a tutti e se il tempo ha bisogno di avere Pompeo come cavaliere e non come compagno, non lo riterrò più tra i fatti.\n",
      "\n",
      "Explanation:\n",
      "\n",
      "The text is in the Tuscan dialect of the Italian language, which was used in medieval and Renaissance Italy. The modern Italian equivalent of the Tuscan dialect would be the Italian language as it is spoken today in Italy.\n",
      "\n",
      "The\n",
      "Your task is to assign a score from 1 to 5 that reflects how well the model's translation preserves the original meaning:\n",
      "score 1 = Completely wrong\n",
      "score 2 = Major errors\n",
      "score 3 = Understandable but flawed\n",
      "score 4 = Mostly correct\n",
      "score 5 = Perfectly accurate\n",
      "\n",
      "Always answer with just the number: 5\n"
     ]
    },
    {
     "name": "stderr",
     "output_type": "stream",
     "text": [
      "Setting `pad_token_id` to `eos_token_id`:2 for open-end generation.\n"
     ]
    },
    {
     "name": "stdout",
     "output_type": "stream",
     "text": [
      "You are a translation evaluator.\n",
      "\n",
      "Original:\n",
      "Se questo piace a tutti e se 'l tempo hae bisogno d'avere Pompeio per cavaliere e non per compagno, non riterrò più i fati.\n",
      "\n",
      "Human:\n",
      "Se questo piace a tutti e se il tempo ha bisogno di avere Pompeo come cavaliere e non come compagno, non ostacolerò più il destino.\n",
      "\n",
      "Model:\n",
      "Se questo gli piace a tutti e se il tempo gli serve per avere Pompei come cavaliere e non come compagno, non ricorderò più i fatti.\n",
      "Your task is to assign a score from 1 to 5 that reflects how well the model's translation preserves the original meaning:\n",
      "score 1 = Completely wrong\n",
      "score 2 = Major errors\n",
      "score 3 = Understandable but flawed\n",
      "score 4 = Mostly correct\n",
      "score 5 = Perfectly accurate\n",
      "\n",
      "Always answer with just the number: 5\n"
     ]
    },
    {
     "name": "stderr",
     "output_type": "stream",
     "text": [
      " 27%|██▋       | 4/15 [00:12<00:32,  2.98s/it]Setting `pad_token_id` to `eos_token_id`:2 for open-end generation.\n"
     ]
    },
    {
     "name": "stdout",
     "output_type": "stream",
     "text": [
      "You are a translation evaluator.\n",
      "\n",
      "Original:\n",
      "Officio di questa arte pare che sia dicere appostatamente per fare credere, fine è far credere per lo dire.\n",
      "\n",
      "Human:\n",
      "Il compito di quest’arte sembra essere quello di parlare in modo adatto per convincere; lo scopo è far credere qualcosa attraverso le parole.\n",
      "\n",
      "Model:\n",
      "Sembra che sia l'obiettivo di questa arte dire qualcosa specificatamente per far credere, in realtà si fa credere per la parola detta.\n",
      "Your task is to assign a score from 1 to 5 that reflects how well the model's translation preserves the original meaning:\n",
      "score 1 = Completely wrong\n",
      "score 2 = Major errors\n",
      "score 3 = Understandable but flawed\n",
      "score 4 = Mostly correct\n",
      "score 5 = Perfectly accurate\n",
      "\n",
      "Always answer with just the number: 5\n"
     ]
    },
    {
     "name": "stderr",
     "output_type": "stream",
     "text": [
      "Setting `pad_token_id` to `eos_token_id`:2 for open-end generation.\n"
     ]
    },
    {
     "name": "stdout",
     "output_type": "stream",
     "text": [
      "You are a translation evaluator.\n",
      "\n",
      "Original:\n",
      "Officio di questa arte pare che sia dicere appostatamente per fare credere, fine è far credere per lo dire.\n",
      "\n",
      "Human:\n",
      "Il compito di quest’arte sembra essere quello di parlare in modo adatto per convincere; lo scopo è far credere qualcosa attraverso le parole.\n",
      "\n",
      "Model:\n",
      "Sembra che l'ufficio di questa arte sia dire in modo apposto per far credere, il fine è far credere per dirlo.\n",
      "Your task is to assign a score from 1 to 5 that reflects how well the model's translation preserves the original meaning:\n",
      "score 1 = Completely wrong\n",
      "score 2 = Major errors\n",
      "score 3 = Understandable but flawed\n",
      "score 4 = Mostly correct\n",
      "score 5 = Perfectly accurate\n",
      "\n",
      "Always answer with just the number: 5\n"
     ]
    },
    {
     "name": "stderr",
     "output_type": "stream",
     "text": [
      " 33%|███▎      | 5/15 [00:15<00:29,  2.96s/it]Setting `pad_token_id` to `eos_token_id`:2 for open-end generation.\n"
     ]
    },
    {
     "name": "stdout",
     "output_type": "stream",
     "text": [
      "You are a translation evaluator.\n",
      "\n",
      "Original:\n",
      "Ecco e larghi ventipiovoli caggiono delle risolute nebbie; e potresti credere che tutto il cielo cadesse nel mare\n",
      "\n",
      "Human:\n",
      "Ecco che forti piogge scendono dalle dense nebbie; potresti pensare che tutto il cielo stia cadendo in mare.\n",
      "\n",
      "Model:\n",
      "Qui giunge e venti ventipiani cieli sgombrano le nebbie sicure; potresti credere che tutto il cielo cadesse nell'acqua.\n",
      "Your task is to assign a score from 1 to 5 that reflects how well the model's translation preserves the original meaning:\n",
      "score 1 = Completely wrong\n",
      "score 2 = Major errors\n",
      "score 3 = Understandable but flawed\n",
      "score 4 = Mostly correct\n",
      "score 5 = Perfectly accurate\n",
      "\n",
      "Always answer with just the number: 3\n"
     ]
    },
    {
     "name": "stderr",
     "output_type": "stream",
     "text": [
      "Setting `pad_token_id` to `eos_token_id`:2 for open-end generation.\n"
     ]
    },
    {
     "name": "stdout",
     "output_type": "stream",
     "text": [
      "You are a translation evaluator.\n",
      "\n",
      "Original:\n",
      "Ecco e larghi ventipiovoli caggiono delle risolute nebbie; e potresti credere che tutto il cielo cadesse nel mare\n",
      "\n",
      "Human:\n",
      "Ecco che forti piogge scendono dalle dense nebbie; potresti pensare che tutto il cielo stia cadendo in mare.\n",
      "\n",
      "Model:\n",
      "Ecco che scorre un gran vento di nebbi risoluti e si potrebbe credere che tutto il Cielo fosse caduto in mare.\n",
      "Your task is to assign a score from 1 to 5 that reflects how well the model's translation preserves the original meaning:\n",
      "score 1 = Completely wrong\n",
      "score 2 = Major errors\n",
      "score 3 = Understandable but flawed\n",
      "score 4 = Mostly correct\n",
      "score 5 = Perfectly accurate\n",
      "\n",
      "Always answer with just the number: 5\n"
     ]
    },
    {
     "name": "stderr",
     "output_type": "stream",
     "text": [
      " 40%|████      | 6/15 [00:17<00:26,  2.94s/it]Setting `pad_token_id` to `eos_token_id`:2 for open-end generation.\n"
     ]
    },
    {
     "name": "stdout",
     "output_type": "stream",
     "text": [
      "You are a translation evaluator.\n",
      "\n",
      "Original:\n",
      "Però che or chi spererebbe quello che eziandio questi che non vogliono ancora credere in Cristo, già veggiono con noi, e perché nol possono negare, stridono colli denti.\n",
      "\n",
      "Human:\n",
      "Perché ora chi spererebbe ciò che anche quelli che non vogliono ancora credere in Cristo, già vedono insieme a noi, e poiché non lo possono negare, stringono i denti.\n",
      "\n",
      "Model:\n",
      "Ma chi potrebbe sperare ora quello che questi, che ancora non credono in Cristo, non lo vedono già con noi, e perché non possono negarlo, lo stridono con i denti.\n",
      "Your task is to assign a score from 1 to 5 that reflects how well the model's translation preserves the original meaning:\n",
      "score 1 = Completely wrong\n",
      "score 2 = Major errors\n",
      "score 3 = Understandable but flawed\n",
      "score 4 = Mostly correct\n",
      "score 5 = Perfectly accurate\n",
      "\n",
      "Always answer with just the number: 1\n"
     ]
    },
    {
     "name": "stderr",
     "output_type": "stream",
     "text": [
      "Setting `pad_token_id` to `eos_token_id`:2 for open-end generation.\n"
     ]
    },
    {
     "name": "stdout",
     "output_type": "stream",
     "text": [
      "You are a translation evaluator.\n",
      "\n",
      "Original:\n",
      "Però che or chi spererebbe quello che eziandio questi che non vogliono ancora credere in Cristo, già veggiono con noi, e perché nol possono negare, stridono colli denti.\n",
      "\n",
      "Human:\n",
      "Perché ora chi spererebbe ciò che anche quelli che non vogliono ancora credere in Cristo, già vedono insieme a noi, e poiché non lo possono negare, stringono i denti.\n",
      "\n",
      "Model:\n",
      "Ma ora, coloro che ancora non credono in Cristo vedono con noi ciò che spero, e perché non possono negarlo, fanno urlo di denti.\n",
      "Your task is to assign a score from 1 to 5 that reflects how well the model's translation preserves the original meaning:\n",
      "score 1 = Completely wrong\n",
      "score 2 = Major errors\n",
      "score 3 = Understandable but flawed\n",
      "score 4 = Mostly correct\n",
      "score 5 = Perfectly accurate\n",
      "\n",
      "Always answer with just the number: 5\n"
     ]
    },
    {
     "name": "stderr",
     "output_type": "stream",
     "text": [
      " 47%|████▋     | 7/15 [00:21<00:23,  2.97s/it]Setting `pad_token_id` to `eos_token_id`:2 for open-end generation.\n"
     ]
    },
    {
     "name": "stdout",
     "output_type": "stream",
     "text": [
      "You are a translation evaluator.\n",
      "\n",
      "Original:\n",
      "I vendimenti de' morti et le presure de' vivi fece la frode d'uno feroce re.\n",
      "\n",
      "Human:\n",
      "Le vendite dei morti e le pressioni sui vivi furono opera dell’inganno di un re crudele.\n",
      "\n",
      "Model:\n",
      "La morte dei morti e le pressioni dei vivi fecero la frode di un crudele re.\n",
      "Your task is to assign a score from 1 to 5 that reflects how well the model's translation preserves the original meaning:\n",
      "score 1 = Completely wrong\n",
      "score 2 = Major errors\n",
      "score 3 = Understandable but flawed\n",
      "score 4 = Mostly correct\n",
      "score 5 = Perfectly accurate\n",
      "\n",
      "Always answer with just the number: 5\n"
     ]
    },
    {
     "name": "stderr",
     "output_type": "stream",
     "text": [
      "Setting `pad_token_id` to `eos_token_id`:2 for open-end generation.\n"
     ]
    },
    {
     "name": "stdout",
     "output_type": "stream",
     "text": [
      "You are a translation evaluator.\n",
      "\n",
      "Original:\n",
      "I vendimenti de' morti et le presure de' vivi fece la frode d'uno feroce re.\n",
      "\n",
      "Human:\n",
      "Le vendite dei morti e le pressioni sui vivi furono opera dell’inganno di un re crudele.\n",
      "\n",
      "Model:\n",
      "Le vendite dei morti e le pressioni dei vivi hanno reso possibile l'inganno di un re feroce.\n",
      "Your task is to assign a score from 1 to 5 that reflects how well the model's translation preserves the original meaning:\n",
      "score 1 = Completely wrong\n",
      "score 2 = Major errors\n",
      "score 3 = Understandable but flawed\n",
      "score 4 = Mostly correct\n",
      "score 5 = Perfectly accurate\n",
      "\n",
      "Always answer with just the number: 5\n"
     ]
    },
    {
     "name": "stderr",
     "output_type": "stream",
     "text": [
      " 53%|█████▎    | 8/15 [00:23<00:20,  2.94s/it]Setting `pad_token_id` to `eos_token_id`:2 for open-end generation.\n"
     ]
    },
    {
     "name": "stdout",
     "output_type": "stream",
     "text": [
      "You are a translation evaluator.\n",
      "\n",
      "Original:\n",
      "Acciocché quegli, il quale ora per le sue gran reità è feroce e onorevole, egli d'ogni male afflitto e tormentato della impietà verso il mio padre.\n",
      "\n",
      "Human:\n",
      " Così che colui, che ora è temuto e onorato per i suoi grandi delitti, sia tormentato da ogni male a causa della sua crudeltà verso mio padre.\n",
      "\n",
      "Model:\n",
      "Affinché quello, il quale ora per le sue grandi reazioni è fiero e onorabile, egli sia afflitto e tormentato da ogni male per la sua impietas verso il mio padre.\n",
      "Your task is to assign a score from 1 to 5 that reflects how well the model's translation preserves the original meaning:\n",
      "score 1 = Completely wrong\n",
      "score 2 = Major errors\n",
      "score 3 = Understandable but flawed\n",
      "score 4 = Mostly correct\n",
      "score 5 = Perfectly accurate\n",
      "\n",
      "Always answer with just the number: 5\n"
     ]
    },
    {
     "name": "stderr",
     "output_type": "stream",
     "text": [
      "Setting `pad_token_id` to `eos_token_id`:2 for open-end generation.\n"
     ]
    },
    {
     "name": "stdout",
     "output_type": "stream",
     "text": [
      "You are a translation evaluator.\n",
      "\n",
      "Original:\n",
      "Acciocché quegli, il quale ora per le sue gran reità è feroce e onorevole, egli d'ogni male afflitto e tormentato della impietà verso il mio padre.\n",
      "\n",
      "Human:\n",
      " Così che colui, che ora è temuto e onorato per i suoi grandi delitti, sia tormentato da ogni male a causa della sua crudeltà verso mio padre.\n",
      "\n",
      "Model:\n",
      "Perché lui, che ora è feroce e onorevole per le sue grandi ricchezze, è afflitto da ogni male e tormentato dall'impedimento verso mio padre.\n",
      "Your task is to assign a score from 1 to 5 that reflects how well the model's translation preserves the original meaning:\n",
      "score 1 = Completely wrong\n",
      "score 2 = Major errors\n",
      "score 3 = Understandable but flawed\n",
      "score 4 = Mostly correct\n",
      "score 5 = Perfectly accurate\n",
      "\n",
      "Always answer with just the number: 5\n"
     ]
    },
    {
     "name": "stderr",
     "output_type": "stream",
     "text": [
      " 60%|██████    | 9/15 [00:26<00:17,  2.95s/it]Setting `pad_token_id` to `eos_token_id`:2 for open-end generation.\n"
     ]
    },
    {
     "name": "stdout",
     "output_type": "stream",
     "text": [
      "You are a translation evaluator.\n",
      "\n",
      "Original:\n",
      "Gli uomini spessamente a stare fermi nella bugia incontra la verità.\n",
      "\n",
      "Human:\n",
      "Spesso gli uomini incontrano la verità mentre stanno fermi in una bugia.\n",
      "\n",
      "Model:\n",
      "Spesso gli uomini incontrano la verità mentre stanno fermi in una bugia.\n",
      "Your task is to assign a score from 1 to 5 that reflects how well the model's translation preserves the original meaning:\n",
      "score 1 = Completely wrong\n",
      "score 2 = Major errors\n",
      "score 3 = Understandable but flawed\n",
      "score 4 = Mostly correct\n",
      "score 5 = Perfectly accurate\n",
      "\n",
      "Always answer with just the number: 5\n"
     ]
    },
    {
     "name": "stderr",
     "output_type": "stream",
     "text": [
      "Setting `pad_token_id` to `eos_token_id`:2 for open-end generation.\n"
     ]
    },
    {
     "name": "stdout",
     "output_type": "stream",
     "text": [
      "You are a translation evaluator.\n",
      "\n",
      "Original:\n",
      "Gli uomini spessamente a stare fermi nella bugia incontra la verità.\n",
      "\n",
      "Human:\n",
      "Spesso gli uomini incontrano la verità mentre stanno fermi in una bugia.\n",
      "\n",
      "Model:\n",
      "Spesso gli uomini che restano fermi nella menzogna incontrano la verità.\n",
      "Your task is to assign a score from 1 to 5 that reflects how well the model's translation preserves the original meaning:\n",
      "score 1 = Completely wrong\n",
      "score 2 = Major errors\n",
      "score 3 = Understandable but flawed\n",
      "score 4 = Mostly correct\n",
      "score 5 = Perfectly accurate\n",
      "\n",
      "Always answer with just the number: 5\n"
     ]
    },
    {
     "name": "stderr",
     "output_type": "stream",
     "text": [
      " 67%|██████▋   | 10/15 [00:29<00:14,  2.92s/it]Setting `pad_token_id` to `eos_token_id`:2 for open-end generation.\n"
     ]
    },
    {
     "name": "stdout",
     "output_type": "stream",
     "text": [
      "You are a translation evaluator.\n",
      "\n",
      "Original:\n",
      "Marco Cornelio ch'era de' dieci compagni, studiosamente  si riservò di parlare all'ultimo.\n",
      "\n",
      "Human:\n",
      "Marco Cornelio, che era uno dei dieci compagni, si riservò di parlare per ultimo con grande attenzione.\n",
      "\n",
      "Model:\n",
      "Marco Cornelio, che era tra i dieci compagni, si tenne per ultimo a parlare con sguardo attento.\n",
      "Your task is to assign a score from 1 to 5 that reflects how well the model's translation preserves the original meaning:\n",
      "score 1 = Completely wrong\n",
      "score 2 = Major errors\n",
      "score 3 = Understandable but flawed\n",
      "score 4 = Mostly correct\n",
      "score 5 = Perfectly accurate\n",
      "\n",
      "Always answer with just the number: 5\n"
     ]
    },
    {
     "name": "stderr",
     "output_type": "stream",
     "text": [
      "Setting `pad_token_id` to `eos_token_id`:2 for open-end generation.\n"
     ]
    },
    {
     "name": "stdout",
     "output_type": "stream",
     "text": [
      "You are a translation evaluator.\n",
      "\n",
      "Original:\n",
      "Marco Cornelio ch'era de' dieci compagni, studiosamente  si riservò di parlare all'ultimo.\n",
      "\n",
      "Human:\n",
      "Marco Cornelio, che era uno dei dieci compagni, si riservò di parlare per ultimo con grande attenzione.\n",
      "\n",
      "Model:\n",
      "Marco Cornelio, che era uno dei dieci compagni, si riserva attentamente di parlare con l'ultimo.\n",
      "Your task is to assign a score from 1 to 5 that reflects how well the model's translation preserves the original meaning:\n",
      "score 1 = Completely wrong\n",
      "score 2 = Major errors\n",
      "score 3 = Understandable but flawed\n",
      "score 4 = Mostly correct\n",
      "score 5 = Perfectly accurate\n",
      "\n",
      "Always answer with just the number: 5\n"
     ]
    },
    {
     "name": "stderr",
     "output_type": "stream",
     "text": [
      " 73%|███████▎  | 11/15 [00:32<00:11,  2.92s/it]Setting `pad_token_id` to `eos_token_id`:2 for open-end generation.\n"
     ]
    },
    {
     "name": "stdout",
     "output_type": "stream",
     "text": [
      "You are a translation evaluator.\n",
      "\n",
      "Original:\n",
      "cose ch'io sapeva che erano fatte in Italia.\n",
      "\n",
      "Human:\n",
      "Cose che sapevo essere avvenute in Italia.\n",
      "\n",
      "Model:\n",
      "cose che in Italia si facevano.\n",
      "Your task is to assign a score from 1 to 5 that reflects how well the model's translation preserves the original meaning:\n",
      "score 1 = Completely wrong\n",
      "score 2 = Major errors\n",
      "score 3 = Understandable but flawed\n",
      "score 4 = Mostly correct\n",
      "score 5 = Perfectly accurate\n",
      "\n",
      "Always answer with just the number: 1\n"
     ]
    },
    {
     "name": "stderr",
     "output_type": "stream",
     "text": [
      "Setting `pad_token_id` to `eos_token_id`:2 for open-end generation.\n"
     ]
    },
    {
     "name": "stdout",
     "output_type": "stream",
     "text": [
      "You are a translation evaluator.\n",
      "\n",
      "Original:\n",
      "cose ch'io sapeva che erano fatte in Italia.\n",
      "\n",
      "Human:\n",
      "Cose che sapevo essere avvenute in Italia.\n",
      "\n",
      "Model:\n",
      "cose che sapevo fossero fatte in Italia.\n",
      "Your task is to assign a score from 1 to 5 that reflects how well the model's translation preserves the original meaning:\n",
      "score 1 = Completely wrong\n",
      "score 2 = Major errors\n",
      "score 3 = Understandable but flawed\n",
      "score 4 = Mostly correct\n",
      "score 5 = Perfectly accurate\n",
      "\n",
      "Always answer with just the number: 5\n"
     ]
    },
    {
     "name": "stderr",
     "output_type": "stream",
     "text": [
      " 80%|████████  | 12/15 [00:35<00:08,  2.90s/it]Setting `pad_token_id` to `eos_token_id`:2 for open-end generation.\n"
     ]
    },
    {
     "name": "stdout",
     "output_type": "stream",
     "text": [
      "You are a translation evaluator.\n",
      "\n",
      "Original:\n",
      "Corbio nipote d' Ortensio menò sua vita più bassa e più viziosa\n",
      "\n",
      "Human:\n",
      "Corbio, nipote di Ortensio, visse una vita più bassa e viziosa.\n",
      "\n",
      "Model:\n",
      "Il nipote di Corbio, Ortensio, condusse una vita più bassa e più viziosa.\n",
      "Your task is to assign a score from 1 to 5 that reflects how well the model's translation preserves the original meaning:\n",
      "score 1 = Completely wrong\n",
      "score 2 = Major errors\n",
      "score 3 = Understandable but flawed\n",
      "score 4 = Mostly correct\n",
      "score 5 = Perfectly accurate\n",
      "\n",
      "Always answer with just the number: 5\n"
     ]
    },
    {
     "name": "stderr",
     "output_type": "stream",
     "text": [
      "Setting `pad_token_id` to `eos_token_id`:2 for open-end generation.\n"
     ]
    },
    {
     "name": "stdout",
     "output_type": "stream",
     "text": [
      "You are a translation evaluator.\n",
      "\n",
      "Original:\n",
      "Corbio nipote d' Ortensio menò sua vita più bassa e più viziosa\n",
      "\n",
      "Human:\n",
      "Corbio, nipote di Ortensio, visse una vita più bassa e viziosa.\n",
      "\n",
      "Model:\n",
      "Corbio, nipote di Ortenzio, trascorse la sua vita più bassa e viziosa.\n",
      "Your task is to assign a score from 1 to 5 that reflects how well the model's translation preserves the original meaning:\n",
      "score 1 = Completely wrong\n",
      "score 2 = Major errors\n",
      "score 3 = Understandable but flawed\n",
      "score 4 = Mostly correct\n",
      "score 5 = Perfectly accurate\n",
      "\n",
      "Always answer with just the number: 5\n"
     ]
    },
    {
     "name": "stderr",
     "output_type": "stream",
     "text": [
      " 87%|████████▋ | 13/15 [00:38<00:05,  2.89s/it]Setting `pad_token_id` to `eos_token_id`:2 for open-end generation.\n"
     ]
    },
    {
     "name": "stdout",
     "output_type": "stream",
     "text": [
      "You are a translation evaluator.\n",
      "\n",
      "Original:\n",
      "Altressì uno amante chiamando merzé alla sua donna dice parole e ragioni molte, et ella si difende in suo dire.\n",
      "\n",
      "Human:\n",
      "Così anche un innamorato, chiedendo pietà alla sua donna, pronuncia molte parole e motivi, e lei risponde difendendosi.\n",
      "\n",
      "Model:\n",
      "Inoltre un amante chiamandole grazia alla donna risponde con parole e ragioni tante, e lei si difende nel suo dire.\n",
      "Your task is to assign a score from 1 to 5 that reflects how well the model's translation preserves the original meaning:\n",
      "score 1 = Completely wrong\n",
      "score 2 = Major errors\n",
      "score 3 = Understandable but flawed\n",
      "score 4 = Mostly correct\n",
      "score 5 = Perfectly accurate\n",
      "\n",
      "Always answer with just the number: 5\n"
     ]
    },
    {
     "name": "stderr",
     "output_type": "stream",
     "text": [
      "Setting `pad_token_id` to `eos_token_id`:2 for open-end generation.\n"
     ]
    },
    {
     "name": "stdout",
     "output_type": "stream",
     "text": [
      "You are a translation evaluator.\n",
      "\n",
      "Original:\n",
      "Altressì uno amante chiamando merzé alla sua donna dice parole e ragioni molte, et ella si difende in suo dire.\n",
      "\n",
      "Human:\n",
      "Così anche un innamorato, chiedendo pietà alla sua donna, pronuncia molte parole e motivi, e lei risponde difendendosi.\n",
      "\n",
      "Model:\n",
      "Un amante, chiamando grazie a sua moglie, dice molte parole e ragioni, e lei difende la sua opinione.\n",
      "Your task is to assign a score from 1 to 5 that reflects how well the model's translation preserves the original meaning:\n",
      "score 1 = Completely wrong\n",
      "score 2 = Major errors\n",
      "score 3 = Understandable but flawed\n",
      "score 4 = Mostly correct\n",
      "score 5 = Perfectly accurate\n",
      "\n",
      "Always answer with just the number: 5\n"
     ]
    },
    {
     "name": "stderr",
     "output_type": "stream",
     "text": [
      " 93%|█████████▎| 14/15 [00:41<00:02,  2.86s/it]Setting `pad_token_id` to `eos_token_id`:2 for open-end generation.\n"
     ]
    },
    {
     "name": "stdout",
     "output_type": "stream",
     "text": [
      "You are a translation evaluator.\n",
      "\n",
      "Original:\n",
      "Io mi ricordo (ch. 347) che essendo adirato scapigliai la mia donna. Ohi, quanti dì questa ira mi tolse!\n",
      "\n",
      "Human:\n",
      "Ricordo che, essendo arrabbiato, scompigliai i capelli della mia donna. Ahimè, quanti giorni persi a causa di quell’ira!\n",
      "\n",
      "Model:\n",
      "Ricordo che, arrabbiato, la mia donna irritai. Oh, quanti giorni mi tolse quell’ira!\n",
      "Your task is to assign a score from 1 to 5 that reflects how well the model's translation preserves the original meaning:\n",
      "score 1 = Completely wrong\n",
      "score 2 = Major errors\n",
      "score 3 = Understandable but flawed\n",
      "score 4 = Mostly correct\n",
      "score 5 = Perfectly accurate\n",
      "\n",
      "Always answer with just the number: 5\n"
     ]
    },
    {
     "name": "stderr",
     "output_type": "stream",
     "text": [
      "Setting `pad_token_id` to `eos_token_id`:2 for open-end generation.\n"
     ]
    },
    {
     "name": "stdout",
     "output_type": "stream",
     "text": [
      "You are a translation evaluator.\n",
      "\n",
      "Original:\n",
      "Io mi ricordo (ch. 347) che essendo adirato scapigliai la mia donna. Ohi, quanti dì questa ira mi tolse!\n",
      "\n",
      "Human:\n",
      "Ricordo che, essendo arrabbiato, scompigliai i capelli della mia donna. Ahimè, quanti giorni persi a causa di quell’ira!\n",
      "\n",
      "Model:\n",
      "Mi ricordo (cfr. 347) che quando fui infuriato, fui in fuga con mia moglie. Oh, quanti giorni mi ha spinto questa ira!\n",
      "Your task is to assign a score from 1 to 5 that reflects how well the model's translation preserves the original meaning:\n",
      "score 1 = Completely wrong\n",
      "score 2 = Major errors\n",
      "score 3 = Understandable but flawed\n",
      "score 4 = Mostly correct\n",
      "score 5 = Perfectly accurate\n",
      "\n",
      "Always answer with just the number: 5\n"
     ]
    },
    {
     "name": "stderr",
     "output_type": "stream",
     "text": [
      "100%|██████████| 15/15 [00:43<00:00,  2.92s/it]"
     ]
    },
    {
     "name": "stdout",
     "output_type": "stream",
     "text": [
      "✅ File salvato in outputs/prometheus_scores.csv\n"
     ]
    },
    {
     "name": "stderr",
     "output_type": "stream",
     "text": [
      "\n"
     ]
    }
   ],
   "source": [
    "from transformers import AutoTokenizer, AutoModelForCausalLM\n",
    "import torch\n",
    "import pandas as pd\n",
    "import re\n",
    "from tqdm import tqdm\n",
    "import gc\n",
    "import csv\n",
    "\n",
    "# === 1. Carica i dati ===\n",
    "df_base = pd.read_csv(\"inputs/dataset_human_eval.csv\").head(15)  # usa .head(N) per limitare\n",
    "df_mistral = pd.read_csv(\"outputs/dataset_with_mistral_translations.csv\").head(15)\n",
    "df_nnlb = pd.read_csv(\"outputs/dataset_with_translation_NNLB.csv\").head(15)\n",
    "\n",
    "df_base[\"mistral\"] = df_mistral[\"generated_translation\"]\n",
    "df_base[\"mistralHS\"] = df_mistral[\"score_human\"]\n",
    "df_base[\"nnlb\"] = df_nnlb[\"generated_translation\"]\n",
    "df_base[\"nnlbHS\"] = df_nnlb[\"score_human\"]\n",
    "# === 2. Carica il modello Prometheus ===\n",
    "model_name = \"prometheus-eval/prometheus-7b-v2.0\"\n",
    "tokenizer = AutoTokenizer.from_pretrained(model_name, trust_remote_code=True)\n",
    "model = AutoModelForCausalLM.from_pretrained(\n",
    "    model_name,\n",
    "    trust_remote_code=True,\n",
    "    device_map=\"auto\",\n",
    "    torch_dtype=torch.float16,\n",
    "    offload_folder=\"offload_prometheus\",\n",
    "    offload_buffers=True\n",
    ")\n",
    "model.eval()\n",
    "\n",
    "# === 3. Rubrica e prompt ===\n",
    "\n",
    "def build_judge_prompt(original, human_translation, model_translation):\n",
    "    return f\"\"\"\n",
    "You are a translation evaluator.\n",
    "\n",
    "Original:\n",
    "{original}\n",
    "\n",
    "Human:\n",
    "{human_translation}\n",
    "\n",
    "Model:\n",
    "{model_translation}\n",
    "Your task is to assign a score from 1 to 5 that reflects how well the model's translation preserves the original meaning:\n",
    "score 1 = Completely wrong\n",
    "score 2 = Major errors\n",
    "score 3 = Understandable but flawed\n",
    "score 4 = Mostly correct\n",
    "score 5 = Perfectly accurate\n",
    "\n",
    "Always answer with just the number:\"\"\".strip()\n",
    "\n",
    "\n",
    "\n",
    "\n",
    "def estrai_punteggio(output):\n",
    "    match = re.search(r\"number:\\s*(\\d)\", output)\n",
    "    return int(match.group(1)) if match else None\n",
    "\n",
    "# === 4. Valutazione ===\n",
    "score_as = []\n",
    "score_bs = []\n",
    "winners = []\n",
    "\n",
    "for _, row in tqdm(df_base.iterrows(), total=len(df_base)):\n",
    "    for label, translation, score_list in [(\"A\", row[\"mistral\"], score_as), (\"B\", row[\"nnlb\"], score_bs)]:\n",
    "        prompt = build_judge_prompt(row[\"Sentence\"], row[\"HumanEval\"], translation)\n",
    "        inputs = tokenizer(prompt, return_tensors=\"pt\", truncation=True).to(model.device)\n",
    "        with torch.no_grad():\n",
    "            output_ids = model.generate(**inputs, max_new_tokens=2, do_sample=False)\n",
    "        output_text = tokenizer.decode(output_ids[0], skip_special_tokens=True)\n",
    "        print(output_text)\n",
    "        score = estrai_punteggio(output_text)\n",
    "        score_list.append(score)\n",
    "\n",
    "        # Pulisce memoria\n",
    "        del inputs, output_ids\n",
    "        torch.cuda.empty_cache()\n",
    "        gc.collect()\n",
    "\n",
    "    score_a = score_as[-1]\n",
    "    score_b = score_bs[-1]\n",
    "    if score_a is None or score_b is None:\n",
    "        winners.append(\"?\")\n",
    "    elif score_a > score_b:\n",
    "        winners.append(\"A\")\n",
    "    elif score_b > score_a:\n",
    "        winners.append(\"B\")\n",
    "    else:\n",
    "        winners.append(\"=\")\n",
    "\n",
    "# === 5. Salvataggio ===\n",
    "df_base[\"score_a\"] = score_as\n",
    "df_base[\"score_b\"] = score_bs\n",
    "df_base[\"winner\"] = winners\n",
    "\n",
    "df_base.to_csv(\"outputs/prometheus_eval.csv\", index=False, quoting=csv.QUOTE_MINIMAL)\n",
    "print(\"✅ File salvato in outputs/prometheus_eval.csv\")\n"
   ]
  },
  {
   "cell_type": "code",
   "execution_count": 23,
   "id": "cc546554",
   "metadata": {},
   "outputs": [
    {
     "name": "stdout",
     "output_type": "stream",
     "text": [
      "You are a translation evaluator.\n",
      "\n",
      "Original:\n",
      "Io mi ricordo (ch. 347) che essendo adirato scapigliai la mia donna. Ohi, quanti dì questa ira mi tolse!\n",
      "\n",
      "Human:\n",
      "Ricordo che, essendo arrabbiato, scompigliai i capelli della mia donna. Ahimè, quanti giorni persi a causa di quell’ira!\n",
      "\n",
      "Model:\n",
      "Mi ricordo (cfr. 347) che quando fui infuriato, fui in fuga con mia moglie. Oh, quanti giorni mi ha spinto questa ira!\n",
      "\n",
      "Evaluate how well the model's translation preserves the original meaning.\n",
      "\n",
      "Semantic fidelity of the translation\n",
      "Score 1: Meaning completely lost or unrelated to the original.\n",
      "Score 2: Major distortions or omissions; the translation misleads the reader.\n",
      "Score 3: Main idea is conveyed, but with several inaccuracies or confusing parts.\n",
      "Score 4: Mostly correct. Minor issues, but the meaning is clear.\n",
      "Score 5: Fully accurate. Captures all meaning in a fluent, faithful way.\n",
      "\n",
      "Reply with:\n",
      "Score (1–5): 5\n",
      "\n",
      "The\n"
     ]
    }
   ],
   "source": [
    "print(output_text)"
   ]
  },
  {
   "cell_type": "markdown",
   "id": "2126de2e",
   "metadata": {},
   "source": [
    "# 📊 Calcolo concordanza"
   ]
  },
  {
   "cell_type": "code",
   "execution_count": null,
   "id": "b571c23a",
   "metadata": {},
   "outputs": [],
   "source": [
    "df_base = pd.read_csv(\"outputs/prometheus_eval.csv\")"
   ]
  },
  {
   "cell_type": "code",
   "execution_count": 50,
   "id": "eb54fde2",
   "metadata": {},
   "outputs": [
    {
     "name": "stdout",
     "output_type": "stream",
     "text": [
      "MISTRAL\n",
      "== Valori unici ==\n",
      "Umano: [2, 3, 4, 5]\n",
      "Modello: [1, 3, 5]\n",
      "\n",
      "== Cohen’s Kappa ==\n",
      "0.137\n",
      "NNLB\n",
      "== Valori unici ==\n",
      "Umano: [2, 3, 4, 5]\n",
      "Modello: [1, 2, 4, 5]\n",
      "\n",
      "== Cohen’s Kappa ==\n",
      "0.052\n"
     ]
    }
   ],
   "source": [
    "from sklearn.metrics import cohen_kappa_score, classification_report, confusion_matrix\n",
    "\n",
    "def evaluate_concordance(y_true, y_pred):\n",
    "    print(\"== Valori unici ==\")\n",
    "    print(\"Umano:\", sorted(set(y_true)))\n",
    "    print(\"Modello:\", sorted(set(y_pred)))\n",
    "    \n",
    "    if len(set(y_true)) < 2 or len(set(y_pred)) < 2:\n",
    "        print(\"⚠️ Non abbastanza variabilità per calcolare Cohen's Kappa.\")\n",
    "        return\n",
    "    \n",
    "    print(\"\\n== Cohen’s Kappa ==\")\n",
    "    print(f\"{cohen_kappa_score(y_true, y_pred):.3f}\")\n",
    "\n",
    "\n",
    "print(\"MISTRAL\")\n",
    "evaluate_concordance(df_base[\"mistralHS\"], df_base[\"score_a\"])\n",
    "\n",
    "print(\"NNLB\")\n",
    "evaluate_concordance(df_base[\"nnlbHS\"], df_base[\"score_b\"])\n"
   ]
  }
 ],
 "metadata": {
  "kernelspec": {
   "display_name": ".venv",
   "language": "python",
   "name": "python3"
  },
  "language_info": {
   "codemirror_mode": {
    "name": "ipython",
    "version": 3
   },
   "file_extension": ".py",
   "mimetype": "text/x-python",
   "name": "python",
   "nbconvert_exporter": "python",
   "pygments_lexer": "ipython3",
   "version": "3.11.5"
  }
 },
 "nbformat": 4,
 "nbformat_minor": 5
}

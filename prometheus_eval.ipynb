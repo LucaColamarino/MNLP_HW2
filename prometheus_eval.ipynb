{
 "cells": [
  {
   "cell_type": "markdown",
   "id": "ca246820",
   "metadata": {},
   "source": [
    "# Imports"
   ]
  },
  {
   "cell_type": "code",
   "execution_count": 1,
   "id": "4d32d9bc",
   "metadata": {},
   "outputs": [
    {
     "name": "stderr",
     "output_type": "stream",
     "text": [
      "c:\\Users\\colam\\Documents\\GitHub\\MNLP_HW2\\.venv\\Lib\\site-packages\\tqdm\\auto.py:21: TqdmWarning: IProgress not found. Please update jupyter and ipywidgets. See https://ipywidgets.readthedocs.io/en/stable/user_install.html\n",
      "  from .autonotebook import tqdm as notebook_tqdm\n"
     ]
    }
   ],
   "source": [
    "from transformers import AutoTokenizer, AutoModelForCausalLM\n",
    "import pandas as pd\n",
    "from sklearn.metrics import cohen_kappa_score\n",
    "import torch\n",
    "from tqdm import tqdm\n",
    "import re\n",
    "import gc\n",
    "import csv\n"
   ]
  },
  {
   "cell_type": "markdown",
   "id": "9b019484",
   "metadata": {},
   "source": [
    "# 🔍 Prometheus LLM-as-a-Judge"
   ]
  },
  {
   "cell_type": "markdown",
   "id": "668b5f46",
   "metadata": {},
   "source": [
    "## Load Datasets"
   ]
  },
  {
   "cell_type": "code",
   "execution_count": null,
   "id": "9bfcb8ea",
   "metadata": {},
   "outputs": [],
   "source": [
    "num_samples = 15  # Numero di campioni da processare\n",
    "# === 1. Carica i dati ===\n",
    "df_base = pd.read_csv(\"inputs/dataset_human_eval.csv\").head(num_samples)  # usa .head(N) per limitare\n",
    "df_mistral = pd.read_csv(\"outputs/dataset_with_mistral_translations.csv\").head(num_samples)\n",
    "df_mt5 = pd.read_csv(\"outputs/dataset_with_mT5_translations.csv\").head(num_samples)\n",
    "df_tinyllama = pd.read_csv(\"outputs/dataset_with_tinyllama_translations.csv\").head(num_samples)\n",
    "df_nnlb = pd.read_csv(\"outputs/dataset_with_translation_NNLB.csv\").head(num_samples)\n",
    "df_base[\"mistral\"] = df_mistral[\"generated_translation\"]\n",
    "df_base[\"mistralHS\"] = df_mistral[\"score_human\"]\n",
    "\n",
    "df_base[\"mt5\"] = df_mistral[\"generated_translation\"]\n",
    "df_base[\"mt5HS\"] = df_mistral[\"score_human\"]\n",
    "\n",
    "df_base[\"tinyllama\"] = df_mistral[\"generated_translation\"]\n",
    "df_base[\"tinyllamaHS\"] = df_mistral[\"score_human\"]\n",
    "\n",
    "df_base[\"nnlb\"] = df_nnlb[\"generated_translation\"]\n",
    "df_base[\"nnlbHS\"] = df_nnlb[\"score_human\"]"
   ]
  },
  {
   "cell_type": "markdown",
   "id": "62be00cb",
   "metadata": {},
   "source": [
    "## Load Model"
   ]
  },
  {
   "cell_type": "code",
   "execution_count": null,
   "id": "35a23d5f",
   "metadata": {},
   "outputs": [],
   "source": [
    "# === 2. Carica il modello Prometheus ===\n",
    "model_name = \"prometheus-eval/prometheus-7b-v2.0\"\n",
    "#model_name = \"Unbabel/M-Prometheus-3B\"\n",
    "tokenizer = AutoTokenizer.from_pretrained(model_name, trust_remote_code=True)\n",
    "model = AutoModelForCausalLM.from_pretrained(\n",
    "    model_name,\n",
    "    trust_remote_code=True,\n",
    "    device_map=\"auto\",\n",
    "    torch_dtype=torch.float16,\n",
    "    offload_folder=\"offload_prometheus\",\n",
    "    offload_buffers=True\n",
    ")\n",
    "model.eval()"
   ]
  },
  {
   "cell_type": "markdown",
   "id": "4671b550",
   "metadata": {},
   "source": [
    "## Prompt"
   ]
  },
  {
   "cell_type": "code",
   "execution_count": null,
   "id": "c243d7ef",
   "metadata": {},
   "outputs": [
    {
     "name": "stderr",
     "output_type": "stream",
     "text": [
      "Loading checkpoint shards: 100%|██████████| 8/8 [00:05<00:00,  1.54it/s]\n",
      "Some parameters are on the meta device because they were offloaded to the cpu.\n"
     ]
    }
   ],
   "source": [
    "\n",
    "# === 3. Rubrica e prompt ===\n",
    "\n",
    "rubric_data = {\n",
    "    \"criteria\": \"Semantic fidelity of the translation\",\n",
    "    \"score1\": \"Completely wrong, the meaning is unrecognizable.\",\n",
    "    \"score2\": \"Severe meaning errors or omissions or explanations.\",\n",
    "    \"score3\": \"Some inaccuracies, but the general meaning is conveyed.\",\n",
    "    \"score4\": \"Good fidelity, minor non-substantial differences.\",\n",
    "    \"score5\": \"Perfectly faithful to the original meaning.\"\n",
    "}\n",
    "\n",
    "def build_judge_prompt(original, human_translation, model_translation):\n",
    "    return f\"\"\"\n",
    "You are a translation evaluator. Your task is to assign a score from 1 to 5 that reflects how well the model's translation preserves the original meaning.\n",
    "\n",
    "Original:\n",
    "{original}\n",
    "\n",
    "Human:\n",
    "{human_translation}\n",
    "\n",
    "Model:\n",
    "{model_translation}\n",
    "\n",
    "### Score Rubrics:\n",
    "{rubric_data[\"criteria\"]}\n",
    "Score 1: {rubric_data[\"score1\"]}\n",
    "Score 2: {rubric_data[\"score2\"]}\n",
    "Score 3: {rubric_data[\"score3\"]}\n",
    "Score 4: {rubric_data[\"score4\"]}\n",
    "Score 5: {rubric_data[\"score5\"]}\n",
    "\n",
    "Assess the semantic fidelity objectively. Assign the appropriate score based on the rubric.\n",
    "\n",
    "Score (1–5):\n",
    "\"\"\".strip()\n",
    "\n",
    "def estrai_punteggio(output):\n",
    "    match = re.search(r\"Score\\s*\\(1[\\-–]5\\):\\s*(\\d)\", output)\n",
    "    return int(match.group(1)) if match else None\n"
   ]
  },
  {
   "cell_type": "markdown",
   "id": "a5868435",
   "metadata": {},
   "source": [
    "## Run Prometheus"
   ]
  },
  {
   "cell_type": "code",
   "execution_count": null,
   "id": "977e84be",
   "metadata": {},
   "outputs": [
    {
     "ename": "NameError",
     "evalue": "name 'tqdm' is not defined",
     "output_type": "error",
     "traceback": [
      "\u001b[31m---------------------------------------------------------------------------\u001b[39m",
      "\u001b[31mNameError\u001b[39m                                 Traceback (most recent call last)",
      "\u001b[36mCell\u001b[39m\u001b[36m \u001b[39m\u001b[32mIn[1]\u001b[39m\u001b[32m, line 8\u001b[39m\n\u001b[32m      5\u001b[39m score_ds = []\n\u001b[32m      6\u001b[39m winners = []\n\u001b[32m----> \u001b[39m\u001b[32m8\u001b[39m \u001b[38;5;28;01mfor\u001b[39;00m _, row \u001b[38;5;129;01min\u001b[39;00m \u001b[43mtqdm\u001b[49m(df_base.iterrows(), total=\u001b[38;5;28mlen\u001b[39m(df_base)):\n\u001b[32m      9\u001b[39m     \u001b[38;5;28;01mfor\u001b[39;00m label, translation, score_list \u001b[38;5;129;01min\u001b[39;00m [(\u001b[33m\"\u001b[39m\u001b[33mA\u001b[39m\u001b[33m\"\u001b[39m, row[\u001b[33m\"\u001b[39m\u001b[33mmistral\u001b[39m\u001b[33m\"\u001b[39m], score_as), (\u001b[33m\"\u001b[39m\u001b[33mB\u001b[39m\u001b[33m\"\u001b[39m, row[\u001b[33m\"\u001b[39m\u001b[33mnnlb\u001b[39m\u001b[33m\"\u001b[39m], score_bs),(\u001b[33m\"\u001b[39m\u001b[33mC\u001b[39m\u001b[33m\"\u001b[39m, row[\u001b[33m\"\u001b[39m\u001b[33mtinyllama\u001b[39m\u001b[33m\"\u001b[39m], score_cs),(\u001b[33m\"\u001b[39m\u001b[33mD\u001b[39m\u001b[33m\"\u001b[39m, row[\u001b[33m\"\u001b[39m\u001b[33mmt5\u001b[39m\u001b[33m\"\u001b[39m], score_ds)]:\n\u001b[32m     10\u001b[39m         prompt = build_judge_prompt(row[\u001b[33m\"\u001b[39m\u001b[33mSentence\u001b[39m\u001b[33m\"\u001b[39m], row[\u001b[33m\"\u001b[39m\u001b[33mHumanEval\u001b[39m\u001b[33m\"\u001b[39m], translation)\n",
      "\u001b[31mNameError\u001b[39m: name 'tqdm' is not defined"
     ]
    }
   ],
   "source": [
    "# === 4. Valutazione ===\n",
    "score_as = []\n",
    "score_bs = []\n",
    "score_cs = []\n",
    "score_ds = []\n",
    "winners = []\n",
    "\n",
    "for _, row in tqdm(df_base.iterrows(), total=len(df_base)):\n",
    "    for label, translation, score_list in [(\"A\", row[\"mistral\"], score_as), (\"B\", row[\"nnlb\"], score_bs),(\"C\", row[\"tinyllama\"], score_cs),(\"D\", row[\"mt5\"], score_ds)]:\n",
    "        prompt = build_judge_prompt(row[\"Sentence\"], row[\"HumanEval\"], translation)\n",
    "        inputs = tokenizer(prompt, return_tensors=\"pt\", truncation=True).to(model.device)\n",
    "        with torch.no_grad():\n",
    "            output_ids = model.generate(**inputs, max_new_tokens=2, do_sample=False)\n",
    "        output_text = tokenizer.decode(output_ids[0], skip_special_tokens=True)\n",
    "        #print(output_text)\n",
    "        score = estrai_punteggio(output_text)\n",
    "        #print(score)\n",
    "        score_list.append(score)\n",
    "\n",
    "        # Pulisce memoria\n",
    "        del inputs, output_ids\n",
    "        torch.cuda.empty_cache()\n",
    "        gc.collect()\n",
    "\n",
    "    score_a = score_as[-1]\n",
    "    score_b = score_bs[-1]\n",
    "    score_c = score_cs[-1]\n",
    "    score_d = score_ds[-1]\n",
    "    if score_a is None or score_b is None:\n",
    "        winners.append(\"?\")\n",
    "    elif score_a > score_b and score_a > score_c and score_a > score_d:\n",
    "        winners.append(\"Mistral\")\n",
    "    elif score_b > score_a and score_b > score_c and score_b > score_d:\n",
    "        winners.append(\"Nnlb\")\n",
    "    elif score_c > score_a and score_c > score_b and score_c > score_d:\n",
    "        winners.append(\"TinyLlama\")\n",
    "    elif score_d > score_a and score_d > score_b and score_d > score_c:\n",
    "        winners.append(\"Mt5\") \n",
    "    else:\n",
    "        winners.append(\"=\")\n",
    "\n",
    "# === 5. Salvataggio ===\n",
    "df_base[\"score_a\"] = score_as\n",
    "df_base[\"score_b\"] = score_bs\n",
    "df_base[\"score_c\"] = score_cs\n",
    "df_base[\"score_d\"] = score_ds\n",
    "df_base[\"winner\"] = winners\n",
    "\n",
    "df_base.to_csv(\"outputs/prometheus_eval.csv\", index=False, quoting=csv.QUOTE_MINIMAL)\n",
    "print(\"✅ File salvato in outputs/prometheus_eval.csv\")\n",
    "\n",
    "\n",
    "# Crea file separati per ciascun modello\n",
    "df_mistral = df_base[[\"Sentence\", \"HumanEval\", \"mistral\", \"score_a\", \"winner\"]].rename(columns={\"mistral\": \"translation\", \"score_a\": \"score\"})\n",
    "df_nnlb    = df_base[[\"Sentence\", \"HumanEval\", \"nnlb\", \"score_b\", \"winner\"]].rename(columns={\"nnlb\": \"translation\", \"score_b\": \"score\"})\n",
    "df_tiny    = df_base[[\"Sentence\", \"HumanEval\", \"tinyllama\", \"score_c\", \"winner\"]].rename(columns={\"tinyllama\": \"translation\", \"score_c\": \"score\"})\n",
    "df_mt5     = df_base[[\"Sentence\", \"HumanEval\", \"mt5\", \"score_d\", \"winner\"]].rename(columns={\"mt5\": \"translation\", \"score_d\": \"score\"})\n",
    "\n",
    "# Salvataggio file\n",
    "df_mistral.to_csv(\"outputs/salmonators-hw2_transl-judge_mistral.jsonl.csv\", index=False, quoting=csv.QUOTE_MINIMAL)\n",
    "df_nnlb.to_csv(\"salmonators-hw2_transl-judge_nnlb.jsonl\", index=False, quoting=csv.QUOTE_MINIMAL)\n",
    "df_tiny.to_csv(\"salmonators-hw2_transl-judge_tinyllama.jsonl\", index=False, quoting=csv.QUOTE_MINIMAL)\n",
    "df_mt5.to_csv(\"salmonators-hw2_transl-judge_mt5.jsonl\", index=False, quoting=csv.QUOTE_MINIMAL)\n",
    "\n",
    "print(\"✅ File salvati in outputs/:\")\n",
    "print(\"- prometheus_eval.csv (completo)\")\n",
    "print(\"- outputs/salmonators-hw2_transl-judge_mistral.jsonl.csv\")\n",
    "print(\"- salmonators-hw2_transl-judge_nnlb.jsonl\")\n",
    "print(\"- salmonators-hw2_transl-judge_tinyllama.jsonl\")\n",
    "print(\"- salmonators-hw2_transl-judge_mt5.jsonl\")\n"
   ]
  },
  {
   "cell_type": "markdown",
   "id": "2126de2e",
   "metadata": {},
   "source": [
    "# 📊 Calcolo concordanza"
   ]
  },
  {
   "cell_type": "code",
   "execution_count": 8,
   "id": "b571c23a",
   "metadata": {},
   "outputs": [],
   "source": [
    "def evaluate_concordance(y_true, y_pred):\n",
    "    print(\"== Valori unici ==\")\n",
    "    print(\"Umano:\", sorted(set(y_true)))\n",
    "    print(\"Modello:\", sorted(set(y_pred)))\n",
    "    \n",
    "    if len(set(y_true)) < 2 or len(set(y_pred)) < 2:\n",
    "        print(\"⚠️ Non abbastanza variabilità per calcolare Cohen's Kappa.\")\n",
    "        return\n",
    "    \n",
    "    print(\"\\n== Cohen’s Kappa ==\")\n",
    "    print(f\"{cohen_kappa_score(y_true, y_pred):.3f}\")\n",
    "\n"
   ]
  },
  {
   "cell_type": "code",
   "execution_count": 9,
   "id": "eb54fde2",
   "metadata": {},
   "outputs": [
    {
     "name": "stdout",
     "output_type": "stream",
     "text": [
      "MISTRAL\n",
      "== Valori unici ==\n",
      "Umano: [3, 4, 5]\n",
      "Modello: [3, 5]\n",
      "\n",
      "== Cohen’s Kappa ==\n",
      "0.574\n",
      "NNLB\n",
      "== Valori unici ==\n",
      "Umano: [2, 3, 4, 5]\n",
      "Modello: [1, 3, 5]\n",
      "\n",
      "== Cohen’s Kappa ==\n",
      "0.434\n"
     ]
    }
   ],
   "source": [
    "df_base = pd.read_csv(\"outputs/prometheus_eval.csv\")\n",
    "print(\"MISTRAL\")\n",
    "evaluate_concordance(df_base[\"mistralHS\"], df_base[\"score_a\"])\n",
    "print(\"NNLB\")\n",
    "evaluate_concordance(df_base[\"nnlbHS\"], df_base[\"score_b\"])\n"
   ]
  }
 ],
 "metadata": {
  "kernelspec": {
   "display_name": ".venv",
   "language": "python",
   "name": "python3"
  },
  "language_info": {
   "codemirror_mode": {
    "name": "ipython",
    "version": 3
   },
   "file_extension": ".py",
   "mimetype": "text/x-python",
   "name": "python",
   "nbconvert_exporter": "python",
   "pygments_lexer": "ipython3",
   "version": "3.11.5"
  }
 },
 "nbformat": 4,
 "nbformat_minor": 5
}

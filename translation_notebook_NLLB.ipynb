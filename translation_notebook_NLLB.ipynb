{
 "cells": [
  {
   "cell_type": "markdown",
   "id": "ccca1c5a",
   "metadata": {},
   "source": [
    "# NLLB use for translation task "
   ]
  },
  {
   "cell_type": "code",
   "execution_count": null,
   "id": "6e442245",
   "metadata": {},
   "outputs": [],
   "source": [
    "from transformers import AutoTokenizer, AutoModelForCausalLM, pipeline,DataCollatorForSeq2Seq,EarlyStoppingCallback, TrainingArguments,AutoModelForSeq2SeqLM, Seq2SeqTrainer, Seq2SeqTrainingArguments,TrainerCallback, Trainer, DataCollatorForLanguageModeling, logging\n",
    "import pandas as pd\n",
    "import json\n",
    "from sklearn.metrics import cohen_kappa_score\n",
    "import torch\n",
    "from tqdm.notebook import tqdm\n",
    "import os\n",
    "from huggingface_hub import login\n",
    "from datasets import load_dataset"
   ]
  },
  {
   "cell_type": "code",
   "execution_count": null,
   "id": "f05033b8",
   "metadata": {},
   "outputs": [],
   "source": [
    "dataset = load_dataset(\"csv\", data_files=\"/kaggle/input/dataset-concatenato/dataset_concatenato.csv\")[\"train\"]\n",
    "dataset = dataset.train_test_split(test_size=0.3)"
   ]
  },
  {
   "cell_type": "code",
   "execution_count": null,
   "id": "4e435cbd",
   "metadata": {},
   "outputs": [],
   "source": [
    "device = torch.device(\"cuda\" if torch.cuda.is_available() else \"cpu\")"
   ]
  },
  {
   "cell_type": "code",
   "execution_count": null,
   "id": "98b6ddfe",
   "metadata": {},
   "outputs": [],
   "source": [
    "path_NNLB=\"/kaggle/working/nllb-finetuned-antico-moderno\"\n",
    "os.makedirs(path_NNLB, exist_ok=True)"
   ]
  },
  {
   "cell_type": "markdown",
   "id": "39c0a184",
   "metadata": {},
   "source": [
    "# Import model and setup language"
   ]
  },
  {
   "cell_type": "code",
   "execution_count": null,
   "id": "58488d44",
   "metadata": {},
   "outputs": [],
   "source": [
    "model_name = \"facebook/nllb-200-distilled-600M\"\n",
    "\n",
    "src_lang = tgt_lang = \"ita_Latn\"\n",
    "\n",
    "model = AutoModelForSeq2SeqLM.from_pretrained(model_name,device_map=\"auto\")\n",
    "tokenizer = AutoTokenizer.from_pretrained(model_name)\n",
    "tokenizer.src_lang = \"ita_Latn\"\n",
    "forced_bos_token_id = tokenizer.convert_tokens_to_ids(\"ita_Latn\")"
   ]
  },
  {
   "cell_type": "markdown",
   "id": "a42c6ba9",
   "metadata": {},
   "source": [
    "# Tokenize text"
   ]
  },
  {
   "cell_type": "code",
   "execution_count": null,
   "id": "eeae3a1b",
   "metadata": {},
   "outputs": [],
   "source": [
    "max_len=256\n",
    "def preprocess(example):\n",
    "    model_inputs = tokenizer(\n",
    "        example[\"text\"],\n",
    "        max_length=max_len,\n",
    "        truncation=True,\n",
    "        padding=\"max_length\"\n",
    "    )\n",
    "    labels = tokenizer(\n",
    "        example[\"translation\"],\n",
    "        max_length=max_len,\n",
    "        truncation=True,\n",
    "        padding=\"max_length\"\n",
    "    )\n",
    "    model_inputs[\"labels\"] = labels[\"input_ids\"]\n",
    "    return model_inputs\n",
    "tokenized_dataset = {\n",
    "    \"train\": dataset[\"train\"].map(preprocess, remove_columns=dataset[\"train\"].column_names),\n",
    "    \"test\": dataset[\"test\"].map(preprocess, remove_columns=dataset[\"test\"].column_names)\n",
    "}"
   ]
  },
  {
   "cell_type": "markdown",
   "id": "e5f45f32",
   "metadata": {},
   "source": [
    "# Realize trainer "
   ]
  },
  {
   "cell_type": "code",
   "execution_count": null,
   "id": "24cc9ab2",
   "metadata": {},
   "outputs": [],
   "source": [
    "class ClearCUDACacheCallback(TrainerCallback):\n",
    "    def on_epoch_end(self, args, state, control, **kwargs):\n",
    "        if torch.cuda.is_available():\n",
    "            torch.cuda.empty_cache()"
   ]
  },
  {
   "cell_type": "code",
   "execution_count": null,
   "id": "2fc4ae6e",
   "metadata": {},
   "outputs": [],
   "source": [
    "training_args = Seq2SeqTrainingArguments(\n",
    "    output_dir=\"/kaggle/working/nllb-finetuned-antico-moderno\",\n",
    "    eval_strategy=\"epoch\",\n",
    "    save_strategy=\"epoch\",\n",
    "    gradient_accumulation_steps=4,\n",
    "    per_device_train_batch_size=2,\n",
    "    per_device_eval_batch_size=2,\n",
    "    learning_rate=2e-4,\n",
    "    num_train_epochs=8,\n",
    "    predict_with_generate=True,\n",
    "    load_best_model_at_end=True,\n",
    "    fp16=True, \n",
    "    logging_dir=\"/kaggle/working/nllb-finetuned-antico-moderno/logs\",\n",
    "    save_total_limit=1,\n",
    "    seed=42,\n",
    "    report_to=\"none\",\n",
    "    metric_for_best_model=\"eval_loss\",\n",
    "    generation_max_length=max_len,\n",
    "    generation_num_beams=4\n",
    ")\n",
    "data_collator = DataCollatorForSeq2Seq(tokenizer, model=model)\n",
    "def compute_metrics(eval_preds):\n",
    "    return {} \n",
    "trainer = Seq2SeqTrainer(\n",
    "    model=model,\n",
    "    args=training_args,\n",
    "    train_dataset=tokenized_dataset[\"train\"],\n",
    "    eval_dataset=tokenized_dataset[\"test\"],\n",
    "    data_collator=data_collator,\n",
    "    tokenizer=tokenizer,\n",
    "    compute_metrics=compute_metrics,\n",
    "    callbacks=[ClearCUDACacheCallback(),EarlyStoppingCallback(early_stopping_patience=1)]\n",
    ")"
   ]
  },
  {
   "cell_type": "markdown",
   "id": "868597bc",
   "metadata": {},
   "source": [
    "# Training Steps"
   ]
  },
  {
   "cell_type": "code",
   "execution_count": null,
   "id": "c8c46466",
   "metadata": {},
   "outputs": [],
   "source": [
    "trainer.train()\n",
    "metrics = trainer.evaluate()\n",
    "print(metrics)\n",
    "model.save_pretrained(\"/kaggle/working/nllb-finetuned-antico-moderno\")\n",
    "tokenizer.save_pretrained(\"/kaggle/working/nllb-finetuned-antico-moderno\")"
   ]
  },
  {
   "cell_type": "markdown",
   "id": "d9d06ee6",
   "metadata": {},
   "source": [
    "# inference steps "
   ]
  },
  {
   "cell_type": "code",
   "execution_count": null,
   "id": "c137c5d8",
   "metadata": {},
   "outputs": [],
   "source": [
    "df = pd.read_csv(\"/kaggle/input/dataset-c/dataset_cleaned.csv\")\n",
    "df.head()"
   ]
  },
  {
   "cell_type": "code",
   "execution_count": null,
   "id": "7ab2a3d4",
   "metadata": {},
   "outputs": [],
   "source": [
    "model_path=\"/kaggle/working/nllb-finetuned-antico-moderno\"\n",
    "tokenizer = AutoTokenizer.from_pretrained(model_path)\n",
    "model = AutoModelForSeq2SeqLM.from_pretrained(model_path,\n",
    "    device_map=\"auto\")\n",
    "tokenizer.pad_token = tokenizer.eos_token\n",
    "model.eval().to(device)\n",
    "\n",
    "\n",
    "df[\"generated_translation\"] = \"\"\n",
    "\n",
    "# 3. Define translation function\n",
    "def traduci_seq_to_seq(s):\n",
    "    src_lang = \"ita_Latn\"\n",
    "    tgt_lang = \"ita_Latn\"\n",
    "\n",
    "    # imposta la lingua sorgente\n",
    "    tokenizer.src_lang = src_lang\n",
    "    inputs = tokenizer(s, return_tensors=\"pt\", truncation=True,max_length=384).to(model.device)\n",
    "    forced_bos_token_id = tokenizer.convert_tokens_to_ids(tgt_lang)\n",
    "    with torch.no_grad():\n",
    "        output = model.generate(\n",
    "            **inputs,\n",
    "            max_new_tokens=100,\n",
    "            temperature=0.7,\n",
    "            top_p=0.9,\n",
    "            do_sample=True,\n",
    "            use_cache=True,\n",
    "            num_beams=4,\n",
    "            forced_bos_token_id=forced_bos_token_id\n",
    "        )\n",
    "    return tokenizer.decode(output[0], skip_special_tokens=True)\n",
    "\n",
    "# 4. Process with progress bar\n",
    "results = []\n",
    "i =0\n",
    "for s in tqdm(df[\"Sentence\"].tolist()):\n",
    "    results.append(traduci_seq_to_seq(s))\n",
    "        \n",
    "df[\"generated_translation\"] = results\n",
    "\n",
    "path_translations=\"/kaggle/working/translations\"\n",
    "os.makedirs(path_translations, exist_ok=True)\n",
    "# 5. Save result\n",
    "translation_file=path_translations+\"dataset_with_translation_NNLB.csv\"\n",
    "df.to_csv(translation_file, index=False)"
   ]
  },
  {
   "cell_type": "code",
   "execution_count": null,
   "id": "1726ac71",
   "metadata": {},
   "outputs": [],
   "source": [
    "df.head()"
   ]
  }
 ],
 "metadata": {
  "kernelspec": {
   "display_name": "Libraries",
   "language": "python",
   "name": "python3"
  },
  "language_info": {
   "name": "python",
   "version": "3.12.3"
  }
 },
 "nbformat": 4,
 "nbformat_minor": 5
}

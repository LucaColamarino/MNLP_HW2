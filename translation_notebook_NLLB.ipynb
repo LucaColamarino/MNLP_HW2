{
 "cells": [
  {
   "cell_type": "markdown",
   "id": "ccca1c5a",
   "metadata": {},
   "source": [
    "# NLLB use for translation task "
   ]
  },
  {
   "cell_type": "code",
   "execution_count": 12,
   "id": "6e442245",
   "metadata": {},
   "outputs": [],
   "source": [
    "from transformers import AutoTokenizer, AutoModelForCausalLM, pipeline,DataCollatorForSeq2Seq,EarlyStoppingCallback, TrainingArguments,AutoModelForSeq2SeqLM, Seq2SeqTrainer, Seq2SeqTrainingArguments,TrainerCallback, Trainer, DataCollatorForLanguageModeling, logging\n",
    "import pandas as pd\n",
    "import json\n",
    "from sklearn.metrics import cohen_kappa_score\n",
    "import torch\n",
    "from tqdm.notebook import tqdm\n",
    "import os\n",
    "from huggingface_hub import login\n",
    "from datasets import load_dataset"
   ]
  },
  {
   "cell_type": "code",
   "execution_count": 30,
   "id": "bd128e9f",
   "metadata": {},
   "outputs": [],
   "source": [
    "dataset_folder = \"inputs/dataset_concatenato.csv\"\n",
    "#dataset_folder = \"/kaggle/input/dataset-concatenato/dataset_concatenato.csv\"\"\n",
    "dataset_cleaned_folder = \"inputs/dataset.csv\"\n",
    "#dataset_cleaned_folder =\"/kaggle/input/dataset-c/dataset_cleaned.csv\"\n",
    "path_NNLB=\"Models/nllb/nllb-finetuned-antico-moderno\"\n",
    "#path_NNLB=\"/kaggle/working/nllb-finetuned-antico-moderno\"\n",
    "path_translations=\"outputs\"\n",
    "#path_translations=\"/kaggle/working/translations\"\n",
    "\n"
   ]
  },
  {
   "cell_type": "code",
   "execution_count": 14,
   "id": "f05033b8",
   "metadata": {},
   "outputs": [],
   "source": [
    "dataset = load_dataset(\"csv\", data_files=dataset_folder)[\"train\"]\n",
    "dataset = dataset.train_test_split(test_size=0.3)"
   ]
  },
  {
   "cell_type": "code",
   "execution_count": 16,
   "id": "4e435cbd",
   "metadata": {},
   "outputs": [],
   "source": [
    "device = torch.device(\"cuda\" if torch.cuda.is_available() else \"cpu\")"
   ]
  },
  {
   "cell_type": "code",
   "execution_count": 19,
   "id": "98b6ddfe",
   "metadata": {},
   "outputs": [],
   "source": [
    "os.makedirs(path_NNLB, exist_ok=True)"
   ]
  },
  {
   "cell_type": "markdown",
   "id": "39c0a184",
   "metadata": {},
   "source": [
    "# Import model and setup language"
   ]
  },
  {
   "cell_type": "code",
   "execution_count": 20,
   "id": "58488d44",
   "metadata": {},
   "outputs": [],
   "source": [
    "model_name = \"facebook/nllb-200-distilled-600M\"\n",
    "src_lang = tgt_lang = \"ita_Latn\"\n",
    "\n",
    "model = AutoModelForSeq2SeqLM.from_pretrained(model_name,device_map=\"auto\")\n",
    "tokenizer = AutoTokenizer.from_pretrained(model_name)\n",
    "tokenizer.src_lang = \"ita_Latn\"\n",
    "forced_bos_token_id = tokenizer.convert_tokens_to_ids(\"ita_Latn\")"
   ]
  },
  {
   "cell_type": "markdown",
   "id": "a42c6ba9",
   "metadata": {},
   "source": [
    "# Tokenize text"
   ]
  },
  {
   "cell_type": "code",
   "execution_count": 21,
   "id": "eeae3a1b",
   "metadata": {},
   "outputs": [
    {
     "name": "stderr",
     "output_type": "stream",
     "text": [
      "Map: 100%|██████████| 207/207 [00:00<00:00, 1478.75 examples/s]\n",
      "Map: 100%|██████████| 89/89 [00:00<00:00, 1420.72 examples/s]\n"
     ]
    }
   ],
   "source": [
    "max_len=256\n",
    "def preprocess(example):\n",
    "    model_inputs = tokenizer(\n",
    "        example[\"text\"],\n",
    "        max_length=max_len,\n",
    "        truncation=True,\n",
    "        padding=\"max_length\"\n",
    "    )\n",
    "    labels = tokenizer(\n",
    "        example[\"translation\"],\n",
    "        max_length=max_len,\n",
    "        truncation=True,\n",
    "        padding=\"max_length\"\n",
    "    )\n",
    "    model_inputs[\"labels\"] = labels[\"input_ids\"]\n",
    "    return model_inputs\n",
    "tokenized_dataset = {\n",
    "    \"train\": dataset[\"train\"].map(preprocess, remove_columns=dataset[\"train\"].column_names),\n",
    "    \"test\": dataset[\"test\"].map(preprocess, remove_columns=dataset[\"test\"].column_names)\n",
    "}"
   ]
  },
  {
   "cell_type": "markdown",
   "id": "e5f45f32",
   "metadata": {},
   "source": [
    "# Realize trainer "
   ]
  },
  {
   "cell_type": "code",
   "execution_count": 22,
   "id": "24cc9ab2",
   "metadata": {},
   "outputs": [],
   "source": [
    "class ClearCUDACacheCallback(TrainerCallback):\n",
    "    def on_epoch_end(self, args, state, control, **kwargs):\n",
    "        if torch.cuda.is_available():\n",
    "            torch.cuda.empty_cache()"
   ]
  },
  {
   "cell_type": "code",
   "execution_count": 23,
   "id": "2fc4ae6e",
   "metadata": {},
   "outputs": [
    {
     "name": "stderr",
     "output_type": "stream",
     "text": [
      "C:\\Users\\colam\\AppData\\Local\\Temp\\ipykernel_30768\\2908925833.py:24: FutureWarning: `tokenizer` is deprecated and will be removed in version 5.0.0 for `Seq2SeqTrainer.__init__`. Use `processing_class` instead.\n",
      "  trainer = Seq2SeqTrainer(\n"
     ]
    }
   ],
   "source": [
    "training_args = Seq2SeqTrainingArguments(\n",
    "    output_dir=path_NNLB,\n",
    "    eval_strategy=\"epoch\",\n",
    "    save_strategy=\"epoch\",\n",
    "    gradient_accumulation_steps=4,\n",
    "    per_device_train_batch_size=2,\n",
    "    per_device_eval_batch_size=2,\n",
    "    learning_rate=2e-4,\n",
    "    num_train_epochs=8,\n",
    "    predict_with_generate=True,\n",
    "    load_best_model_at_end=True,\n",
    "    fp16=True, \n",
    "    logging_dir=path_NNLB+\"/logs\",\n",
    "    save_total_limit=1,\n",
    "    seed=42,\n",
    "    report_to=\"none\",\n",
    "    metric_for_best_model=\"eval_loss\",\n",
    "    generation_max_length=max_len,\n",
    "    generation_num_beams=4\n",
    ")\n",
    "data_collator = DataCollatorForSeq2Seq(tokenizer, model=model)\n",
    "def compute_metrics(eval_preds):\n",
    "    return {} \n",
    "trainer = Seq2SeqTrainer(\n",
    "    model=model,\n",
    "    args=training_args,\n",
    "    train_dataset=tokenized_dataset[\"train\"],\n",
    "    eval_dataset=tokenized_dataset[\"test\"],\n",
    "    data_collator=data_collator,\n",
    "    tokenizer=tokenizer,\n",
    "    compute_metrics=compute_metrics,\n",
    "    callbacks=[ClearCUDACacheCallback(),EarlyStoppingCallback(early_stopping_patience=1)]\n",
    ")"
   ]
  },
  {
   "cell_type": "markdown",
   "id": "868597bc",
   "metadata": {},
   "source": [
    "# Training Steps"
   ]
  },
  {
   "cell_type": "code",
   "execution_count": 26,
   "id": "c8c46466",
   "metadata": {},
   "outputs": [
    {
     "data": {
      "text/html": [
       "\n",
       "    <div>\n",
       "      \n",
       "      <progress value='104' max='208' style='width:300px; height:20px; vertical-align: middle;'></progress>\n",
       "      [104/208 20:29 < 20:53, 0.08 it/s, Epoch 4/8]\n",
       "    </div>\n",
       "    <table border=\"1\" class=\"dataframe\">\n",
       "  <thead>\n",
       " <tr style=\"text-align: left;\">\n",
       "      <th>Epoch</th>\n",
       "      <th>Training Loss</th>\n",
       "      <th>Validation Loss</th>\n",
       "    </tr>\n",
       "  </thead>\n",
       "  <tbody>\n",
       "    <tr>\n",
       "      <td>1</td>\n",
       "      <td>No log</td>\n",
       "      <td>2.866610</td>\n",
       "    </tr>\n",
       "    <tr>\n",
       "      <td>2</td>\n",
       "      <td>No log</td>\n",
       "      <td>0.844395</td>\n",
       "    </tr>\n",
       "    <tr>\n",
       "      <td>3</td>\n",
       "      <td>No log</td>\n",
       "      <td>0.409088</td>\n",
       "    </tr>\n",
       "    <tr>\n",
       "      <td>4</td>\n",
       "      <td>No log</td>\n",
       "      <td>0.419878</td>\n",
       "    </tr>\n",
       "  </tbody>\n",
       "</table><p>"
      ],
      "text/plain": [
       "<IPython.core.display.HTML object>"
      ]
     },
     "metadata": {},
     "output_type": "display_data"
    },
    {
     "name": "stderr",
     "output_type": "stream",
     "text": [
      "c:\\Users\\colam\\Documents\\GitHub\\MNLP_HW2\\.venv\\Lib\\site-packages\\transformers\\modeling_utils.py:3465: UserWarning: Moving the following attributes in the config to the generation config: {'max_length': 200}. You are seeing this warning because you've set generation parameters in the model config, as opposed to in the generation config.\n",
      "  warnings.warn(\n",
      "There were missing keys in the checkpoint model loaded: ['model.encoder.embed_tokens.weight', 'model.decoder.embed_tokens.weight', 'lm_head.weight'].\n"
     ]
    },
    {
     "data": {
      "text/html": [
       "\n",
       "    <div>\n",
       "      \n",
       "      <progress value='45' max='45' style='width:300px; height:20px; vertical-align: middle;'></progress>\n",
       "      [45/45 02:29]\n",
       "    </div>\n",
       "    "
      ],
      "text/plain": [
       "<IPython.core.display.HTML object>"
      ]
     },
     "metadata": {},
     "output_type": "display_data"
    },
    {
     "name": "stdout",
     "output_type": "stream",
     "text": [
      "{'eval_loss': 0.40908780694007874, 'eval_runtime': 157.1696, 'eval_samples_per_second': 0.566, 'eval_steps_per_second': 0.286, 'epoch': 4.0}\n"
     ]
    },
    {
     "data": {
      "text/plain": [
       "('Models/nllb/nllb-finetuned-antico-moderno\\\\tokenizer_config.json',\n",
       " 'Models/nllb/nllb-finetuned-antico-moderno\\\\special_tokens_map.json',\n",
       " 'Models/nllb/nllb-finetuned-antico-moderno\\\\sentencepiece.bpe.model',\n",
       " 'Models/nllb/nllb-finetuned-antico-moderno\\\\added_tokens.json',\n",
       " 'Models/nllb/nllb-finetuned-antico-moderno\\\\tokenizer.json')"
      ]
     },
     "execution_count": 26,
     "metadata": {},
     "output_type": "execute_result"
    }
   ],
   "source": [
    "trainer.train()\n",
    "metrics = trainer.evaluate()\n",
    "print(metrics)\n",
    "model.save_pretrained(path_NNLB)\n",
    "tokenizer.save_pretrained(path_NNLB)"
   ]
  },
  {
   "cell_type": "markdown",
   "id": "d9d06ee6",
   "metadata": {},
   "source": [
    "# inference steps "
   ]
  },
  {
   "cell_type": "code",
   "execution_count": 28,
   "id": "c137c5d8",
   "metadata": {},
   "outputs": [
    {
     "data": {
      "text/html": [
       "<div>\n",
       "<style scoped>\n",
       "    .dataframe tbody tr th:only-of-type {\n",
       "        vertical-align: middle;\n",
       "    }\n",
       "\n",
       "    .dataframe tbody tr th {\n",
       "        vertical-align: top;\n",
       "    }\n",
       "\n",
       "    .dataframe thead th {\n",
       "        text-align: right;\n",
       "    }\n",
       "</style>\n",
       "<table border=\"1\" class=\"dataframe\">\n",
       "  <thead>\n",
       "    <tr style=\"text-align: right;\">\n",
       "      <th></th>\n",
       "      <th>Author</th>\n",
       "      <th>Date</th>\n",
       "      <th>Region</th>\n",
       "      <th>Sentence</th>\n",
       "    </tr>\n",
       "  </thead>\n",
       "  <tbody>\n",
       "    <tr>\n",
       "      <th>0</th>\n",
       "      <td>Brunetto Latini</td>\n",
       "      <td>1260-61</td>\n",
       "      <td>fior.</td>\n",
       "      <td>quella guerra ben fatta l' opera perché etc. E...</td>\n",
       "    </tr>\n",
       "    <tr>\n",
       "      <th>1</th>\n",
       "      <td>Bono Giamboni</td>\n",
       "      <td>1292</td>\n",
       "      <td>fior.</td>\n",
       "      <td>crudele, e di tutte le colpe pigli vendetta, c...</td>\n",
       "    </tr>\n",
       "    <tr>\n",
       "      <th>2</th>\n",
       "      <td>Valerio Massimo (red. V1</td>\n",
       "      <td>1336</td>\n",
       "      <td>fior.</td>\n",
       "      <td>Non d' altra forza d' animo fue ornato Ponzio ...</td>\n",
       "    </tr>\n",
       "    <tr>\n",
       "      <th>3</th>\n",
       "      <td>Lucano volg. (ed. Marinoni)</td>\n",
       "      <td>1330/40</td>\n",
       "      <td>prat.</td>\n",
       "      <td>Se questo piace a tutti e se 'l tempo hae biso...</td>\n",
       "    </tr>\n",
       "    <tr>\n",
       "      <th>4</th>\n",
       "      <td>Brunetto Latini</td>\n",
       "      <td>1260-61</td>\n",
       "      <td>fior.</td>\n",
       "      <td>Officio di questa arte pare che sia dicere app...</td>\n",
       "    </tr>\n",
       "  </tbody>\n",
       "</table>\n",
       "</div>"
      ],
      "text/plain": [
       "                        Author     Date Region  \\\n",
       "0              Brunetto Latini  1260-61  fior.   \n",
       "1                Bono Giamboni     1292  fior.   \n",
       "2     Valerio Massimo (red. V1     1336  fior.   \n",
       "3  Lucano volg. (ed. Marinoni)  1330/40  prat.   \n",
       "4              Brunetto Latini  1260-61  fior.   \n",
       "\n",
       "                                            Sentence  \n",
       "0  quella guerra ben fatta l' opera perché etc. E...  \n",
       "1  crudele, e di tutte le colpe pigli vendetta, c...  \n",
       "2  Non d' altra forza d' animo fue ornato Ponzio ...  \n",
       "3  Se questo piace a tutti e se 'l tempo hae biso...  \n",
       "4  Officio di questa arte pare che sia dicere app...  "
      ]
     },
     "execution_count": 28,
     "metadata": {},
     "output_type": "execute_result"
    }
   ],
   "source": [
    "df = pd.read_csv(dataset_cleaned_folder)\n",
    "df.head()"
   ]
  },
  {
   "cell_type": "code",
   "execution_count": null,
   "id": "7ab2a3d4",
   "metadata": {},
   "outputs": [
    {
     "name": "stderr",
     "output_type": "stream",
     "text": [
      "100%|██████████| 97/97 [01:11<00:00,  1.35it/s]\n"
     ]
    }
   ],
   "source": [
    "from tqdm import tqdm\n",
    "\n",
    "tokenizer = AutoTokenizer.from_pretrained(path_NNLB)\n",
    "model = AutoModelForSeq2SeqLM.from_pretrained(path_NNLB,\n",
    "    device_map=\"auto\")\n",
    "tokenizer.pad_token = tokenizer.eos_token\n",
    "model.eval().to(device)\n",
    "\n",
    "\n",
    "df[\"generated_translation\"] = \"\"\n",
    "\n",
    "# 3. Define translation function\n",
    "def traduci_seq_to_seq(s):\n",
    "    src_lang = \"ita_Latn\"\n",
    "    tgt_lang = \"ita_Latn\"\n",
    "\n",
    "    # imposta la lingua sorgente\n",
    "    tokenizer.src_lang = src_lang\n",
    "    inputs = tokenizer(s, return_tensors=\"pt\", truncation=True,max_length=384).to(model.device)\n",
    "    forced_bos_token_id = tokenizer.convert_tokens_to_ids(tgt_lang)\n",
    "    with torch.no_grad():\n",
    "        output = model.generate(\n",
    "            **inputs,\n",
    "            max_new_tokens=100,\n",
    "            temperature=0.7,\n",
    "            top_p=0.9,\n",
    "            do_sample=True,\n",
    "            use_cache=True,\n",
    "            num_beams=4,\n",
    "            forced_bos_token_id=forced_bos_token_id\n",
    "        )\n",
    "    return tokenizer.decode(output[0], skip_special_tokens=True)\n",
    "\n",
    "# 4. Process with progress bar\n",
    "results = []\n",
    "i =0\n",
    "for s in tqdm(df[\"Sentence\"].tolist()):\n",
    "    results.append(traduci_seq_to_seq(s))\n",
    "        \n",
    "df[\"generated_translation\"] = results\n",
    "\n",
    "\n",
    "os.makedirs(path_translations, exist_ok=True)\n",
    "# 5. Save result\n",
    "translation_file=path_translations+\"/dataset_with_translation_NNLB.csv\"\n",
    "df.to_csv(translation_file, index=False)"
   ]
  },
  {
   "cell_type": "code",
   "execution_count": 33,
   "id": "1726ac71",
   "metadata": {},
   "outputs": [
    {
     "data": {
      "text/html": [
       "<div>\n",
       "<style scoped>\n",
       "    .dataframe tbody tr th:only-of-type {\n",
       "        vertical-align: middle;\n",
       "    }\n",
       "\n",
       "    .dataframe tbody tr th {\n",
       "        vertical-align: top;\n",
       "    }\n",
       "\n",
       "    .dataframe thead th {\n",
       "        text-align: right;\n",
       "    }\n",
       "</style>\n",
       "<table border=\"1\" class=\"dataframe\">\n",
       "  <thead>\n",
       "    <tr style=\"text-align: right;\">\n",
       "      <th></th>\n",
       "      <th>Author</th>\n",
       "      <th>Date</th>\n",
       "      <th>Region</th>\n",
       "      <th>Sentence</th>\n",
       "      <th>generated_translation</th>\n",
       "    </tr>\n",
       "  </thead>\n",
       "  <tbody>\n",
       "    <tr>\n",
       "      <th>0</th>\n",
       "      <td>Brunetto Latini</td>\n",
       "      <td>1260-61</td>\n",
       "      <td>fior.</td>\n",
       "      <td>quella guerra ben fatta l' opera perché etc. E...</td>\n",
       "      <td>E d'altra parte, Aiaces era un cavaliere franc...</td>\n",
       "    </tr>\n",
       "    <tr>\n",
       "      <th>1</th>\n",
       "      <td>Bono Giamboni</td>\n",
       "      <td>1292</td>\n",
       "      <td>fior.</td>\n",
       "      <td>crudele, e di tutte le colpe pigli vendetta, c...</td>\n",
       "      <td>e vendichi ogni colpa, come dice la legge, e p...</td>\n",
       "    </tr>\n",
       "    <tr>\n",
       "      <th>2</th>\n",
       "      <td>Valerio Massimo (red. V1</td>\n",
       "      <td>1336</td>\n",
       "      <td>fior.</td>\n",
       "      <td>Non d' altra forza d' animo fue ornato Ponzio ...</td>\n",
       "      <td>Non è stata innamorata di altra forza di animo...</td>\n",
       "    </tr>\n",
       "    <tr>\n",
       "      <th>3</th>\n",
       "      <td>Lucano volg. (ed. Marinoni)</td>\n",
       "      <td>1330/40</td>\n",
       "      <td>prat.</td>\n",
       "      <td>Se questo piace a tutti e se 'l tempo hae biso...</td>\n",
       "      <td>Se questo gli piace a tutti e se il tempo gli ...</td>\n",
       "    </tr>\n",
       "    <tr>\n",
       "      <th>4</th>\n",
       "      <td>Brunetto Latini</td>\n",
       "      <td>1260-61</td>\n",
       "      <td>fior.</td>\n",
       "      <td>Officio di questa arte pare che sia dicere app...</td>\n",
       "      <td>Sembra che l'ufficio di questa arte sia dire i...</td>\n",
       "    </tr>\n",
       "  </tbody>\n",
       "</table>\n",
       "</div>"
      ],
      "text/plain": [
       "                        Author     Date Region  \\\n",
       "0              Brunetto Latini  1260-61  fior.   \n",
       "1                Bono Giamboni     1292  fior.   \n",
       "2     Valerio Massimo (red. V1     1336  fior.   \n",
       "3  Lucano volg. (ed. Marinoni)  1330/40  prat.   \n",
       "4              Brunetto Latini  1260-61  fior.   \n",
       "\n",
       "                                            Sentence  \\\n",
       "0  quella guerra ben fatta l' opera perché etc. E...   \n",
       "1  crudele, e di tutte le colpe pigli vendetta, c...   \n",
       "2  Non d' altra forza d' animo fue ornato Ponzio ...   \n",
       "3  Se questo piace a tutti e se 'l tempo hae biso...   \n",
       "4  Officio di questa arte pare che sia dicere app...   \n",
       "\n",
       "                               generated_translation  \n",
       "0  E d'altra parte, Aiaces era un cavaliere franc...  \n",
       "1  e vendichi ogni colpa, come dice la legge, e p...  \n",
       "2  Non è stata innamorata di altra forza di animo...  \n",
       "3  Se questo gli piace a tutti e se il tempo gli ...  \n",
       "4  Sembra che l'ufficio di questa arte sia dire i...  "
      ]
     },
     "execution_count": 33,
     "metadata": {},
     "output_type": "execute_result"
    }
   ],
   "source": [
    "df.head()"
   ]
  }
 ],
 "metadata": {
  "kernelspec": {
   "display_name": ".venv",
   "language": "python",
   "name": "python3"
  },
  "language_info": {
   "codemirror_mode": {
    "name": "ipython",
    "version": 3
   },
   "file_extension": ".py",
   "mimetype": "text/x-python",
   "name": "python",
   "nbconvert_exporter": "python",
   "pygments_lexer": "ipython3",
   "version": "3.11.5"
  }
 },
 "nbformat": 4,
 "nbformat_minor": 5
}

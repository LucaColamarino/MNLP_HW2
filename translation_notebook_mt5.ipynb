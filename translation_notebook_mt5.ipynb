{
 "cells": [
  {
   "cell_type": "markdown",
   "id": "e85d644d",
   "metadata": {},
   "source": [
    "# Import Libraries"
   ]
  },
  {
   "cell_type": "code",
   "execution_count": null,
   "id": "f3a2ab98",
   "metadata": {},
   "outputs": [],
   "source": [
    "from transformers import AutoTokenizer,BitsAndBytesConfig, MT5Config, AutoModelForCausalLM, pipeline,DataCollatorForSeq2Seq,EarlyStoppingCallback, TrainingArguments,AutoModelForSeq2SeqLM, Seq2SeqTrainer, Seq2SeqTrainingArguments,TrainerCallback, Trainer, DataCollatorForLanguageModeling, logging,MT5Tokenizer, MT5ForConditionalGeneration\n",
    "import pandas as pd\n",
    "import numpy as np\n",
    "from datasets import load_dataset\n",
    "import json\n",
    "from sklearn.metrics import cohen_kappa_score\n",
    "import torch\n",
    "from tqdm.notebook import tqdm\n",
    "import os\n",
    "from huggingface_hub import login\n",
    "import gc"
   ]
  },
  {
   "cell_type": "markdown",
   "id": "7f236bce",
   "metadata": {},
   "source": [
    "# Load Datasets"
   ]
  },
  {
   "cell_type": "code",
   "execution_count": null,
   "id": "12efda73",
   "metadata": {},
   "outputs": [],
   "source": [
    "#loading dataset for fine-tuning containing all samples with structure ('text':ancient sentence,'translation': modern translation sentence)\n",
    "dataset = load_dataset(\"csv\", data_files=\"./inputs/dataset_concatenato.csv\")[\"train\"]\n",
    "\n",
    "#dataset divided in training set and test set=0.3 \n",
    "dataset = dataset.train_test_split(test_size=0.3)\n",
    "\n",
    "# loading dataset di test (100 items)\n",
    "df = pd.read_csv(\"./inputs/dataset.csv\")\n",
    "df.head()"
   ]
  },
  {
   "cell_type": "code",
   "execution_count": null,
   "id": "3ad2cf50",
   "metadata": {},
   "outputs": [],
   "source": [
    "device = torch.device(\"cuda\" if torch.cuda.is_available() else \"cpu\")"
   ]
  },
  {
   "cell_type": "markdown",
   "id": "5735177d",
   "metadata": {},
   "source": [
    "# Loading model Multilingual T5 Base"
   ]
  },
  {
   "cell_type": "code",
   "execution_count": null,
   "id": "f16d6038",
   "metadata": {},
   "outputs": [],
   "source": [
    "#name of model\n",
    "model_name=\"google/mt5-base\"\n",
    "#loading of pre-treained model, mapped automatically on devices (GPU VRAM and RAM)  \n",
    "model =AutoModelForSeq2SeqLM.from_pretrained(model_name,device_map=\"auto\")\n",
    "#tokenizer of model mt5-base\n",
    "tokenizer = AutoTokenizer.from_pretrained(model_name,use_fast=False,legacy=True)\n",
    "\n",
    "#to avoid problem of padding, we insert the eos token like padding token and update teh configuration of pad and eos for model \n",
    "# (notes: the padding token is not a default config for mt5-base)\n",
    "tokenizer.pad_token = tokenizer.eos_token \n",
    "model.config.pad_token_id = tokenizer.pad_token_id\n",
    "model.config.eos_token_id = tokenizer.eos_token_id"
   ]
  },
  {
   "cell_type": "markdown",
   "id": "be85430d",
   "metadata": {},
   "source": [
    "# Creating path to save model"
   ]
  },
  {
   "cell_type": "code",
   "execution_count": null,
   "id": "0cc5768d",
   "metadata": {},
   "outputs": [],
   "source": [
    "#creating path directory where post-finetune model will be saved together the updated weights ecc...\n",
    "path_mt5=\"./Models/MT_5/finetune_ft5\"\n",
    "os.makedirs(path_mt5, exist_ok=True)\n",
    "\n",
    "#log path for every epoch \n",
    "path_log_mt5=path_mt5+\"/logs\"\n",
    "os.makedirs(path_log_mt5,exist_ok=True)\n"
   ]
  },
  {
   "cell_type": "markdown",
   "id": "cd1f800f",
   "metadata": {},
   "source": [
    "# Preprocessing and tokenize prompt and sentences for finetuning"
   ]
  },
  {
   "cell_type": "code",
   "execution_count": null,
   "id": "f5aad0e5",
   "metadata": {},
   "outputs": [],
   "source": [
    "#function that tokenizes prompt+senetences and labels of sentences\n",
    "def preprocess_tokenization_prompt(example):\n",
    "    #we formalize the instruction prompt for every sample sentence where sentence is \n",
    "    prompt=(\"Trasforma la seguente frase antica in italiano moderno, mantenendo il significato ma cambia le parole:\\n\"\n",
    "            f\"Testo antico: {example['text']}\" \n",
    "           )\n",
    "    \n",
    "    #tokenize input using max token 384 and to fill avery input with the padding and we cut the tokenized sentence if it overcomes the upperbound\n",
    "    model_input = tokenizer(prompt, max_length=384,padding=\"max_length\", truncation=True)\n",
    "    \n",
    "    #we repeat the same reasoning also for labels\n",
    "    labels=tokenizer(example[\"translation\"], max_length=384,padding=\"max_length\",truncation=True)\n",
    "\n",
    "    # we associated the corresponding tokenized labels to tokenized prompt\n",
    "    model_input[\"labels\"]=labels[\"input_ids\"]\n",
    "    return model_input\n",
    "\n",
    "# we build a tokenized dataset which is the mapping result of the training and test sample \n",
    "tokenized_dataset = {\n",
    "    \"train\": dataset[\"train\"].map(preprocess_tokenization_prompt, remove_columns=dataset[\"train\"].column_names),\n",
    "    \"test\": dataset[\"test\"].map(preprocess_tokenization_prompt, remove_columns=dataset[\"test\"].column_names)\n",
    "}\n"
   ]
  },
  {
   "cell_type": "markdown",
   "id": "65bf10ef",
   "metadata": {},
   "source": [
    "# Setup of Training arguments"
   ]
  },
  {
   "cell_type": "code",
   "execution_count": null,
   "id": "ed5c67e8",
   "metadata": {},
   "outputs": [],
   "source": [
    "#parameters of traininng for model seq to seq\n",
    "training_args = Seq2SeqTrainingArguments(\n",
    "\n",
    "    output_dir=path_mt5,    # output directory \n",
    "\n",
    "    eval_strategy=\"epoch\",  #evaluation of model every epoch\n",
    "\n",
    "    learning_rate=2e-4,     #stable learning rate of order e-4\n",
    "\n",
    "    gradient_accumulation_steps=4, # accumulation of gradients for 4 forward steps \n",
    "\n",
    "    per_device_train_batch_size=2, #batch training size 2\n",
    "    per_device_eval_batch_size=2, #batch test size 2\n",
    "\n",
    "    num_train_epochs=18,  # number of epochs for training\n",
    "\n",
    "    predict_with_generate=True,     # to generate sentence predictions during evaluation on validation set\n",
    "    metric_for_best_model=\"eval_loss\", # metric to evaluate the best model\n",
    "\n",
    "    greater_is_better=False, \n",
    "    logging_dir=path_log_mt5, # directory for logging\n",
    "    logging_strategy=\"epoch\",  # logging strategy for every epoch\n",
    "    \n",
    "    report_to=\"none\", \n",
    "    \n",
    "    fp16=False, \n",
    "    seed=42,         # seed for reproducibility\n",
    "    weight_decay=0.05,      # weight decay for regularization to avodi overfitting \n",
    "    generation_max_length=384  # maximum length of generated sentences\n",
    ")\n",
    "\n",
    "#data collator for seq2seq model that pads the input and labels to the maximum length of the batch it also sets the label_pad_token_id to -100 to ignore padding tokens in the loss calculation\n",
    "data_collator = DataCollatorForSeq2Seq(tokenizer, model=model,label_pad_token_id=-100) \n",
    "\n",
    "# we define the trainer for seq2seq model with the model, training arguments, train and test dataset, data collator and tokenizer   \n",
    "trainer = Seq2SeqTrainer(\n",
    "    model=model,\n",
    "    args=training_args,\n",
    "    train_dataset=tokenized_dataset[\"train\"],\n",
    "    eval_dataset=tokenized_dataset[\"test\"],\n",
    "    data_collator=data_collator,\n",
    "    tokenizer=tokenizer   \n",
    ")"
   ]
  },
  {
   "cell_type": "markdown",
   "id": "cbf76f11",
   "metadata": {},
   "source": [
    "# Fine tune of model"
   ]
  },
  {
   "cell_type": "code",
   "execution_count": null,
   "id": "21c3d864",
   "metadata": {},
   "outputs": [],
   "source": [
    "trainer.train() #start training of model \n",
    "model.save_pretrained(path_mt5) # save the model weights and configuration\n",
    "tokenizer.save_pretrained(path_mt5) # save the tokenizer configuration and vocabulary"
   ]
  },
  {
   "cell_type": "markdown",
   "id": "d9cfad82",
   "metadata": {},
   "source": [
    "# Inference of fine-tuned model"
   ]
  },
  {
   "cell_type": "code",
   "execution_count": null,
   "id": "471db041",
   "metadata": {},
   "outputs": [],
   "source": [
    "# reload the tokenizer from the saved path\n",
    "tokenizer = AutoTokenizer.from_pretrained(path_mt5,use_fast=False,legacy=True)  \n",
    "\n",
    "# load the model from the saved path\n",
    "model = AutoModelForSeq2SeqLM.from_pretrained(path_mt5,\n",
    "    device_map=\"auto\")\n",
    "\n",
    "# set the model to evaluation mode and move it to the appropriate device (GPU or CPU)\n",
    "model.eval().to(device)\n",
    "# we create a new column in the dataframe to store the generated translations into \n",
    "df[\"generated_translation\"] = \"\"    \n",
    "\n",
    "# function to translate ancient sentences to modern Italian using the fine-tuned mT5 model\n",
    "def traduci_mt5(example):\n",
    "\n",
    "    prompt=(\"Trasforma la seguente frase antica in italiano moderno, mantenendo il significato ma cambia le parole:\\n\"\n",
    "            f\"Testo antico: {example}\" \n",
    "           )\n",
    "    # tokenize the prompt and input sentence, truncating to a maximum length of 384 tokens\n",
    "    inputs = tokenizer(prompt, return_tensors=\"pt\",truncation=True,max_length=384).to(model.device)\n",
    "\n",
    "    with torch.no_grad():\n",
    "        # generate the translation using the model\n",
    "        output = model.generate(\n",
    "            **inputs,\n",
    "            max_new_tokens=150, # maximum number of new tokens to generate\n",
    "            do_sample=False,    # disable sampling to generate deterministic outputs\n",
    "            num_beams=4,        # use beam search with 4 beams for better quality\n",
    "            use_cache=True,    # enable caching to speed up generation\n",
    "            early_stopping=True,  # stop generation when all beams finish\n",
    "            pad_token_id=tokenizer.pad_token_id, # set padding token ID to avoid errors during generation\n",
    "            eos_token_id=tokenizer.eos_token_id   # set end-of-sequence token ID to signal the end of generation\n",
    "        )\n",
    "    \n",
    "    return  tokenizer.decode(output[0], skip_special_tokens=True).strip() \n",
    "\n",
    "# we create a list to store the generated translations\n",
    "results = []\n",
    "i =0\n",
    "for s in tqdm(df[\"Sentence\"].tolist()):\n",
    "    results.append(traduci_mt5(s))\n",
    "\n",
    "# we update the CSV file with the generated translations  \"dataset.csv\"\n",
    "df[\"generated_translation\"] = results\n",
    "\n",
    "path_translations=\"./outputs\"\n",
    "\n",
    "os.makedirs(path_translations, exist_ok=True)\n",
    "# Save result\n",
    "translation_file=path_translations+\"/dataset_with_mT5_translations.csv\"\n",
    "# Save the dataframe with translations to a CSV file \"dataset.csv\"\n",
    "df.to_csv(translation_file, index=False)"
   ]
  }
 ],
 "metadata": {
  "kernelspec": {
   "display_name": "Libraries",
   "language": "python",
   "name": "python3"
  },
  "language_info": {
   "codemirror_mode": {
    "name": "ipython",
    "version": 3
   },
   "file_extension": ".py",
   "mimetype": "text/x-python",
   "name": "python",
   "nbconvert_exporter": "python",
   "pygments_lexer": "ipython3",
   "version": "3.12.3"
  }
 },
 "nbformat": 4,
 "nbformat_minor": 5
}

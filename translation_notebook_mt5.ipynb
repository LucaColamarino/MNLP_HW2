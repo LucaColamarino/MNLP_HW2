{
 "cells": [
  {
   "cell_type": "markdown",
   "id": "e85d644d",
   "metadata": {},
   "source": [
    "# Import Libraries"
   ]
  },
  {
   "cell_type": "code",
   "execution_count": 1,
   "id": "f3a2ab98",
   "metadata": {},
   "outputs": [
    {
     "name": "stderr",
     "output_type": "stream",
     "text": [
      "The cache for model files in Transformers v4.22.0 has been updated. Migrating your old cache. This is a one-time only operation. You can interrupt this and resume the migration later on by calling `transformers.utils.move_cache()`.\n"
     ]
    },
    {
     "data": {
      "application/vnd.jupyter.widget-view+json": {
       "model_id": "8246e067c9f940ca82bcfc4e782e196b",
       "version_major": 2,
       "version_minor": 0
      },
      "text/plain": [
       "0it [00:00, ?it/s]"
      ]
     },
     "metadata": {},
     "output_type": "display_data"
    },
    {
     "name": "stderr",
     "output_type": "stream",
     "text": [
      "2025-06-07 09:33:42.195633: E external/local_xla/xla/stream_executor/cuda/cuda_fft.cc:477] Unable to register cuFFT factory: Attempting to register factory for plugin cuFFT when one has already been registered\n",
      "WARNING: All log messages before absl::InitializeLog() is called are written to STDERR\n",
      "E0000 00:00:1749281622.951709   11025 cuda_dnn.cc:8310] Unable to register cuDNN factory: Attempting to register factory for plugin cuDNN when one has already been registered\n",
      "E0000 00:00:1749281623.262350   11025 cuda_blas.cc:1418] Unable to register cuBLAS factory: Attempting to register factory for plugin cuBLAS when one has already been registered\n",
      "2025-06-07 09:33:46.054601: I tensorflow/core/platform/cpu_feature_guard.cc:210] This TensorFlow binary is optimized to use available CPU instructions in performance-critical operations.\n",
      "To enable the following instructions: AVX2 FMA, in other operations, rebuild TensorFlow with the appropriate compiler flags.\n"
     ]
    }
   ],
   "source": [
    "from transformers import AutoTokenizer,BitsAndBytesConfig, MT5Config, AutoModelForCausalLM, pipeline,DataCollatorForSeq2Seq,EarlyStoppingCallback, TrainingArguments,AutoModelForSeq2SeqLM, Seq2SeqTrainer, Seq2SeqTrainingArguments,TrainerCallback, Trainer, DataCollatorForLanguageModeling, logging,MT5Tokenizer, MT5ForConditionalGeneration\n",
    "import pandas as pd\n",
    "import numpy as np\n",
    "from datasets import load_dataset\n",
    "import json\n",
    "from sklearn.metrics import cohen_kappa_score\n",
    "import torch\n",
    "from tqdm.notebook import tqdm\n",
    "import os\n",
    "from huggingface_hub import login\n",
    "import gc"
   ]
  },
  {
   "cell_type": "markdown",
   "id": "7f236bce",
   "metadata": {},
   "source": [
    "# Load Datasets"
   ]
  },
  {
   "cell_type": "code",
   "execution_count": null,
   "id": "12efda73",
   "metadata": {},
   "outputs": [],
   "source": [
    "#loading dataset for fine-tuning of Multilingual T5-Base\n",
    "dataset = load_dataset(\"csv\", data_files=\"/kaggle/input/datasetfinetune/dataset_concatenato.csv\")[\"train\"]\n",
    "dataset = dataset.train_test_split(test_size=0.3)\n",
    "# loading dataset di test \n",
    "df = pd.read_csv(\"/kaggle/input/dataset-test/dataset.csv\")\n",
    "df.head()"
   ]
  },
  {
   "cell_type": "code",
   "execution_count": null,
   "id": "3ad2cf50",
   "metadata": {},
   "outputs": [],
   "source": [
    "device = torch.device(\"cuda\" if torch.cuda.is_available() else \"cpu\")"
   ]
  },
  {
   "cell_type": "markdown",
   "id": "5735177d",
   "metadata": {},
   "source": [
    "# Loading model Multilingual T5 Base"
   ]
  },
  {
   "cell_type": "code",
   "execution_count": null,
   "id": "f16d6038",
   "metadata": {},
   "outputs": [],
   "source": [
    "model_name=\"google/mt5-base\"\n",
    "model =AutoModelForSeq2SeqLM.from_pretrained(model_name,device_map=\"auto\")\n",
    "tokenizer = AutoTokenizer.from_pretrained(model_name,use_fast=False,legacy=True)\n",
    "#to avoid problem of padding\n",
    "tokenizer.pad_token = tokenizer.eos_token \n",
    "model.config.pad_token_id = tokenizer.pad_token_id\n",
    "model.config.eos_token_id = tokenizer.eos_token_id"
   ]
  },
  {
   "cell_type": "markdown",
   "id": "be85430d",
   "metadata": {},
   "source": [
    "# Creating path to save model"
   ]
  },
  {
   "cell_type": "code",
   "execution_count": null,
   "id": "0cc5768d",
   "metadata": {},
   "outputs": [],
   "source": [
    "path_mt5=\"/kaggle/working/finetune_ft5\"\n",
    "os.makedirs(path_mt5, exist_ok=True)\n",
    "path_log_mt5=path_mt5+\"/logs\"\n",
    "os.makedirs(path_log_mt5,exist_ok=True)\n"
   ]
  },
  {
   "cell_type": "markdown",
   "id": "cd1f800f",
   "metadata": {},
   "source": [
    "# Preprocessing and tokenize prompt and sentences for finetuning"
   ]
  },
  {
   "cell_type": "code",
   "execution_count": null,
   "id": "f5aad0e5",
   "metadata": {},
   "outputs": [],
   "source": [
    "def preprocess_tokenization_prompt(example):\n",
    "    prompt=(\"Trasforma la seguente frase antica in italiano moderno, mantenendo il significato.\\n\"\n",
    "            f\"Testo antico: {example['text']}\" \n",
    "           )\n",
    "    model_input = tokenizer(prompt, max_length=384,padding=\"max_length\", truncation=True)\n",
    "    labels=tokenizer(example[\"translation\"], max_length=384,padding=\"max_length\",truncation=True)\n",
    "    model_input[\"labels\"]=labels[\"input_ids\"]\n",
    "    return model_input\n",
    "\n",
    "\n",
    "tokenized_dataset = {\n",
    "    \"train\": dataset[\"train\"].map(preprocess_tokenization_prompt, remove_columns=dataset[\"train\"].column_names),\n",
    "    \"test\": dataset[\"test\"].map(preprocess_tokenization_prompt, remove_columns=dataset[\"test\"].column_names)\n",
    "}\n"
   ]
  },
  {
   "cell_type": "markdown",
   "id": "65bf10ef",
   "metadata": {},
   "source": [
    "# Setup of Training arguments"
   ]
  },
  {
   "cell_type": "code",
   "execution_count": null,
   "id": "ed5c67e8",
   "metadata": {},
   "outputs": [],
   "source": [
    "training_args = Seq2SeqTrainingArguments(\n",
    "    output_dir=path_mt5,\n",
    "    eval_strategy=\"epoch\",\n",
    "    learning_rate=2e-4,\n",
    "    gradient_accumulation_steps=4,\n",
    "    per_device_train_batch_size=2,\n",
    "    per_device_eval_batch_size=2,\n",
    "    num_train_epochs=15,\n",
    "    predict_with_generate=True,    \n",
    "    metric_for_best_model=\"eval_loss\",\n",
    "    greater_is_better=False,\n",
    "    report_to=\"none\",\n",
    "    fp16=False,\n",
    "    seed=42,\n",
    "    weight_decay=0.05,\n",
    "    generation_max_length=384,\n",
    "    generation_num_beams=4\n",
    ")\n",
    "data_collator = DataCollatorForSeq2Seq(tokenizer, model=model,label_pad_token_id=-100)\n",
    "trainer = Seq2SeqTrainer(\n",
    "    model=model,\n",
    "    args=training_args,\n",
    "    train_dataset=tokenized_dataset[\"train\"],\n",
    "    eval_dataset=tokenized_dataset[\"test\"],\n",
    "    data_collator=data_collator,\n",
    "    tokenizer=tokenizer   \n",
    ")"
   ]
  },
  {
   "cell_type": "markdown",
   "id": "cbf76f11",
   "metadata": {},
   "source": [
    "# Fine tune of model"
   ]
  },
  {
   "cell_type": "code",
   "execution_count": null,
   "id": "21c3d864",
   "metadata": {},
   "outputs": [],
   "source": [
    "trainer.train()\n",
    "model.save_pretrained(path_mt5)\n",
    "tokenizer.save_pretrained(path_mt5)"
   ]
  },
  {
   "cell_type": "markdown",
   "id": "d9cfad82",
   "metadata": {},
   "source": [
    "# Inference of model"
   ]
  },
  {
   "cell_type": "code",
   "execution_count": null,
   "id": "471db041",
   "metadata": {},
   "outputs": [],
   "source": [
    "tokenizer = AutoTokenizer.from_pretrained(path_mt5,use_fast=False,legacy=True)\n",
    "model = AutoModelForSeq2SeqLM.from_pretrained(path_mt5,\n",
    "    device_map=\"auto\")\n",
    "\n",
    "tokenizer.pad_token = tokenizer.eos_token\n",
    "model.config.pad_token_id = tokenizer.pad_token_id\n",
    "model.config.eos_token_id = tokenizer.eos_token_id\n",
    "model.eval().to(device)\n",
    "\n",
    "df[\"generated_translation\"] = \"\"\n",
    "# \"\"\n",
    "def traduci_mt5(example):\n",
    "    prompt=(\"Trasforma la seguente frase antica in italiano moderno, mantenendo il significato.\\n\"\n",
    "            f\"Testo antico: {example}\" \n",
    "           )\n",
    "    inputs = tokenizer(prompt, return_tensors=\"pt\",truncation=True,max_length=384).to(model.device)\n",
    "    with torch.no_grad():\n",
    "        output = model.generate(\n",
    "            **inputs,\n",
    "            max_new_tokens=100,\n",
    "            temperature=0.7,\n",
    "            top_p=0.9,\n",
    "            do_sample=True,\n",
    "            num_beams=4,\n",
    "            use_cache=True,\n",
    "            early_stopping=True\n",
    "        )\n",
    "    return  tokenizer.decode(output[0], skip_special_tokens=True).strip()\n",
    "    \n",
    "results = []\n",
    "i =0\n",
    "for s in tqdm(df[\"Sentence\"].tolist()):\n",
    "    results.append(traduci_mt5(s))\n",
    "        \n",
    "df[\"generated_translation\"] = results\n",
    "\n",
    "path_translations=\"/kaggle/working/translations\"\n",
    "os.makedirs(path_translations, exist_ok=True)\n",
    "# 5. Save result\n",
    "translation_file=path_translations+\"dataset_with_translation_ft5.csv\"\n",
    "df.to_csv(translation_file, index=False)"
   ]
  }
 ],
 "metadata": {
  "kernelspec": {
   "display_name": "Libraries",
   "language": "python",
   "name": "python3"
  },
  "language_info": {
   "codemirror_mode": {
    "name": "ipython",
    "version": 3
   },
   "file_extension": ".py",
   "mimetype": "text/x-python",
   "name": "python",
   "nbconvert_exporter": "python",
   "pygments_lexer": "ipython3",
   "version": "3.12.3"
  }
 },
 "nbformat": 4,
 "nbformat_minor": 5
}
